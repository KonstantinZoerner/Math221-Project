{
 "cells": [
  {
   "cell_type": "code",
   "execution_count": 46,
   "id": "cea19797",
   "metadata": {},
   "outputs": [
    {
     "name": "stdout",
     "output_type": "stream",
     "text": [
      "Requirement already satisfied: medmnist in /Users/konstantinzorner/opt/anaconda3/lib/python3.9/site-packages (3.0.2)\n",
      "Requirement already satisfied: numpy in /Users/konstantinzorner/opt/anaconda3/lib/python3.9/site-packages (from medmnist) (1.26.4)\n",
      "Requirement already satisfied: pandas in /Users/konstantinzorner/opt/anaconda3/lib/python3.9/site-packages (from medmnist) (2.1.1)\n",
      "Requirement already satisfied: scikit-learn in /Users/konstantinzorner/opt/anaconda3/lib/python3.9/site-packages (from medmnist) (1.2.2)\n",
      "Requirement already satisfied: scikit-image in /Users/konstantinzorner/opt/anaconda3/lib/python3.9/site-packages (from medmnist) (0.24.0)\n",
      "Requirement already satisfied: tqdm in /Users/konstantinzorner/opt/anaconda3/lib/python3.9/site-packages (from medmnist) (4.65.0)\n",
      "Requirement already satisfied: Pillow in /Users/konstantinzorner/opt/anaconda3/lib/python3.9/site-packages (from medmnist) (10.2.0)\n",
      "Requirement already satisfied: fire in /Users/konstantinzorner/opt/anaconda3/lib/python3.9/site-packages (from medmnist) (0.7.0)\n",
      "Requirement already satisfied: torch in /Users/konstantinzorner/opt/anaconda3/lib/python3.9/site-packages (from medmnist) (2.2.2)\n",
      "Requirement already satisfied: torchvision in /Users/konstantinzorner/opt/anaconda3/lib/python3.9/site-packages (from medmnist) (0.17.2)\n",
      "Requirement already satisfied: termcolor in /Users/konstantinzorner/opt/anaconda3/lib/python3.9/site-packages (from fire->medmnist) (2.1.0)\n",
      "Requirement already satisfied: python-dateutil>=2.8.2 in /Users/konstantinzorner/opt/anaconda3/lib/python3.9/site-packages (from pandas->medmnist) (2.8.2)\n",
      "Requirement already satisfied: pytz>=2020.1 in /Users/konstantinzorner/opt/anaconda3/lib/python3.9/site-packages (from pandas->medmnist) (2023.3.post1)\n",
      "Requirement already satisfied: tzdata>=2022.1 in /Users/konstantinzorner/opt/anaconda3/lib/python3.9/site-packages (from pandas->medmnist) (2023.3)\n",
      "Requirement already satisfied: scipy>=1.9 in /Users/konstantinzorner/opt/anaconda3/lib/python3.9/site-packages (from scikit-image->medmnist) (1.11.3)\n",
      "Requirement already satisfied: networkx>=2.8 in /Users/konstantinzorner/opt/anaconda3/lib/python3.9/site-packages (from scikit-image->medmnist) (3.1)\n",
      "Requirement already satisfied: imageio>=2.33 in /Users/konstantinzorner/opt/anaconda3/lib/python3.9/site-packages (from scikit-image->medmnist) (2.36.1)\n",
      "Requirement already satisfied: tifffile>=2022.8.12 in /Users/konstantinzorner/opt/anaconda3/lib/python3.9/site-packages (from scikit-image->medmnist) (2024.8.30)\n",
      "Requirement already satisfied: packaging>=21 in /Users/konstantinzorner/opt/anaconda3/lib/python3.9/site-packages (from scikit-image->medmnist) (23.2)\n",
      "Requirement already satisfied: lazy-loader>=0.4 in /Users/konstantinzorner/opt/anaconda3/lib/python3.9/site-packages (from scikit-image->medmnist) (0.4)\n",
      "Requirement already satisfied: joblib>=1.1.1 in /Users/konstantinzorner/opt/anaconda3/lib/python3.9/site-packages (from scikit-learn->medmnist) (1.2.0)\n",
      "Requirement already satisfied: threadpoolctl>=2.0.0 in /Users/konstantinzorner/opt/anaconda3/lib/python3.9/site-packages (from scikit-learn->medmnist) (2.2.0)\n",
      "Requirement already satisfied: filelock in /Users/konstantinzorner/opt/anaconda3/lib/python3.9/site-packages (from torch->medmnist) (3.13.1)\n",
      "Requirement already satisfied: typing-extensions>=4.8.0 in /Users/konstantinzorner/opt/anaconda3/lib/python3.9/site-packages (from torch->medmnist) (4.9.0)\n",
      "Requirement already satisfied: sympy in /Users/konstantinzorner/opt/anaconda3/lib/python3.9/site-packages (from torch->medmnist) (1.12)\n",
      "Requirement already satisfied: jinja2 in /Users/konstantinzorner/opt/anaconda3/lib/python3.9/site-packages (from torch->medmnist) (3.1.3)\n",
      "Requirement already satisfied: fsspec in /Users/konstantinzorner/opt/anaconda3/lib/python3.9/site-packages (from torch->medmnist) (2024.10.0)\n",
      "Requirement already satisfied: six>=1.5 in /Users/konstantinzorner/opt/anaconda3/lib/python3.9/site-packages (from python-dateutil>=2.8.2->pandas->medmnist) (1.16.0)\n",
      "Requirement already satisfied: MarkupSafe>=2.0 in /Users/konstantinzorner/opt/anaconda3/lib/python3.9/site-packages (from jinja2->torch->medmnist) (2.1.3)\n",
      "Requirement already satisfied: mpmath>=0.19 in /Users/konstantinzorner/opt/anaconda3/lib/python3.9/site-packages (from sympy->torch->medmnist) (1.3.0)\n"
     ]
    }
   ],
   "source": [
    "!pip install medmnist"
   ]
  },
  {
   "cell_type": "code",
   "execution_count": 3,
   "id": "2821a399",
   "metadata": {},
   "outputs": [],
   "source": [
    "from tqdm import tqdm\n",
    "import numpy as np\n",
    "import torch\n",
    "import torch.nn as nn\n",
    "import torch.optim as optim\n",
    "import torch.utils.data as data\n",
    "import torchvision.transforms as transforms\n",
    "\n",
    "import medmnist\n",
    "from medmnist import INFO, Evaluator"
   ]
  },
  {
   "cell_type": "code",
   "execution_count": 4,
   "id": "66ea6f9b",
   "metadata": {},
   "outputs": [
    {
     "name": "stdout",
     "output_type": "stream",
     "text": [
      "MedMNIST v3.0.1 @ https://github.com/MedMNIST/MedMNIST/\n"
     ]
    }
   ],
   "source": [
    "print(f\"MedMNIST v{medmnist.__version__} @ {medmnist.HOMEPAGE}\")"
   ]
  },
  {
   "cell_type": "code",
   "execution_count": 5,
   "id": "f974a166",
   "metadata": {},
   "outputs": [],
   "source": [
    "data_flag = 'breastmnist'\n",
    "# data_flag = 'breastmnist'\n",
    "download = True\n",
    "\n",
    "NUM_EPOCHS = 3\n",
    "BATCH_SIZE = 128\n",
    "lr = 0.001\n",
    "\n",
    "info = INFO[data_flag]\n",
    "task = info['task']\n",
    "n_channels = info['n_channels']\n",
    "n_classes = len(info['label'])\n",
    "\n",
    "DataClass = getattr(medmnist, info['python_class'])"
   ]
  },
  {
   "cell_type": "code",
   "execution_count": 6,
   "id": "91b4ee80",
   "metadata": {},
   "outputs": [
    {
     "name": "stdout",
     "output_type": "stream",
     "text": [
      "Using downloaded and verified file: /Users/yuqi/.medmnist/breastmnist_224.npz\n"
     ]
    }
   ],
   "source": [
    "# preprocessing\n",
    "data_transform = transforms.Compose([\n",
    "    transforms.ToTensor(),\n",
    "    transforms.Normalize(mean=[.5], std=[.5])\n",
    "])\n",
    "\n",
    "# load the data\n",
    "train_dataset = DataClass(split='train', transform=data_transform, download=download,size=224)\n",
    "#test_dataset = DataClass(split='test', transform=data_transform, download=download)\n",
    "\n",
    "#pil_dataset = DataClass(split='train', download=download)\n",
    "\n",
    "# encapsulate data into dataloader form\n",
    "train_loader = data.DataLoader(dataset=train_dataset, batch_size=BATCH_SIZE, shuffle=True)\n",
    "train_loader_at_eval = data.DataLoader(dataset=train_dataset, batch_size=2*BATCH_SIZE, shuffle=False)\n",
    "#test_loader = data.DataLoader(dataset=test_dataset, batch_size=2*BATCH_SIZE, shuffle=False)"
   ]
  },
  {
   "cell_type": "code",
   "execution_count": 7,
   "id": "494fc373",
   "metadata": {},
   "outputs": [
    {
     "name": "stdout",
     "output_type": "stream",
     "text": [
      "Dataset BreastMNIST of size 224 (breastmnist_224)\n",
      "    Number of datapoints: 546\n",
      "    Root location: /Users/yuqi/.medmnist\n",
      "    Split: train\n",
      "    Task: binary-class\n",
      "    Number of channels: 1\n",
      "    Meaning of labels: {'0': 'malignant', '1': 'normal, benign'}\n",
      "    Number of samples: {'train': 546, 'val': 78, 'test': 156}\n",
      "    Description: The BreastMNIST is based on a dataset of 780 breast ultrasound images. It is categorized into 3 classes: normal, benign, and malignant. As we use low-resolution images, we simplify the task into binary classification by combining normal and benign as positive and classifying them against malignant as negative. We split the source dataset with a ratio of 7:1:2 into training, validation and test set. The source images of 1×500×500 are resized into 1×28×28.\n",
      "    License: CC BY 4.0\n",
      "===================\n"
     ]
    }
   ],
   "source": [
    "print(train_dataset)\n",
    "print(\"===================\")\n"
   ]
  },
  {
   "cell_type": "markdown",
   "id": "397f9609",
   "metadata": {},
   "source": [
    "# We first compare their singular values"
   ]
  },
  {
   "cell_type": "markdown",
   "id": "c2c0f17d",
   "metadata": {},
   "source": [
    "## We first use standard SVD to check their singular values"
   ]
  },
  {
   "cell_type": "code",
   "execution_count": 8,
   "id": "7608e94d",
   "metadata": {},
   "outputs": [],
   "source": [
    "from sketching_methods.SVD import standard_svd\n",
    "svd_standards=[]\n",
    "singular_values=[]\n",
    "x_train=[]\n",
    "y_train=[]\n",
    "for data in train_dataset:\n",
    "    x,y=data\n",
    "    x_train.append(np.array(x[0]))\n",
    "    y_train.append(np.array(y))\n",
    "    svd_standard,singular_value=standard_svd(x[0])\n",
    "    svd_standards.append(svd_standard)\n",
    "    singular_values.append(singular_value)\n",
    "    "
   ]
  },
  {
   "cell_type": "code",
   "execution_count": 9,
   "id": "22b9727c",
   "metadata": {},
   "outputs": [],
   "source": [
    "x_train=np.array(x_train)\n",
    "y_train=np.array(y_train)"
   ]
  },
  {
   "cell_type": "code",
   "execution_count": 10,
   "id": "20b60ec3",
   "metadata": {},
   "outputs": [
    {
     "name": "stdout",
     "output_type": "stream",
     "text": [
      "(546, 224, 224)\n"
     ]
    }
   ],
   "source": [
    "print(x_train.shape)"
   ]
  },
  {
   "cell_type": "code",
   "execution_count": 11,
   "id": "e33b5510",
   "metadata": {},
   "outputs": [],
   "source": [
    "svd_standards=np.array(svd_standards)\n",
    "singular_values=np.array(singular_values)"
   ]
  },
  {
   "cell_type": "markdown",
   "id": "6dcdaf8f",
   "metadata": {},
   "source": [
    "## then we try our first sketching matrix"
   ]
  },
  {
   "cell_type": "code",
   "execution_count": 11,
   "id": "6cb58d80",
   "metadata": {},
   "outputs": [
    {
     "name": "stdout",
     "output_type": "stream",
     "text": [
      "Looking in indexes: https://pypi.tuna.tsinghua.edu.cn/simple, https://pypi.ngc.nvidia.com\n",
      "Requirement already satisfied: utils in /Users/yuqi/miniconda3/envs/d2l/lib/python3.10/site-packages (1.0.2)\n"
     ]
    }
   ],
   "source": [
    "!pip install utils"
   ]
  },
  {
   "cell_type": "code",
   "execution_count": 12,
   "id": "2c92685c",
   "metadata": {},
   "outputs": [],
   "source": [
    "#we try to do it in another way\n",
    "import numpy as np\n",
    "from scipy.linalg import svd\n",
    "from numpy.linalg import qr\n",
    "\n",
    "def randomized_svd(A, k, random_matrix,p=5, n_iter=2):\n",
    "    \"\"\"\n",
    "    Perform Randomized SVD on matrix A.\n",
    "    \n",
    "    Parameters:\n",
    "        A: ndarray, shape (m, n)\n",
    "           Input matrix to decompose.\n",
    "        k: int\n",
    "           Target rank (number of singular values/vectors to compute).\n",
    "        p: int, optional (default=5)\n",
    "           Oversampling parameter to improve approximation accuracy.\n",
    "        n_iter: int, optional (default=2)\n",
    "           Number of iterations for power iteration (improves accuracy).\n",
    "           \n",
    "    Returns:\n",
    "        U: ndarray, shape (m, k)\n",
    "           Approximated left singular vectors.\n",
    "        S: ndarray, shape (k,)\n",
    "           Approximated singular values.\n",
    "        V: ndarray, shape (k, n)\n",
    "           Approximated right singular vectors.\n",
    "    \"\"\"\n",
    "    # Step 1: Random sampling\n",
    "    A=A.astype(np.float64)\n",
    "    m, n = A.shape\n",
    "   \n",
    "    Y = A @ random_matrix\n",
    "\n",
    "    # Step 2: Power iteration (optional, improves accuracy for ill-conditioned matrices)\n",
    "    for _ in range(n_iter):\n",
    "        Y = A @ (A.T @ Y)\n",
    "\n",
    "    # Step 3: QR decomposition\n",
    "    Q, _ = qr(Y, mode='reduced')\n",
    "    \n",
    "\n",
    "    # Step 4: Project matrix to lower-dimensional space\n",
    "    B = Q.T @ A\n",
    "\n",
    "    # Step 5: Compute SVD on the smaller matrix\n",
    "    U_tilde, S, Vt = svd(B, full_matrices=False)\n",
    "\n",
    "    # Step 6: Reconstruct the left singular vectors\n",
    "    U = Q @ U_tilde\n",
    "\n",
    "    return U[:, :k], S[:k], Vt[:k, :]\n"
   ]
  },
  {
   "cell_type": "markdown",
   "id": "6f954757",
   "metadata": {},
   "source": [
    "## Uniform Sketching Matrices"
   ]
  },
  {
   "cell_type": "code",
   "execution_count": null,
   "id": "2eee1717",
   "metadata": {},
   "outputs": [],
   "source": [
    "\n",
    "from sketching_methods.sketching import uniform_sketching_matrix\n",
    "Errors_size_uniform=[]\n",
    "for sketch_size in range(30,170,10):\n",
    "    uniform_matrices=[]\n",
    "    for _ in range (len(train_dataset)):\n",
    "        uniform_matrix=uniform_sketching_matrix(224, sketch_size)\n",
    "        uniform_matrices.append(uniform_matrix)\n",
    "    #Turn the matrix into array\n",
    "    uniform_matrices=np.array(uniform_matrices)\n",
    "    U_randoms=[]\n",
    "    S_randoms=[]\n",
    "    V_randoms=[]\n",
    "    for i in range(len(train_dataset)):\n",
    "        U_random,S_random,V_random=randomized_svd(x_train[i],sketch_size,uniform_matrices[i],3)\n",
    "        U_randoms.append(U_random)\n",
    "        S_randoms.append(S_random)\n",
    "        V_randoms.append(V_random)\n",
    "    #Compute relevant Error\n",
    "    Errors_uniform=[]\n",
    "    for i in range(len(train_dataset)):\n",
    "        approx_uniform=U_randoms[i]@np.diag(S_randoms[i])@V_randoms[i]\n",
    "        Errors_uniform.append(np.linalg.norm(approx_uniform-x_train[i],'fro')**2/np.linalg.norm(x_train[i],'fro')**2)\n",
    "#Errors into nparray\n",
    "    Errors_uniform=np.array(Errors_uniform)\n",
    "    Errors_size_uniform.append(np.mean(Errors_uniform))\n"
   ]
  },
  {
   "cell_type": "markdown",
   "id": "09393971",
   "metadata": {},
   "source": [
    "## Gaussian Sketching matrices"
   ]
  },
  {
   "cell_type": "code",
   "execution_count": 15,
   "id": "4d8ff0f6",
   "metadata": {},
   "outputs": [],
   "source": [
    "from sketching_methods.sketching import gaussian_sketching_matrix\n",
    "Errors_gaussian_sketch=[]\n",
    "for sketch_size in range(30,170,10):\n",
    "    gaussian_matrices=[]\n",
    "    for i in range (len(train_dataset)):\n",
    "        gaussian_matrix=gaussian_sketching_matrix(224, sketch_size)\n",
    "        gaussian_matrices.append(gaussian_matrix)\n",
    "    gaussian_matrices=np.array(gaussian_matrices)\n",
    "    # we conduct the same experiment\n",
    "    U_gaussians=[]\n",
    "    S_gaussians=[]\n",
    "    V_gaussians=[]\n",
    "    for i in range(len(train_dataset)):\n",
    "        U_gaussian,S_gaussian,V_gaussian=randomized_svd(x_train[i],sketch_size,gaussian_matrices[i],3)\n",
    "        U_gaussians.append(U_gaussian)\n",
    "        S_gaussians.append(S_gaussian)\n",
    "        V_gaussians.append(V_gaussian)\n",
    "    #turn them into nparray\n",
    "    U_gaussians=np.array(U_gaussians)\n",
    "    S_gaussians=np.array(S_gaussians)\n",
    "    V_gaussians=np.array(V_gaussians)\n",
    "    #Compute relevant Error\n",
    "    Errors_gaussian=0\n",
    "    for i in range(len(train_dataset)):\n",
    "        approx_gaussian=U_gaussians[i]@np.diag(S_gaussians[i])@V_gaussians[i]\n",
    "        Errors_gaussian+=np.linalg.norm(approx_gaussian-x_train[i],'fro')**2/np.linalg.norm(x_train[i],'fro')**2\n",
    "    Errors_gaussian_sketch.append(Errors_gaussian/546)\n",
    "    \n"
   ]
  },
  {
   "cell_type": "markdown",
   "id": "54995622",
   "metadata": {},
   "source": [
    "## Radamecher Sketching Matrices"
   ]
  },
  {
   "cell_type": "markdown",
   "id": "f0d46efb",
   "metadata": {},
   "source": []
  },
  {
   "cell_type": "code",
   "execution_count": 20,
   "id": "0524d627",
   "metadata": {},
   "outputs": [],
   "source": [
    "\n",
    "from sketching_methods.sketching import rademacher_sketch_matrix\n",
    "errors_sketch_rademacher=[]\n",
    "for sketch_size in range(30,170,10):\n",
    "    rademacher_matrices=[]\n",
    "    for j in range(len(train_dataset)):\n",
    "        rademacher_matrix=rademacher_sketch_matrix(224, sketch_size)\n",
    "        rademacher_matrices.append(rademacher_matrix)\n",
    "    rademacher_matrices=np.array(rademacher_matrices)\n",
    "    # we conduct the same experiment\n",
    "    U_rademachers=[]\n",
    "    S_rademachers=[]\n",
    "    V_rademachers=[]\n",
    "    for i in range(len(train_dataset)):\n",
    "        U_rademacher,S_rademacher,V_rademacher=randomized_svd(x_train[i],sketch_size,rademacher_matrices[i],3)\n",
    "        U_rademachers.append(U_rademacher)\n",
    "        S_rademachers.append(S_rademacher)\n",
    "        V_rademachers.append(V_rademacher)\n",
    "    U_rademachers=np.array(U_rademachers)\n",
    "    S_rademachers=np.array(S_rademachers)\n",
    "    V_rademachers=np.array(V_rademachers)\n",
    "    #Compute relevant Error\n",
    "    Errors_rademacher=0\n",
    "    for i in range(len(train_dataset)):\n",
    "        approx_rademacher=U_rademachers[i]@np.diag(S_rademachers[i])@V_rademachers[i]\n",
    "        Errors_rademacher+=np.linalg.norm(approx_rademacher-x_train[i],'fro')**2/np.linalg.norm(x_train[i],'fro')**2\n",
    "    errors_sketch_rademacher.append(Errors_rademacher/546)\n",
    "    "
   ]
  },
  {
   "cell_type": "markdown",
   "id": "abcae2a9",
   "metadata": {},
   "source": [
    "## Johnson-Linderstrauss Transform Code"
   ]
  },
  {
   "cell_type": "code",
   "execution_count": 19,
   "id": "c86cfe3a",
   "metadata": {},
   "outputs": [],
   "source": [
    "\n",
    "import sys\n",
    "import os\n",
    "sys.path.append(os.path.abspath('.'))\n",
    "\n",
    "from sketching_methods.jlt.linearMapping import calculate_R\n",
    "errors_JLT_sketch=[]\n",
    "for sketch_size in range(30,170,10):\n",
    "    JLT_matrices=[]\n",
    "    for i in range(len(train_dataset)):\n",
    "        JLT_matrix=calculate_R(224,k=sketch_size,s=1,random_seed=21,swr=True)\n",
    "        JLT_matrices.append(JLT_matrix)\n",
    "    #Turn it into arrays\n",
    "    JLT_matrices=np.array(JLT_matrices)\n",
    "    # we conduct the same experiment to do random SVD\n",
    "    U_JLTs=[]\n",
    "    S_JLTs=[]\n",
    "    V_JLTs=[]\n",
    "    for i in range(len(train_dataset)):\n",
    "        U_JLT,S_JLT,V_JLT=randomized_svd(x_train[i],sketch_size,JLT_matrices[i].toarray().T,3)\n",
    "        U_JLTs.append(U_JLT)\n",
    "        S_JLTs.append(S_JLT)\n",
    "        V_JLTs.append(V_JLT)\n",
    "    U_JLTs=np.array(U_JLTs)\n",
    "    S_JLTs=np.array(S_JLTs)\n",
    "    V_JLTs=np.array(V_JLTs)\n",
    "    #Compute relevant Error\n",
    "    Errors_JLT=0\n",
    "    for i in range(len(x_train)):\n",
    "        approx_JLT=U_JLTs[i]@np.diag(S_JLTs[i])@V_JLTs[i]\n",
    "        Errors_JLT+=np.linalg.norm(approx_JLT-x_train[i],'fro')**2/np.linalg.norm(x_train[i],'fro')**2\n",
    "    #Turn it into an array\n",
    "    errors_JLT_sketch.append(Errors_JLT/546)\n"
   ]
  },
  {
   "cell_type": "markdown",
   "id": "5c7347d5",
   "metadata": {},
   "source": [
    "## Clarkson_Woodruff"
   ]
  },
  {
   "cell_type": "code",
   "execution_count": 22,
   "id": "0eee6a71",
   "metadata": {},
   "outputs": [],
   "source": [
    "from sketching_methods.sketching import cwt_sketch_matrix\n",
    "Errors_cwt_sketch=[]\n",
    "for sketch_size in range(30,170,10):\n",
    "    cwt_sketch_matrices=[]\n",
    "    for _ in range(len(train_dataset)):\n",
    "        cwt_matrix=cwt_sketch_matrix(224,sketch_size,rng=None)\n",
    "        cwt_sketch_matrices.append(cwt_matrix)\n",
    "    # we conduct the same experiment to do random SVD\n",
    "    U_cwts=[]\n",
    "    S_cwts=[]\n",
    "    V_cwts=[]\n",
    "    for i in range(len(train_dataset)):\n",
    "        U_cwt,S_cwt,V_cwt=randomized_svd(x_train[i],sketch_size,cwt_sketch_matrices[i],3)\n",
    "        U_cwts.append(U_cwt)\n",
    "        S_cwts.append(S_cwt)\n",
    "        V_cwts.append(V_cwt)\n",
    "    U_cwts=np.array(U_cwts)\n",
    "    S_cwts=np.array(S_cwts)\n",
    "    V_cwts=np.array(V_cwts)\n",
    "    #Compute Relative Error\n",
    "    Errors_cwt=0\n",
    "    for i in range(len(train_dataset)):\n",
    "        approx_cwt=U_cwts[i]@np.diag(S_cwts[i])@V_cwts[i]\n",
    "        Errors_cwt+=np.linalg.norm(approx_cwt-x_train[i],'fro')**2/np.linalg.norm(x_train[i],'fro')**2\n",
    "    Errors_cwt_sketch.append(Errors_cwt/546)"
   ]
  },
  {
   "cell_type": "markdown",
   "id": "8da27091",
   "metadata": {},
   "source": [
    "## SRFT Transform"
   ]
  },
  {
   "cell_type": "code",
   "execution_count": 24,
   "id": "de63ee54",
   "metadata": {},
   "outputs": [],
   "source": [
    "#SJLT Transform\n",
    "\n",
    "from sketching_methods.sketching  import sparse_sign_embedding_sketch_matrix\n",
    "Errors_SRFT_sketch=[]\n",
    "for sketch_size in range(30,170,10):\n",
    "    SRFT_matrices=[]\n",
    "    for _ in range(len(train_dataset)):\n",
    "        SRFT_matrix=sparse_sign_embedding_sketch_matrix(sketch_size,224)\n",
    "        SRFT_matrices.append(SRFT_matrix)\n",
    "    SRFT_matrices=np.array(SRFT_matrices)\n",
    "    U_SRFTs=[]\n",
    "    S_SRFTs=[]\n",
    "    V_SRFTs=[]\n",
    "    for i in range(len(train_dataset)):\n",
    "        U_SRFT,S_SRFT,V_SRFT=randomized_svd(x_train[i],sketch_size,SRFT_matrices[i].T,3)\n",
    "        U_SRFTs.append(U_SRFT)\n",
    "        S_SRFTs.append(S_SRFT)\n",
    "        V_SRFTs.append(V_SRFT)\n",
    "    U_SRFTs=np.array(U_SRFTs)\n",
    "    S_SRFTs=np.array(S_SRFTs)\n",
    "    V_SRFTs=np.array(V_SRFTs)\n",
    "    #Compute Relative Error\n",
    "#Compute Relative Error\n",
    "    Errors_SRFTs=0\n",
    "    for i in range(len(train_dataset)):\n",
    "        approx_SRFT=U_SRFTs[i]@np.diag(S_SRFTs[i])@V_SRFTs[i]\n",
    "        Errors_SRFTs+=np.linalg.norm(approx_SRFT-x_train[i],'fro')**2/np.linalg.norm(x_train[i],'fro')**2\n",
    "    Errors_SRFT_sketch.append(Errors_SRFTs/546)\n",
    "    \n",
    "    \n"
   ]
  },
  {
   "cell_type": "markdown",
   "id": "7570458f",
   "metadata": {},
   "source": [
    "## Hadarmard Transform\n"
   ]
  },
  {
   "cell_type": "markdown",
   "id": "d61e6396",
   "metadata": {},
   "source": [
    "# Visualization"
   ]
  },
  {
   "cell_type": "code",
   "execution_count": 26,
   "id": "79ab58aa",
   "metadata": {},
   "outputs": [
    {
     "data": {
      "text/plain": [
       "[<matplotlib.lines.Line2D at 0x31d141540>]"
      ]
     },
     "execution_count": 26,
     "metadata": {},
     "output_type": "execute_result"
    },
    {
     "data": {
      "image/png": "[encoded data removed]",
      "text/plain": [
       "<Figure size 1000x600 with 1 Axes>"
      ]
     },
     "metadata": {},
     "output_type": "display_data"
    }
   ],
   "source": [
    "import matplotlib.pyplot as plt\n",
    "plt.figure(figsize=(10, 6))\n",
    "plt.plot(range(30,170,10), Errors_gaussian_sketch, label='gaussian')\n",
    "plt.plot(range(30,170,10), Errors_SRFT_sketch, label='SRFT')"
   ]
  },
  {
   "cell_type": "markdown",
   "id": "086b3e67",
   "metadata": {},
   "source": [
    "## Standard SVD"
   ]
  },
  {
   "cell_type": "code",
   "execution_count": 47,
   "id": "7193330a",
   "metadata": {},
   "outputs": [],
   "source": [
    "# Let's check their condition number\n",
    "Condition_number=[]\n",
    "result_svd=[]\n",
    "for i in range(len(x_train)):\n",
    "    S,V,D=svd(x_train[i],full_matrices=False)\n",
    "    approx_svd=S[:,:12]@np.diag(V[:12])@D[:12,:]\n",
    "    result_svd.append(approx_svd)\n",
    "    condition=V[0]/V[-1]\n",
    "    Condition_number.append(condition)"
   ]
  },
  {
   "cell_type": "code",
   "execution_count": 18,
   "id": "c409bbcb",
   "metadata": {},
   "outputs": [
    {
     "data": {
      "image/png": "[encoded data removed]",
      "text/plain": [
       "<Figure size 640x480 with 1 Axes>"
      ]
     },
     "metadata": {},
     "output_type": "display_data"
    }
   ],
   "source": [
    "plt.hist(Condition_number, bins=30, color='skyblue', edgecolor='black', alpha=0.7)\n",
    "\n",
    "# 添加标题和标签\n",
    "plt.title('Distribution of Condition Numbers in BreastMNIST')\n",
    "plt.xlabel('condition number')\n",
    "plt.ylabel('times')\n",
    "\n",
    "# 显示图形\n",
    "plt.show()\n"
   ]
  },
  {
   "cell_type": "code",
   "execution_count": 50,
   "id": "51e9f00e",
   "metadata": {},
   "outputs": [
    {
     "name": "stdout",
     "output_type": "stream",
     "text": [
      "mean 214174.42\n",
      "median 7550.501\n",
      "std 2092977.5\n",
      "var 4380555000000.0\n",
      "min 647.31476\n",
      "max 37453104.0\n",
      "percentile [ 3532.62408447  7550.50073242 19286.70947266]\n"
     ]
    }
   ],
   "source": [
    "print('mean',np.mean(Condition_number))\n",
    "print('median',np.median(Condition_number))         # 中位数\n",
    "print('std',np.std(Condition_number))           # 标准差\n",
    "print('var',np.var(Condition_number))          # 方差\n",
    "print('min',np.min(Condition_number))           # 最小值\n",
    "print('max',np.max(Condition_number))           # 最大值\n",
    "print('percentile',np.percentile(Condition_number, [25, 50, 75]))  # 四分位数"
   ]
  },
  {
   "cell_type": "code",
   "execution_count": 20,
   "id": "691bb230",
   "metadata": {},
   "outputs": [
    {
     "data": {
      "text/plain": [
       "647.31476"
      ]
     },
     "execution_count": 20,
     "metadata": {},
     "output_type": "execute_result"
    }
   ],
   "source": [
    "np.min(Condition_number)"
   ]
  },
  {
   "cell_type": "code",
   "execution_count": 21,
   "id": "bb55ab5a",
   "metadata": {},
   "outputs": [
    {
     "data": {
      "text/plain": [
       "37453104.0"
      ]
     },
     "execution_count": 21,
     "metadata": {},
     "output_type": "execute_result"
    }
   ],
   "source": [
    "np.max(Condition_number)"
   ]
  },
  {
   "cell_type": "code",
   "execution_count": null,
   "id": "26de50ef",
   "metadata": {},
   "outputs": [],
   "source": []
  }
 ],
 "metadata": {
  "kernelspec": {
   "display_name": "d2l",
   "language": "python",
   "name": "python3"
  },
  "language_info": {
   "codemirror_mode": {
    "name": "ipython",
    "version": 3
   },
   "file_extension": ".py",
   "mimetype": "text/x-python",
   "name": "python",
   "nbconvert_exporter": "python",
   "pygments_lexer": "ipython3",
   "version": "3.10.8"
  }
 },
 "nbformat": 4,
 "nbformat_minor": 5
}

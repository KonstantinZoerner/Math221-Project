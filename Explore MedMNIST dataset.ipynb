{
 "cells": [
  {
   "cell_type": "code",
   "execution_count": 46,
   "id": "cea19797",
   "metadata": {},
   "outputs": [
    {
     "name": "stdout",
     "output_type": "stream",
     "text": [
      "Requirement already satisfied: medmnist in /Users/konstantinzorner/opt/anaconda3/lib/python3.9/site-packages (3.0.2)\n",
      "Requirement already satisfied: numpy in /Users/konstantinzorner/opt/anaconda3/lib/python3.9/site-packages (from medmnist) (1.26.4)\n",
      "Requirement already satisfied: pandas in /Users/konstantinzorner/opt/anaconda3/lib/python3.9/site-packages (from medmnist) (2.1.1)\n",
      "Requirement already satisfied: scikit-learn in /Users/konstantinzorner/opt/anaconda3/lib/python3.9/site-packages (from medmnist) (1.2.2)\n",
      "Requirement already satisfied: scikit-image in /Users/konstantinzorner/opt/anaconda3/lib/python3.9/site-packages (from medmnist) (0.24.0)\n",
      "Requirement already satisfied: tqdm in /Users/konstantinzorner/opt/anaconda3/lib/python3.9/site-packages (from medmnist) (4.65.0)\n",
      "Requirement already satisfied: Pillow in /Users/konstantinzorner/opt/anaconda3/lib/python3.9/site-packages (from medmnist) (10.2.0)\n",
      "Requirement already satisfied: fire in /Users/konstantinzorner/opt/anaconda3/lib/python3.9/site-packages (from medmnist) (0.7.0)\n",
      "Requirement already satisfied: torch in /Users/konstantinzorner/opt/anaconda3/lib/python3.9/site-packages (from medmnist) (2.2.2)\n",
      "Requirement already satisfied: torchvision in /Users/konstantinzorner/opt/anaconda3/lib/python3.9/site-packages (from medmnist) (0.17.2)\n",
      "Requirement already satisfied: termcolor in /Users/konstantinzorner/opt/anaconda3/lib/python3.9/site-packages (from fire->medmnist) (2.1.0)\n",
      "Requirement already satisfied: python-dateutil>=2.8.2 in /Users/konstantinzorner/opt/anaconda3/lib/python3.9/site-packages (from pandas->medmnist) (2.8.2)\n",
      "Requirement already satisfied: pytz>=2020.1 in /Users/konstantinzorner/opt/anaconda3/lib/python3.9/site-packages (from pandas->medmnist) (2023.3.post1)\n",
      "Requirement already satisfied: tzdata>=2022.1 in /Users/konstantinzorner/opt/anaconda3/lib/python3.9/site-packages (from pandas->medmnist) (2023.3)\n",
      "Requirement already satisfied: scipy>=1.9 in /Users/konstantinzorner/opt/anaconda3/lib/python3.9/site-packages (from scikit-image->medmnist) (1.11.3)\n",
      "Requirement already satisfied: networkx>=2.8 in /Users/konstantinzorner/opt/anaconda3/lib/python3.9/site-packages (from scikit-image->medmnist) (3.1)\n",
      "Requirement already satisfied: imageio>=2.33 in /Users/konstantinzorner/opt/anaconda3/lib/python3.9/site-packages (from scikit-image->medmnist) (2.36.1)\n",
      "Requirement already satisfied: tifffile>=2022.8.12 in /Users/konstantinzorner/opt/anaconda3/lib/python3.9/site-packages (from scikit-image->medmnist) (2024.8.30)\n",
      "Requirement already satisfied: packaging>=21 in /Users/konstantinzorner/opt/anaconda3/lib/python3.9/site-packages (from scikit-image->medmnist) (23.2)\n",
      "Requirement already satisfied: lazy-loader>=0.4 in /Users/konstantinzorner/opt/anaconda3/lib/python3.9/site-packages (from scikit-image->medmnist) (0.4)\n",
      "Requirement already satisfied: joblib>=1.1.1 in /Users/konstantinzorner/opt/anaconda3/lib/python3.9/site-packages (from scikit-learn->medmnist) (1.2.0)\n",
      "Requirement already satisfied: threadpoolctl>=2.0.0 in /Users/konstantinzorner/opt/anaconda3/lib/python3.9/site-packages (from scikit-learn->medmnist) (2.2.0)\n",
      "Requirement already satisfied: filelock in /Users/konstantinzorner/opt/anaconda3/lib/python3.9/site-packages (from torch->medmnist) (3.13.1)\n",
      "Requirement already satisfied: typing-extensions>=4.8.0 in /Users/konstantinzorner/opt/anaconda3/lib/python3.9/site-packages (from torch->medmnist) (4.9.0)\n",
      "Requirement already satisfied: sympy in /Users/konstantinzorner/opt/anaconda3/lib/python3.9/site-packages (from torch->medmnist) (1.12)\n",
      "Requirement already satisfied: jinja2 in /Users/konstantinzorner/opt/anaconda3/lib/python3.9/site-packages (from torch->medmnist) (3.1.3)\n",
      "Requirement already satisfied: fsspec in /Users/konstantinzorner/opt/anaconda3/lib/python3.9/site-packages (from torch->medmnist) (2024.10.0)\n",
      "Requirement already satisfied: six>=1.5 in /Users/konstantinzorner/opt/anaconda3/lib/python3.9/site-packages (from python-dateutil>=2.8.2->pandas->medmnist) (1.16.0)\n",
      "Requirement already satisfied: MarkupSafe>=2.0 in /Users/konstantinzorner/opt/anaconda3/lib/python3.9/site-packages (from jinja2->torch->medmnist) (2.1.3)\n",
      "Requirement already satisfied: mpmath>=0.19 in /Users/konstantinzorner/opt/anaconda3/lib/python3.9/site-packages (from sympy->torch->medmnist) (1.3.0)\n"
     ]
    }
   ],
   "source": [
    "!pip install medmnist"
   ]
  },
  {
   "cell_type": "code",
   "execution_count": 47,
   "id": "2821a399",
   "metadata": {},
   "outputs": [],
   "source": [
    "from tqdm import tqdm\n",
    "import numpy as np\n",
    "import torch\n",
    "import torch.nn as nn\n",
    "import torch.optim as optim\n",
    "import torch.utils.data as data\n",
    "import torchvision.transforms as transforms\n",
    "\n",
    "import medmnist\n",
    "from medmnist import INFO, Evaluator"
   ]
  },
  {
   "cell_type": "code",
   "execution_count": 48,
   "id": "66ea6f9b",
   "metadata": {},
   "outputs": [
    {
     "name": "stdout",
     "output_type": "stream",
     "text": [
      "MedMNIST v3.0.2 @ https://github.com/MedMNIST/MedMNIST/\n"
     ]
    }
   ],
   "source": [
    "print(f\"MedMNIST v{medmnist.__version__} @ {medmnist.HOMEPAGE}\")"
   ]
  },
  {
   "cell_type": "code",
   "execution_count": 49,
   "id": "f974a166",
   "metadata": {},
   "outputs": [],
   "source": [
    "data_flag = 'breastmnist'\n",
    "# data_flag = 'breastmnist'\n",
    "download = True\n",
    "\n",
    "NUM_EPOCHS = 3\n",
    "BATCH_SIZE = 128\n",
    "lr = 0.001\n",
    "\n",
    "info = INFO[data_flag]\n",
    "task = info['task']\n",
    "n_channels = info['n_channels']\n",
    "n_classes = len(info['label'])\n",
    "\n",
    "DataClass = getattr(medmnist, info['python_class'])"
   ]
  },
  {
   "cell_type": "code",
   "execution_count": 50,
   "id": "91b4ee80",
   "metadata": {},
   "outputs": [
    {
     "name": "stdout",
     "output_type": "stream",
     "text": [
      "Using downloaded and verified file: /Users/konstantinzorner/.medmnist/breastmnist.npz\n",
      "Using downloaded and verified file: /Users/konstantinzorner/.medmnist/breastmnist.npz\n",
      "Using downloaded and verified file: /Users/konstantinzorner/.medmnist/breastmnist.npz\n"
     ]
    }
   ],
   "source": [
    "# preprocessing\n",
    "data_transform = transforms.Compose([\n",
    "    transforms.ToTensor(),\n",
    "    transforms.Normalize(mean=[.5], std=[.5])\n",
    "])\n",
    "\n",
    "# load the data\n",
    "train_dataset = DataClass(split='train', transform=data_transform, download=download)\n",
    "test_dataset = DataClass(split='test', transform=data_transform, download=download)\n",
    "\n",
    "pil_dataset = DataClass(split='train', download=download)\n",
    "\n",
    "# encapsulate data into dataloader form\n",
    "train_loader = data.DataLoader(dataset=train_dataset, batch_size=BATCH_SIZE, shuffle=True)\n",
    "train_loader_at_eval = data.DataLoader(dataset=train_dataset, batch_size=2*BATCH_SIZE, shuffle=False)\n",
    "test_loader = data.DataLoader(dataset=test_dataset, batch_size=2*BATCH_SIZE, shuffle=False)"
   ]
  },
  {
   "cell_type": "code",
   "execution_count": 51,
   "id": "494fc373",
   "metadata": {},
   "outputs": [
    {
     "name": "stdout",
     "output_type": "stream",
     "text": [
      "Dataset BreastMNIST of size 28 (breastmnist)\n",
      "    Number of datapoints: 546\n",
      "    Root location: /Users/konstantinzorner/.medmnist\n",
      "    Split: train\n",
      "    Task: binary-class\n",
      "    Number of channels: 1\n",
      "    Meaning of labels: {'0': 'malignant', '1': 'normal, benign'}\n",
      "    Number of samples: {'train': 546, 'val': 78, 'test': 156}\n",
      "    Description: The BreastMNIST is based on a dataset of 780 breast ultrasound images. It is categorized into 3 classes: normal, benign, and malignant. As we use low-resolution images, we simplify the task into binary classification by combining normal and benign as positive and classifying them against malignant as negative. We split the source dataset with a ratio of 7:1:2 into training, validation and test set. The source images of 1×500×500 are resized into 1×28×28.\n",
      "    License: CC BY 4.0\n",
      "===================\n",
      "Dataset BreastMNIST of size 28 (breastmnist)\n",
      "    Number of datapoints: 156\n",
      "    Root location: /Users/konstantinzorner/.medmnist\n",
      "    Split: test\n",
      "    Task: binary-class\n",
      "    Number of channels: 1\n",
      "    Meaning of labels: {'0': 'malignant', '1': 'normal, benign'}\n",
      "    Number of samples: {'train': 546, 'val': 78, 'test': 156}\n",
      "    Description: The BreastMNIST is based on a dataset of 780 breast ultrasound images. It is categorized into 3 classes: normal, benign, and malignant. As we use low-resolution images, we simplify the task into binary classification by combining normal and benign as positive and classifying them against malignant as negative. We split the source dataset with a ratio of 7:1:2 into training, validation and test set. The source images of 1×500×500 are resized into 1×28×28.\n",
      "    License: CC BY 4.0\n"
     ]
    }
   ],
   "source": [
    "print(train_dataset)\n",
    "print(\"===================\")\n",
    "print(test_dataset)"
   ]
  },
  {
   "cell_type": "markdown",
   "id": "397f9609",
   "metadata": {},
   "source": [
    "# We first compare their singular values"
   ]
  },
  {
   "cell_type": "markdown",
   "id": "c2c0f17d",
   "metadata": {},
   "source": [
    "## We first use standard SVD to check their singular values"
   ]
  },
  {
   "cell_type": "code",
   "execution_count": 52,
   "id": "7608e94d",
   "metadata": {},
   "outputs": [],
   "source": [
    "from sketching_methods.SVD import standard_svd\n",
    "svd_standards=[]\n",
    "singular_values=[]\n",
    "x_train=[]\n",
    "y_train=[]\n",
    "for data in train_dataset:\n",
    "    x,y=data\n",
    "    x_train.append(np.array(x[0]))\n",
    "    y_train.append(np.array(y))\n",
    "    svd_standard,singular_value=standard_svd(x[0])\n",
    "    svd_standards.append(svd_standard)\n",
    "    singular_values.append(singular_value)\n",
    "    "
   ]
  },
  {
   "cell_type": "code",
   "execution_count": 53,
   "id": "22b9727c",
   "metadata": {},
   "outputs": [],
   "source": [
    "x_train=np.array(x_train)\n",
    "y_train=np.array(y_train)"
   ]
  },
  {
   "cell_type": "code",
   "execution_count": 54,
   "id": "20b60ec3",
   "metadata": {},
   "outputs": [
    {
     "name": "stdout",
     "output_type": "stream",
     "text": [
      "(546, 28, 28)\n"
     ]
    }
   ],
   "source": [
    "print(x_train.shape)"
   ]
  },
  {
   "cell_type": "code",
   "execution_count": 55,
   "id": "e33b5510",
   "metadata": {},
   "outputs": [],
   "source": [
    "svd_standards=np.array(svd_standards)\n",
    "singular_values=np.array(singular_values)"
   ]
  },
  {
   "cell_type": "markdown",
   "id": "6dcdaf8f",
   "metadata": {},
   "source": [
    "## then we try our first sketching matrix"
   ]
  },
  {
   "cell_type": "code",
   "execution_count": null,
   "metadata": {},
   "outputs": [],
   "source": []
  },
  {
   "cell_type": "code",
   "execution_count": null,
   "id": "6cb58d80",
   "metadata": {},
   "outputs": [
    {
     "name": "stdout",
     "output_type": "stream",
     "text": [
      "Requirement already satisfied: utils in /Users/konstantinzorner/opt/anaconda3/lib/python3.9/site-packages (1.0.2)\n"
     ]
    }
   ],
   "source": [
    "!pip install utils"
   ]
  },
  {
   "cell_type": "markdown",
   "id": "6f954757",
   "metadata": {},
   "source": [
    "## Uniform Sketching Matrices"
   ]
  },
  {
   "cell_type": "code",
   "execution_count": 57,
   "id": "2eee1717",
   "metadata": {},
   "outputs": [],
   "source": [
    "uniform_matrices=[]\n",
    "from sketching_methods.sketching import uniform_sketching_matrix\n",
    "for _ in range (len(train_dataset)):\n",
    "    uniform_matrix=uniform_sketching_matrix(28, 12)\n",
    "    uniform_matrices.append(uniform_matrix)\n"
   ]
  },
  {
   "cell_type": "code",
   "execution_count": 58,
   "id": "8d7bdb79",
   "metadata": {},
   "outputs": [],
   "source": [
    "#Turn the matrix into array\n",
    "uniform_matrices=np.array(uniform_matrices)"
   ]
  },
  {
   "cell_type": "code",
   "execution_count": 59,
   "id": "835026c3",
   "metadata": {},
   "outputs": [],
   "source": [
    "#we try to do it in another way\n",
    "import numpy as np\n",
    "from scipy.linalg import svd\n",
    "from numpy.linalg import qr\n",
    "\n",
    "def randomized_svd(A, k, random_matrix,p=5, n_iter=2):\n",
    "    \"\"\"\n",
    "    Perform Randomized SVD on matrix A.\n",
    "    \n",
    "    Parameters:\n",
    "        A: ndarray, shape (m, n)\n",
    "           Input matrix to decompose.\n",
    "        k: int\n",
    "           Target rank (number of singular values/vectors to compute).\n",
    "        p: int, optional (default=5)\n",
    "           Oversampling parameter to improve approximation accuracy.\n",
    "        n_iter: int, optional (default=2)\n",
    "           Number of iterations for power iteration (improves accuracy).\n",
    "           \n",
    "    Returns:\n",
    "        U: ndarray, shape (m, k)\n",
    "           Approximated left singular vectors.\n",
    "        S: ndarray, shape (k,)\n",
    "           Approximated singular values.\n",
    "        V: ndarray, shape (k, n)\n",
    "           Approximated right singular vectors.\n",
    "    \"\"\"\n",
    "    # Step 1: Random sampling\n",
    "    A=A.astype(np.float64)\n",
    "    m, n = A.shape\n",
    "   \n",
    "    Y = A @ random_matrix\n",
    "\n",
    "    # Step 2: Power iteration (optional, improves accuracy for ill-conditioned matrices)\n",
    "    for _ in range(n_iter):\n",
    "        Y = A @ (A.T @ Y)\n",
    "\n",
    "    # Step 3: QR decomposition\n",
    "    Q, _ = qr(Y, mode='reduced')\n",
    "    \n",
    "\n",
    "    # Step 4: Project matrix to lower-dimensional space\n",
    "    B = Q.T @ A\n",
    "\n",
    "    # Step 5: Compute SVD on the smaller matrix\n",
    "    U_tilde, S, Vt = svd(B, full_matrices=False)\n",
    "\n",
    "    # Step 6: Reconstruct the left singular vectors\n",
    "    U = Q @ U_tilde\n",
    "\n",
    "    return U[:, :k], S[:k], Vt[:k, :]\n"
   ]
  },
  {
   "cell_type": "code",
   "execution_count": 60,
   "id": "99aa399c",
   "metadata": {},
   "outputs": [],
   "source": [
    "U_randoms=[]\n",
    "S_randoms=[]\n",
    "V_randoms=[]\n",
    "for i in range(len(train_dataset)):\n",
    "    U_random,S_random,V_random=randomized_svd(x_train[i],12,uniform_matrices[i],3)\n",
    "    U_randoms.append(U_random)\n",
    "    S_randoms.append(S_random)\n",
    "    V_randoms.append(V_random)\n"
   ]
  },
  {
   "cell_type": "code",
   "execution_count": 61,
   "id": "aaa599ba",
   "metadata": {},
   "outputs": [],
   "source": [
    "U_randoms=np.array(U_randoms)\n",
    "S_randoms=np.array(S_randoms)\n",
    "V_randoms=np.array(V_randoms)"
   ]
  },
  {
   "cell_type": "code",
   "execution_count": 62,
   "id": "9c92ef0f",
   "metadata": {},
   "outputs": [],
   "source": [
    "#Compute relevant Error\n",
    "Errors_uniform=[]\n",
    "for i in range(len(train_dataset)):\n",
    "    approx_uniform=U_randoms[i]@np.diag(S_randoms[i])@V_randoms[i]\n",
    "    Errors_uniform.append(np.linalg.norm(approx_uniform-x_train[i],'fro')**2/np.linalg.norm(x_train[i],'fro')**2)\n"
   ]
  },
  {
   "cell_type": "code",
   "execution_count": 63,
   "id": "45df8276",
   "metadata": {},
   "outputs": [],
   "source": [
    "#Errors into nparray\n",
    "Errors_uniform=np.array(Errors_uniform)"
   ]
  },
  {
   "cell_type": "markdown",
   "id": "09393971",
   "metadata": {},
   "source": [
    "## Gaussian Sketching matrices"
   ]
  },
  {
   "cell_type": "code",
   "execution_count": 64,
   "id": "4d8ff0f6",
   "metadata": {},
   "outputs": [],
   "source": [
    "gaussian_matrices=[]\n",
    "from sketching_methods.sketching import gaussian_sketching_matrix\n",
    "for i in range (len(train_dataset)):\n",
    "    gaussian_matrix=gaussian_sketching_matrix(28, 12)\n",
    "    gaussian_matrices.append(gaussian_matrix)"
   ]
  },
  {
   "cell_type": "code",
   "execution_count": 65,
   "id": "1cb39a61",
   "metadata": {},
   "outputs": [],
   "source": [
    "#Turn into nparray\n",
    "gaussian_matrices=np.array(gaussian_matrices)"
   ]
  },
  {
   "cell_type": "code",
   "execution_count": 66,
   "id": "1c7e0ce2",
   "metadata": {},
   "outputs": [],
   "source": [
    "# we conduct the same experiment\n",
    "U_gaussians=[]\n",
    "S_gaussians=[]\n",
    "V_gaussians=[]\n",
    "for i in range(len(train_dataset)):\n",
    "    U_gaussian,S_gaussian,V_gaussian=randomized_svd(x_train[i],12,gaussian_matrices[i],3)\n",
    "    U_gaussians.append(U_gaussian)\n",
    "    S_gaussians.append(S_gaussian)\n",
    "    V_gaussians.append(V_gaussian)"
   ]
  },
  {
   "cell_type": "code",
   "execution_count": 67,
   "id": "35fdc412",
   "metadata": {},
   "outputs": [],
   "source": [
    "#turn them into nparray\n",
    "U_gaussians=np.array(U_gaussians)\n",
    "S_gaussians=np.array(S_gaussians)\n",
    "V_gaussians=np.array(V_gaussians)"
   ]
  },
  {
   "cell_type": "code",
   "execution_count": 68,
   "id": "138bc9cb",
   "metadata": {},
   "outputs": [],
   "source": [
    "#Compute relevant Error\n",
    "Errors_gaussian=[]\n",
    "for i in range(len(train_dataset)):\n",
    "    approx_gaussian=U_gaussians[i]@np.diag(S_gaussians[i])@V_gaussians[i]\n",
    "    Errors_gaussian.append(np.linalg.norm(approx_gaussian-x_train[i],'fro')**2/np.linalg.norm(x_train[i],'fro')**2)\n"
   ]
  },
  {
   "cell_type": "code",
   "execution_count": 69,
   "id": "8048efd6",
   "metadata": {},
   "outputs": [],
   "source": [
    "Errors_gaussian=np.array(Errors_gaussian)"
   ]
  },
  {
   "cell_type": "markdown",
   "id": "54995622",
   "metadata": {},
   "source": [
    "## Radamecher Sketching Matrices"
   ]
  },
  {
   "cell_type": "markdown",
   "id": "f0d46efb",
   "metadata": {},
   "source": []
  },
  {
   "cell_type": "code",
   "execution_count": 70,
   "id": "0524d627",
   "metadata": {},
   "outputs": [],
   "source": [
    "rademacher_matrices=[]\n",
    "from sketching_methods.sketching import rademacher_sketch_matrix\n",
    "for j in range(len(train_dataset)):\n",
    "    rademacher_matrix=rademacher_sketch_matrix(28, 12)\n",
    "    rademacher_matrices.append(rademacher_matrix)\n",
    "    "
   ]
  },
  {
   "cell_type": "code",
   "execution_count": 71,
   "id": "aacc3d9a",
   "metadata": {},
   "outputs": [],
   "source": [
    "#turn it into array\n",
    "rademacher_matrices=np.array(rademacher_matrices)"
   ]
  },
  {
   "cell_type": "code",
   "execution_count": 72,
   "id": "2f67e312",
   "metadata": {},
   "outputs": [],
   "source": [
    "# we conduct the same experiment\n",
    "U_rademachers=[]\n",
    "S_rademachers=[]\n",
    "V_rademachers=[]\n",
    "for i in range(len(train_dataset)):\n",
    "    U_rademacher,S_rademacher,V_rademacher=randomized_svd(x_train[i],12,rademacher_matrices[i],3)\n",
    "    U_rademachers.append(U_rademacher)\n",
    "    S_rademachers.append(S_rademacher)\n",
    "    V_rademachers.append(V_rademacher)\n"
   ]
  },
  {
   "cell_type": "code",
   "execution_count": 73,
   "id": "304ab5a5",
   "metadata": {},
   "outputs": [],
   "source": [
    "U_rademachers=np.array(U_rademachers)\n",
    "S_rademachers=np.array(S_rademachers)\n",
    "V_rademachers=np.array(V_rademachers)"
   ]
  },
  {
   "cell_type": "code",
   "execution_count": 74,
   "id": "f86f8e66",
   "metadata": {},
   "outputs": [],
   "source": [
    "#Compute relevant Error\n",
    "Errors_rademacher=[]\n",
    "for i in range(len(train_dataset)):\n",
    "    approx_rademacher=U_rademachers[i]@np.diag(S_rademachers[i])@V_rademachers[i]\n",
    "    Errors_rademacher.append(np.linalg.norm(approx_rademacher-x_train[i],'fro')**2/np.linalg.norm(x_train[i],'fro')**2)"
   ]
  },
  {
   "cell_type": "markdown",
   "id": "abcae2a9",
   "metadata": {},
   "source": [
    "## Johnson-Linderstrauss Transform Code"
   ]
  },
  {
   "cell_type": "code",
   "execution_count": 2,
   "id": "c86cfe3a",
   "metadata": {},
   "outputs": [
    {
     "name": "stdout",
     "output_type": "stream",
     "text": [
      "Collecting fht\n",
      "  Downloading fht-1.0.2.tar.gz (19 kB)\n",
      "  Preparing metadata (setup.py) ... \u001b[?25ldone\n",
      "\u001b[?25hBuilding wheels for collected packages: fht\n",
      "  Building wheel for fht (setup.py) ... \u001b[?25lerror\n",
      "  \u001b[1;31merror\u001b[0m: \u001b[1msubprocess-exited-with-error\u001b[0m\n",
      "  \n",
      "  \u001b[31m×\u001b[0m \u001b[32mpython setup.py bdist_wheel\u001b[0m did not run successfully.\n",
      "  \u001b[31m│\u001b[0m exit code: \u001b[1;36m1\u001b[0m\n",
      "  \u001b[31m╰─>\u001b[0m \u001b[31m[366 lines of output]\u001b[0m\n",
      "  \u001b[31m   \u001b[0m Intel MKL WARNING: Support of Intel(R) Streaming SIMD Extensions 4.2 (Intel(R) SSE4.2) enabled only processors has been deprecated. Intel oneAPI Math Kernel Library 2025.0 will require Intel(R) Advanced Vector Extensions (Intel(R) AVX) instructions.\n",
      "  \u001b[31m   \u001b[0m Intel MKL WARNING: Support of Intel(R) Streaming SIMD Extensions 4.2 (Intel(R) SSE4.2) enabled only processors has been deprecated. Intel oneAPI Math Kernel Library 2025.0 will require Intel(R) Advanced Vector Extensions (Intel(R) AVX) instructions.\n",
      "  \u001b[31m   \u001b[0m /private/var/folders/w6/3vt6_lb55bj3ghntmx7qk1sr0000gn/T/pip-install-d7jda7ez/fht_dfd09e220d83425cbfaaabe655addcb3/setup.py:2: DeprecationWarning:\n",
      "  \u001b[31m   \u001b[0m \n",
      "  \u001b[31m   \u001b[0m   `numpy.distutils` is deprecated since NumPy 1.23.0, as a result\n",
      "  \u001b[31m   \u001b[0m   of the deprecation of `distutils` itself. It will be removed for\n",
      "  \u001b[31m   \u001b[0m   Python >= 3.12. For older Python versions it will remain present.\n",
      "  \u001b[31m   \u001b[0m   It is recommended to use `setuptools < 60.0` for those Python versions.\n",
      "  \u001b[31m   \u001b[0m   For more details, see:\n",
      "  \u001b[31m   \u001b[0m     https://numpy.org/devdocs/reference/distutils_status_migration.html\n",
      "  \u001b[31m   \u001b[0m \n",
      "  \u001b[31m   \u001b[0m \n",
      "  \u001b[31m   \u001b[0m   from numpy.distutils.core import Extension, setup\n",
      "  \u001b[31m   \u001b[0m running bdist_wheel\n",
      "  \u001b[31m   \u001b[0m running build\n",
      "  \u001b[31m   \u001b[0m running config_cc\n",
      "  \u001b[31m   \u001b[0m INFO: unifing config_cc, config, build_clib, build_ext, build commands --compiler options\n",
      "  \u001b[31m   \u001b[0m running config_fc\n",
      "  \u001b[31m   \u001b[0m INFO: unifing config_fc, config, build_clib, build_ext, build commands --fcompiler options\n",
      "  \u001b[31m   \u001b[0m running build_src\n",
      "  \u001b[31m   \u001b[0m INFO: build_src\n",
      "  \u001b[31m   \u001b[0m INFO: building extension \"fht._C_fht_int\" sources\n",
      "  \u001b[31m   \u001b[0m INFO: building extension \"fht._C_fht_long\" sources\n",
      "  \u001b[31m   \u001b[0m INFO: building extension \"fht._C_fht_float\" sources\n",
      "  \u001b[31m   \u001b[0m INFO: building extension \"fht._C_fht_double\" sources\n",
      "  \u001b[31m   \u001b[0m INFO: building data_files sources\n",
      "  \u001b[31m   \u001b[0m Not existing data file: test_fht\n",
      "  \u001b[31m   \u001b[0m INFO: build_src: building npy-pkg config files\n",
      "  \u001b[31m   \u001b[0m /Users/konstantinzorner/opt/anaconda3/lib/python3.9/site-packages/setuptools/_distutils/cmd.py:66: SetuptoolsDeprecationWarning: setup.py install is deprecated.\n",
      "  \u001b[31m   \u001b[0m !!\n",
      "  \u001b[31m   \u001b[0m \n",
      "  \u001b[31m   \u001b[0m         ********************************************************************************\n",
      "  \u001b[31m   \u001b[0m         Please avoid running ``setup.py`` directly.\n",
      "  \u001b[31m   \u001b[0m         Instead, use pypa/build, pypa/installer or other\n",
      "  \u001b[31m   \u001b[0m         standards-based tools.\n",
      "  \u001b[31m   \u001b[0m \n",
      "  \u001b[31m   \u001b[0m         See https://blog.ganssle.io/articles/2021/10/setup-py-deprecated.html for details.\n",
      "  \u001b[31m   \u001b[0m         ********************************************************************************\n",
      "  \u001b[31m   \u001b[0m \n",
      "  \u001b[31m   \u001b[0m !!\n",
      "  \u001b[31m   \u001b[0m   self.initialize_options()\n",
      "  \u001b[31m   \u001b[0m running build_py\n",
      "  \u001b[31m   \u001b[0m creating build\n",
      "  \u001b[31m   \u001b[0m creating build/lib.macosx-10.9-x86_64-cpython-39\n",
      "  \u001b[31m   \u001b[0m creating build/lib.macosx-10.9-x86_64-cpython-39/fht\n",
      "  \u001b[31m   \u001b[0m copying fht/__init__.py -> build/lib.macosx-10.9-x86_64-cpython-39/fht\n",
      "  \u001b[31m   \u001b[0m copying fht/_fht.py -> build/lib.macosx-10.9-x86_64-cpython-39/fht\n",
      "  \u001b[31m   \u001b[0m running build_ext\n",
      "  \u001b[31m   \u001b[0m INFO: customize UnixCCompiler\n",
      "  \u001b[31m   \u001b[0m INFO: customize UnixCCompiler using build_ext\n",
      "  \u001b[31m   \u001b[0m INFO: CCompilerOpt.cc_test_flags[1086] : testing flags (-march=native)\n",
      "  \u001b[31m   \u001b[0m INFO: C compiler: clang -Wno-unused-result -Wsign-compare -Wunreachable-code -DNDEBUG -fwrapv -O2 -Wall -fPIC -O2 -isystem /Users/konstantinzorner/opt/anaconda3/include -arch x86_64 -I/Users/konstantinzorner/opt/anaconda3/include -fPIC -O2 -isystem /Users/konstantinzorner/opt/anaconda3/include -arch x86_64 -ftrapping-math\n",
      "  \u001b[31m   \u001b[0m \n",
      "  \u001b[31m   \u001b[0m creating /var/folders/w6/3vt6_lb55bj3ghntmx7qk1sr0000gn/T/tmpuna6c2cd/Users\n",
      "  \u001b[31m   \u001b[0m creating /var/folders/w6/3vt6_lb55bj3ghntmx7qk1sr0000gn/T/tmpuna6c2cd/Users/konstantinzorner\n",
      "  \u001b[31m   \u001b[0m creating /var/folders/w6/3vt6_lb55bj3ghntmx7qk1sr0000gn/T/tmpuna6c2cd/Users/konstantinzorner/opt\n",
      "  \u001b[31m   \u001b[0m creating /var/folders/w6/3vt6_lb55bj3ghntmx7qk1sr0000gn/T/tmpuna6c2cd/Users/konstantinzorner/opt/anaconda3\n",
      "  \u001b[31m   \u001b[0m creating /var/folders/w6/3vt6_lb55bj3ghntmx7qk1sr0000gn/T/tmpuna6c2cd/Users/konstantinzorner/opt/anaconda3/lib\n",
      "  \u001b[31m   \u001b[0m creating /var/folders/w6/3vt6_lb55bj3ghntmx7qk1sr0000gn/T/tmpuna6c2cd/Users/konstantinzorner/opt/anaconda3/lib/python3.9\n",
      "  \u001b[31m   \u001b[0m creating /var/folders/w6/3vt6_lb55bj3ghntmx7qk1sr0000gn/T/tmpuna6c2cd/Users/konstantinzorner/opt/anaconda3/lib/python3.9/site-packages\n",
      "  \u001b[31m   \u001b[0m creating /var/folders/w6/3vt6_lb55bj3ghntmx7qk1sr0000gn/T/tmpuna6c2cd/Users/konstantinzorner/opt/anaconda3/lib/python3.9/site-packages/numpy\n",
      "  \u001b[31m   \u001b[0m creating /var/folders/w6/3vt6_lb55bj3ghntmx7qk1sr0000gn/T/tmpuna6c2cd/Users/konstantinzorner/opt/anaconda3/lib/python3.9/site-packages/numpy/distutils\n",
      "  \u001b[31m   \u001b[0m creating /var/folders/w6/3vt6_lb55bj3ghntmx7qk1sr0000gn/T/tmpuna6c2cd/Users/konstantinzorner/opt/anaconda3/lib/python3.9/site-packages/numpy/distutils/checks\n",
      "  \u001b[31m   \u001b[0m INFO: compile options: '-I/Users/konstantinzorner/opt/anaconda3/include/python3.9 -c'\n",
      "  \u001b[31m   \u001b[0m extra options: '-march=native'\n",
      "  \u001b[31m   \u001b[0m INFO: CCompilerOpt.cc_test_flags[1086] : testing flags (-O3)\n",
      "  \u001b[31m   \u001b[0m INFO: C compiler: clang -Wno-unused-result -Wsign-compare -Wunreachable-code -DNDEBUG -fwrapv -O2 -Wall -fPIC -O2 -isystem /Users/konstantinzorner/opt/anaconda3/include -arch x86_64 -I/Users/konstantinzorner/opt/anaconda3/include -fPIC -O2 -isystem /Users/konstantinzorner/opt/anaconda3/include -arch x86_64 -ftrapping-math\n",
      "  \u001b[31m   \u001b[0m \n",
      "  \u001b[31m   \u001b[0m INFO: compile options: '-I/Users/konstantinzorner/opt/anaconda3/include/python3.9 -c'\n",
      "  \u001b[31m   \u001b[0m extra options: '-O3'\n",
      "  \u001b[31m   \u001b[0m INFO: CCompilerOpt.cc_test_flags[1086] : testing flags (-Werror=switch)\n",
      "  \u001b[31m   \u001b[0m INFO: C compiler: clang -Wno-unused-result -Wsign-compare -Wunreachable-code -DNDEBUG -fwrapv -O2 -Wall -fPIC -O2 -isystem /Users/konstantinzorner/opt/anaconda3/include -arch x86_64 -I/Users/konstantinzorner/opt/anaconda3/include -fPIC -O2 -isystem /Users/konstantinzorner/opt/anaconda3/include -arch x86_64 -ftrapping-math\n",
      "  \u001b[31m   \u001b[0m \n",
      "  \u001b[31m   \u001b[0m INFO: compile options: '-I/Users/konstantinzorner/opt/anaconda3/include/python3.9 -c'\n",
      "  \u001b[31m   \u001b[0m extra options: '-Werror=switch'\n",
      "  \u001b[31m   \u001b[0m INFO: CCompilerOpt.cc_test_flags[1086] : testing flags (-Werror)\n",
      "  \u001b[31m   \u001b[0m INFO: C compiler: clang -Wno-unused-result -Wsign-compare -Wunreachable-code -DNDEBUG -fwrapv -O2 -Wall -fPIC -O2 -isystem /Users/konstantinzorner/opt/anaconda3/include -arch x86_64 -I/Users/konstantinzorner/opt/anaconda3/include -fPIC -O2 -isystem /Users/konstantinzorner/opt/anaconda3/include -arch x86_64 -ftrapping-math\n",
      "  \u001b[31m   \u001b[0m \n",
      "  \u001b[31m   \u001b[0m INFO: compile options: '-I/Users/konstantinzorner/opt/anaconda3/include/python3.9 -c'\n",
      "  \u001b[31m   \u001b[0m extra options: '-Werror'\n",
      "  \u001b[31m   \u001b[0m INFO: CCompilerOpt.__init__[1795] : check requested baseline\n",
      "  \u001b[31m   \u001b[0m INFO: CCompilerOpt.cc_test_flags[1086] : testing flags (-msse)\n",
      "  \u001b[31m   \u001b[0m INFO: C compiler: clang -Wno-unused-result -Wsign-compare -Wunreachable-code -DNDEBUG -fwrapv -O2 -Wall -fPIC -O2 -isystem /Users/konstantinzorner/opt/anaconda3/include -arch x86_64 -I/Users/konstantinzorner/opt/anaconda3/include -fPIC -O2 -isystem /Users/konstantinzorner/opt/anaconda3/include -arch x86_64 -ftrapping-math\n",
      "  \u001b[31m   \u001b[0m \n",
      "  \u001b[31m   \u001b[0m INFO: compile options: '-I/Users/konstantinzorner/opt/anaconda3/include/python3.9 -c'\n",
      "  \u001b[31m   \u001b[0m extra options: '-msse'\n",
      "  \u001b[31m   \u001b[0m INFO: CCompilerOpt.cc_test_flags[1086] : testing flags (-msse2)\n",
      "  \u001b[31m   \u001b[0m INFO: C compiler: clang -Wno-unused-result -Wsign-compare -Wunreachable-code -DNDEBUG -fwrapv -O2 -Wall -fPIC -O2 -isystem /Users/konstantinzorner/opt/anaconda3/include -arch x86_64 -I/Users/konstantinzorner/opt/anaconda3/include -fPIC -O2 -isystem /Users/konstantinzorner/opt/anaconda3/include -arch x86_64 -ftrapping-math\n",
      "  \u001b[31m   \u001b[0m \n",
      "  \u001b[31m   \u001b[0m INFO: compile options: '-I/Users/konstantinzorner/opt/anaconda3/include/python3.9 -c'\n",
      "  \u001b[31m   \u001b[0m extra options: '-msse2'\n",
      "  \u001b[31m   \u001b[0m INFO: CCompilerOpt.feature_test[1560] : testing feature 'SSE2' with flags (-msse -msse2)\n",
      "  \u001b[31m   \u001b[0m INFO: C compiler: clang -Wno-unused-result -Wsign-compare -Wunreachable-code -DNDEBUG -fwrapv -O2 -Wall -fPIC -O2 -isystem /Users/konstantinzorner/opt/anaconda3/include -arch x86_64 -I/Users/konstantinzorner/opt/anaconda3/include -fPIC -O2 -isystem /Users/konstantinzorner/opt/anaconda3/include -arch x86_64 -ftrapping-math\n",
      "  \u001b[31m   \u001b[0m \n",
      "  \u001b[31m   \u001b[0m INFO: compile options: '-I/Users/konstantinzorner/opt/anaconda3/include/python3.9 -c'\n",
      "  \u001b[31m   \u001b[0m extra options: '-msse -msse2 -Werror=switch -Werror'\n",
      "  \u001b[31m   \u001b[0m INFO: CCompilerOpt.feature_test[1560] : testing feature 'SSE' with flags (-msse -msse2)\n",
      "  \u001b[31m   \u001b[0m INFO: C compiler: clang -Wno-unused-result -Wsign-compare -Wunreachable-code -DNDEBUG -fwrapv -O2 -Wall -fPIC -O2 -isystem /Users/konstantinzorner/opt/anaconda3/include -arch x86_64 -I/Users/konstantinzorner/opt/anaconda3/include -fPIC -O2 -isystem /Users/konstantinzorner/opt/anaconda3/include -arch x86_64 -ftrapping-math\n",
      "  \u001b[31m   \u001b[0m \n",
      "  \u001b[31m   \u001b[0m INFO: compile options: '-I/Users/konstantinzorner/opt/anaconda3/include/python3.9 -c'\n",
      "  \u001b[31m   \u001b[0m extra options: '-msse -msse2 -Werror=switch -Werror'\n",
      "  \u001b[31m   \u001b[0m INFO: CCompilerOpt.cc_test_flags[1086] : testing flags (-msse3)\n",
      "  \u001b[31m   \u001b[0m INFO: C compiler: clang -Wno-unused-result -Wsign-compare -Wunreachable-code -DNDEBUG -fwrapv -O2 -Wall -fPIC -O2 -isystem /Users/konstantinzorner/opt/anaconda3/include -arch x86_64 -I/Users/konstantinzorner/opt/anaconda3/include -fPIC -O2 -isystem /Users/konstantinzorner/opt/anaconda3/include -arch x86_64 -ftrapping-math\n",
      "  \u001b[31m   \u001b[0m \n",
      "  \u001b[31m   \u001b[0m INFO: compile options: '-I/Users/konstantinzorner/opt/anaconda3/include/python3.9 -c'\n",
      "  \u001b[31m   \u001b[0m extra options: '-msse3'\n",
      "  \u001b[31m   \u001b[0m INFO: CCompilerOpt.feature_test[1560] : testing feature 'SSE3' with flags (-msse -msse2 -msse3)\n",
      "  \u001b[31m   \u001b[0m INFO: C compiler: clang -Wno-unused-result -Wsign-compare -Wunreachable-code -DNDEBUG -fwrapv -O2 -Wall -fPIC -O2 -isystem /Users/konstantinzorner/opt/anaconda3/include -arch x86_64 -I/Users/konstantinzorner/opt/anaconda3/include -fPIC -O2 -isystem /Users/konstantinzorner/opt/anaconda3/include -arch x86_64 -ftrapping-math\n",
      "  \u001b[31m   \u001b[0m \n",
      "  \u001b[31m   \u001b[0m INFO: compile options: '-I/Users/konstantinzorner/opt/anaconda3/include/python3.9 -c'\n",
      "  \u001b[31m   \u001b[0m extra options: '-msse -msse2 -msse3 -Werror=switch -Werror'\n",
      "  \u001b[31m   \u001b[0m INFO: CCompilerOpt.__init__[1804] : check requested dispatch-able features\n",
      "  \u001b[31m   \u001b[0m INFO: CCompilerOpt.cc_test_flags[1086] : testing flags (-mssse3)\n",
      "  \u001b[31m   \u001b[0m INFO: C compiler: clang -Wno-unused-result -Wsign-compare -Wunreachable-code -DNDEBUG -fwrapv -O2 -Wall -fPIC -O2 -isystem /Users/konstantinzorner/opt/anaconda3/include -arch x86_64 -I/Users/konstantinzorner/opt/anaconda3/include -fPIC -O2 -isystem /Users/konstantinzorner/opt/anaconda3/include -arch x86_64 -ftrapping-math\n",
      "  \u001b[31m   \u001b[0m \n",
      "  \u001b[31m   \u001b[0m INFO: compile options: '-I/Users/konstantinzorner/opt/anaconda3/include/python3.9 -c'\n",
      "  \u001b[31m   \u001b[0m extra options: '-mssse3'\n",
      "  \u001b[31m   \u001b[0m INFO: CCompilerOpt.cc_test_flags[1086] : testing flags (-msse4.1)\n",
      "  \u001b[31m   \u001b[0m INFO: C compiler: clang -Wno-unused-result -Wsign-compare -Wunreachable-code -DNDEBUG -fwrapv -O2 -Wall -fPIC -O2 -isystem /Users/konstantinzorner/opt/anaconda3/include -arch x86_64 -I/Users/konstantinzorner/opt/anaconda3/include -fPIC -O2 -isystem /Users/konstantinzorner/opt/anaconda3/include -arch x86_64 -ftrapping-math\n",
      "  \u001b[31m   \u001b[0m \n",
      "  \u001b[31m   \u001b[0m INFO: compile options: '-I/Users/konstantinzorner/opt/anaconda3/include/python3.9 -c'\n",
      "  \u001b[31m   \u001b[0m extra options: '-msse4.1'\n",
      "  \u001b[31m   \u001b[0m INFO: CCompilerOpt.cc_test_flags[1086] : testing flags (-mpopcnt)\n",
      "  \u001b[31m   \u001b[0m INFO: C compiler: clang -Wno-unused-result -Wsign-compare -Wunreachable-code -DNDEBUG -fwrapv -O2 -Wall -fPIC -O2 -isystem /Users/konstantinzorner/opt/anaconda3/include -arch x86_64 -I/Users/konstantinzorner/opt/anaconda3/include -fPIC -O2 -isystem /Users/konstantinzorner/opt/anaconda3/include -arch x86_64 -ftrapping-math\n",
      "  \u001b[31m   \u001b[0m \n",
      "  \u001b[31m   \u001b[0m INFO: compile options: '-I/Users/konstantinzorner/opt/anaconda3/include/python3.9 -c'\n",
      "  \u001b[31m   \u001b[0m extra options: '-mpopcnt'\n",
      "  \u001b[31m   \u001b[0m INFO: CCompilerOpt.feature_test[1560] : testing feature 'POPCNT' with flags (-msse -msse2 -msse3 -mssse3 -msse4.1 -mpopcnt)\n",
      "  \u001b[31m   \u001b[0m INFO: C compiler: clang -Wno-unused-result -Wsign-compare -Wunreachable-code -DNDEBUG -fwrapv -O2 -Wall -fPIC -O2 -isystem /Users/konstantinzorner/opt/anaconda3/include -arch x86_64 -I/Users/konstantinzorner/opt/anaconda3/include -fPIC -O2 -isystem /Users/konstantinzorner/opt/anaconda3/include -arch x86_64 -ftrapping-math\n",
      "  \u001b[31m   \u001b[0m \n",
      "  \u001b[31m   \u001b[0m INFO: compile options: '-I/Users/konstantinzorner/opt/anaconda3/include/python3.9 -c'\n",
      "  \u001b[31m   \u001b[0m extra options: '-msse -msse2 -msse3 -mssse3 -msse4.1 -mpopcnt -Werror=switch -Werror'\n",
      "  \u001b[31m   \u001b[0m INFO: CCompilerOpt.cc_test_flags[1086] : testing flags (-msse4.2)\n",
      "  \u001b[31m   \u001b[0m INFO: C compiler: clang -Wno-unused-result -Wsign-compare -Wunreachable-code -DNDEBUG -fwrapv -O2 -Wall -fPIC -O2 -isystem /Users/konstantinzorner/opt/anaconda3/include -arch x86_64 -I/Users/konstantinzorner/opt/anaconda3/include -fPIC -O2 -isystem /Users/konstantinzorner/opt/anaconda3/include -arch x86_64 -ftrapping-math\n",
      "  \u001b[31m   \u001b[0m \n",
      "  \u001b[31m   \u001b[0m INFO: compile options: '-I/Users/konstantinzorner/opt/anaconda3/include/python3.9 -c'\n",
      "  \u001b[31m   \u001b[0m extra options: '-msse4.2'\n",
      "  \u001b[31m   \u001b[0m INFO: CCompilerOpt.cc_test_flags[1086] : testing flags (-mavx)\n",
      "  \u001b[31m   \u001b[0m INFO: C compiler: clang -Wno-unused-result -Wsign-compare -Wunreachable-code -DNDEBUG -fwrapv -O2 -Wall -fPIC -O2 -isystem /Users/konstantinzorner/opt/anaconda3/include -arch x86_64 -I/Users/konstantinzorner/opt/anaconda3/include -fPIC -O2 -isystem /Users/konstantinzorner/opt/anaconda3/include -arch x86_64 -ftrapping-math\n",
      "  \u001b[31m   \u001b[0m \n",
      "  \u001b[31m   \u001b[0m INFO: compile options: '-I/Users/konstantinzorner/opt/anaconda3/include/python3.9 -c'\n",
      "  \u001b[31m   \u001b[0m extra options: '-mavx'\n",
      "  \u001b[31m   \u001b[0m INFO: CCompilerOpt.cc_test_flags[1086] : testing flags (-mf16c)\n",
      "  \u001b[31m   \u001b[0m INFO: C compiler: clang -Wno-unused-result -Wsign-compare -Wunreachable-code -DNDEBUG -fwrapv -O2 -Wall -fPIC -O2 -isystem /Users/konstantinzorner/opt/anaconda3/include -arch x86_64 -I/Users/konstantinzorner/opt/anaconda3/include -fPIC -O2 -isystem /Users/konstantinzorner/opt/anaconda3/include -arch x86_64 -ftrapping-math\n",
      "  \u001b[31m   \u001b[0m \n",
      "  \u001b[31m   \u001b[0m INFO: compile options: '-I/Users/konstantinzorner/opt/anaconda3/include/python3.9 -c'\n",
      "  \u001b[31m   \u001b[0m extra options: '-mf16c'\n",
      "  \u001b[31m   \u001b[0m INFO: CCompilerOpt.cc_test_flags[1086] : testing flags (-mavx2)\n",
      "  \u001b[31m   \u001b[0m INFO: C compiler: clang -Wno-unused-result -Wsign-compare -Wunreachable-code -DNDEBUG -fwrapv -O2 -Wall -fPIC -O2 -isystem /Users/konstantinzorner/opt/anaconda3/include -arch x86_64 -I/Users/konstantinzorner/opt/anaconda3/include -fPIC -O2 -isystem /Users/konstantinzorner/opt/anaconda3/include -arch x86_64 -ftrapping-math\n",
      "  \u001b[31m   \u001b[0m \n",
      "  \u001b[31m   \u001b[0m INFO: compile options: '-I/Users/konstantinzorner/opt/anaconda3/include/python3.9 -c'\n",
      "  \u001b[31m   \u001b[0m extra options: '-mavx2'\n",
      "  \u001b[31m   \u001b[0m INFO: CCompilerOpt.feature_test[1560] : testing feature 'AVX2' with flags (-msse -msse2 -msse3 -mssse3 -msse4.1 -mpopcnt -msse4.2 -mavx -mf16c -mavx2)\n",
      "  \u001b[31m   \u001b[0m INFO: C compiler: clang -Wno-unused-result -Wsign-compare -Wunreachable-code -DNDEBUG -fwrapv -O2 -Wall -fPIC -O2 -isystem /Users/konstantinzorner/opt/anaconda3/include -arch x86_64 -I/Users/konstantinzorner/opt/anaconda3/include -fPIC -O2 -isystem /Users/konstantinzorner/opt/anaconda3/include -arch x86_64 -ftrapping-math\n",
      "  \u001b[31m   \u001b[0m \n",
      "  \u001b[31m   \u001b[0m INFO: compile options: '-I/Users/konstantinzorner/opt/anaconda3/include/python3.9 -c'\n",
      "  \u001b[31m   \u001b[0m extra options: '-msse -msse2 -msse3 -mssse3 -msse4.1 -mpopcnt -msse4.2 -mavx -mf16c -mavx2 -Werror=switch -Werror'\n",
      "  \u001b[31m   \u001b[0m INFO: CCompilerOpt.cc_test_flags[1086] : testing flags (-mfma)\n",
      "  \u001b[31m   \u001b[0m INFO: C compiler: clang -Wno-unused-result -Wsign-compare -Wunreachable-code -DNDEBUG -fwrapv -O2 -Wall -fPIC -O2 -isystem /Users/konstantinzorner/opt/anaconda3/include -arch x86_64 -I/Users/konstantinzorner/opt/anaconda3/include -fPIC -O2 -isystem /Users/konstantinzorner/opt/anaconda3/include -arch x86_64 -ftrapping-math\n",
      "  \u001b[31m   \u001b[0m \n",
      "  \u001b[31m   \u001b[0m INFO: compile options: '-I/Users/konstantinzorner/opt/anaconda3/include/python3.9 -c'\n",
      "  \u001b[31m   \u001b[0m extra options: '-mfma'\n",
      "  \u001b[31m   \u001b[0m INFO: CCompilerOpt.feature_test[1560] : testing feature 'FMA3' with flags (-msse -msse2 -msse3 -mssse3 -msse4.1 -mpopcnt -msse4.2 -mavx -mf16c -mfma)\n",
      "  \u001b[31m   \u001b[0m INFO: C compiler: clang -Wno-unused-result -Wsign-compare -Wunreachable-code -DNDEBUG -fwrapv -O2 -Wall -fPIC -O2 -isystem /Users/konstantinzorner/opt/anaconda3/include -arch x86_64 -I/Users/konstantinzorner/opt/anaconda3/include -fPIC -O2 -isystem /Users/konstantinzorner/opt/anaconda3/include -arch x86_64 -ftrapping-math\n",
      "  \u001b[31m   \u001b[0m \n",
      "  \u001b[31m   \u001b[0m INFO: compile options: '-I/Users/konstantinzorner/opt/anaconda3/include/python3.9 -c'\n",
      "  \u001b[31m   \u001b[0m extra options: '-msse -msse2 -msse3 -mssse3 -msse4.1 -mpopcnt -msse4.2 -mavx -mf16c -mfma -Werror=switch -Werror'\n",
      "  \u001b[31m   \u001b[0m INFO: CCompilerOpt.feature_test[1560] : testing feature 'SSE42' with flags (-msse -msse2 -msse3 -mssse3 -msse4.1 -mpopcnt -msse4.2)\n",
      "  \u001b[31m   \u001b[0m INFO: C compiler: clang -Wno-unused-result -Wsign-compare -Wunreachable-code -DNDEBUG -fwrapv -O2 -Wall -fPIC -O2 -isystem /Users/konstantinzorner/opt/anaconda3/include -arch x86_64 -I/Users/konstantinzorner/opt/anaconda3/include -fPIC -O2 -isystem /Users/konstantinzorner/opt/anaconda3/include -arch x86_64 -ftrapping-math\n",
      "  \u001b[31m   \u001b[0m \n",
      "  \u001b[31m   \u001b[0m INFO: compile options: '-I/Users/konstantinzorner/opt/anaconda3/include/python3.9 -c'\n",
      "  \u001b[31m   \u001b[0m extra options: '-msse -msse2 -msse3 -mssse3 -msse4.1 -mpopcnt -msse4.2 -Werror=switch -Werror'\n",
      "  \u001b[31m   \u001b[0m INFO: CCompilerOpt.feature_test[1560] : testing feature 'F16C' with flags (-msse -msse2 -msse3 -mssse3 -msse4.1 -mpopcnt -msse4.2 -mavx -mf16c)\n",
      "  \u001b[31m   \u001b[0m INFO: C compiler: clang -Wno-unused-result -Wsign-compare -Wunreachable-code -DNDEBUG -fwrapv -O2 -Wall -fPIC -O2 -isystem /Users/konstantinzorner/opt/anaconda3/include -arch x86_64 -I/Users/konstantinzorner/opt/anaconda3/include -fPIC -O2 -isystem /Users/konstantinzorner/opt/anaconda3/include -arch x86_64 -ftrapping-math\n",
      "  \u001b[31m   \u001b[0m \n",
      "  \u001b[31m   \u001b[0m INFO: compile options: '-I/Users/konstantinzorner/opt/anaconda3/include/python3.9 -c'\n",
      "  \u001b[31m   \u001b[0m extra options: '-msse -msse2 -msse3 -mssse3 -msse4.1 -mpopcnt -msse4.2 -mavx -mf16c -Werror=switch -Werror'\n",
      "  \u001b[31m   \u001b[0m INFO: CCompilerOpt.feature_test[1560] : testing feature 'SSSE3' with flags (-msse -msse2 -msse3 -mssse3)\n",
      "  \u001b[31m   \u001b[0m INFO: C compiler: clang -Wno-unused-result -Wsign-compare -Wunreachable-code -DNDEBUG -fwrapv -O2 -Wall -fPIC -O2 -isystem /Users/konstantinzorner/opt/anaconda3/include -arch x86_64 -I/Users/konstantinzorner/opt/anaconda3/include -fPIC -O2 -isystem /Users/konstantinzorner/opt/anaconda3/include -arch x86_64 -ftrapping-math\n",
      "  \u001b[31m   \u001b[0m \n",
      "  \u001b[31m   \u001b[0m INFO: compile options: '-I/Users/konstantinzorner/opt/anaconda3/include/python3.9 -c'\n",
      "  \u001b[31m   \u001b[0m extra options: '-msse -msse2 -msse3 -mssse3 -Werror=switch -Werror'\n",
      "  \u001b[31m   \u001b[0m INFO: CCompilerOpt.feature_test[1560] : testing feature 'AVX' with flags (-msse -msse2 -msse3 -mssse3 -msse4.1 -mpopcnt -msse4.2 -mavx)\n",
      "  \u001b[31m   \u001b[0m INFO: C compiler: clang -Wno-unused-result -Wsign-compare -Wunreachable-code -DNDEBUG -fwrapv -O2 -Wall -fPIC -O2 -isystem /Users/konstantinzorner/opt/anaconda3/include -arch x86_64 -I/Users/konstantinzorner/opt/anaconda3/include -fPIC -O2 -isystem /Users/konstantinzorner/opt/anaconda3/include -arch x86_64 -ftrapping-math\n",
      "  \u001b[31m   \u001b[0m \n",
      "  \u001b[31m   \u001b[0m INFO: compile options: '-I/Users/konstantinzorner/opt/anaconda3/include/python3.9 -c'\n",
      "  \u001b[31m   \u001b[0m extra options: '-msse -msse2 -msse3 -mssse3 -msse4.1 -mpopcnt -msse4.2 -mavx -Werror=switch -Werror'\n",
      "  \u001b[31m   \u001b[0m INFO: CCompilerOpt.feature_test[1560] : testing feature 'SSE41' with flags (-msse -msse2 -msse3 -mssse3 -msse4.1)\n",
      "  \u001b[31m   \u001b[0m INFO: C compiler: clang -Wno-unused-result -Wsign-compare -Wunreachable-code -DNDEBUG -fwrapv -O2 -Wall -fPIC -O2 -isystem /Users/konstantinzorner/opt/anaconda3/include -arch x86_64 -I/Users/konstantinzorner/opt/anaconda3/include -fPIC -O2 -isystem /Users/konstantinzorner/opt/anaconda3/include -arch x86_64 -ftrapping-math\n",
      "  \u001b[31m   \u001b[0m \n",
      "  \u001b[31m   \u001b[0m INFO: compile options: '-I/Users/konstantinzorner/opt/anaconda3/include/python3.9 -c'\n",
      "  \u001b[31m   \u001b[0m extra options: '-msse -msse2 -msse3 -mssse3 -msse4.1 -Werror=switch -Werror'\n",
      "  \u001b[31m   \u001b[0m INFO: CCompilerOpt.cc_test_flags[1086] : testing flags (-mavx512f -mno-mmx)\n",
      "  \u001b[31m   \u001b[0m INFO: C compiler: clang -Wno-unused-result -Wsign-compare -Wunreachable-code -DNDEBUG -fwrapv -O2 -Wall -fPIC -O2 -isystem /Users/konstantinzorner/opt/anaconda3/include -arch x86_64 -I/Users/konstantinzorner/opt/anaconda3/include -fPIC -O2 -isystem /Users/konstantinzorner/opt/anaconda3/include -arch x86_64 -ftrapping-math\n",
      "  \u001b[31m   \u001b[0m \n",
      "  \u001b[31m   \u001b[0m INFO: compile options: '-I/Users/konstantinzorner/opt/anaconda3/include/python3.9 -c'\n",
      "  \u001b[31m   \u001b[0m extra options: '-mavx512f -mno-mmx'\n",
      "  \u001b[31m   \u001b[0m INFO: CCompilerOpt.feature_test[1560] : testing feature 'AVX512F' with flags (-msse -msse2 -msse3 -mssse3 -msse4.1 -mpopcnt -msse4.2 -mavx -mf16c -mfma -mavx2 -mavx512f -mno-mmx)\n",
      "  \u001b[31m   \u001b[0m INFO: C compiler: clang -Wno-unused-result -Wsign-compare -Wunreachable-code -DNDEBUG -fwrapv -O2 -Wall -fPIC -O2 -isystem /Users/konstantinzorner/opt/anaconda3/include -arch x86_64 -I/Users/konstantinzorner/opt/anaconda3/include -fPIC -O2 -isystem /Users/konstantinzorner/opt/anaconda3/include -arch x86_64 -ftrapping-math\n",
      "  \u001b[31m   \u001b[0m \n",
      "  \u001b[31m   \u001b[0m INFO: compile options: '-I/Users/konstantinzorner/opt/anaconda3/include/python3.9 -c'\n",
      "  \u001b[31m   \u001b[0m extra options: '-msse -msse2 -msse3 -mssse3 -msse4.1 -mpopcnt -msse4.2 -mavx -mf16c -mfma -mavx2 -mavx512f -mno-mmx -Werror=switch -Werror'\n",
      "  \u001b[31m   \u001b[0m INFO: CCompilerOpt.cc_test_flags[1086] : testing flags (-mavx512cd)\n",
      "  \u001b[31m   \u001b[0m INFO: C compiler: clang -Wno-unused-result -Wsign-compare -Wunreachable-code -DNDEBUG -fwrapv -O2 -Wall -fPIC -O2 -isystem /Users/konstantinzorner/opt/anaconda3/include -arch x86_64 -I/Users/konstantinzorner/opt/anaconda3/include -fPIC -O2 -isystem /Users/konstantinzorner/opt/anaconda3/include -arch x86_64 -ftrapping-math\n",
      "  \u001b[31m   \u001b[0m \n",
      "  \u001b[31m   \u001b[0m INFO: compile options: '-I/Users/konstantinzorner/opt/anaconda3/include/python3.9 -c'\n",
      "  \u001b[31m   \u001b[0m extra options: '-mavx512cd'\n",
      "  \u001b[31m   \u001b[0m INFO: CCompilerOpt.feature_test[1560] : testing feature 'AVX512CD' with flags (-msse -msse2 -msse3 -mssse3 -msse4.1 -mpopcnt -msse4.2 -mavx -mf16c -mfma -mavx2 -mavx512f -mno-mmx -mavx512cd)\n",
      "  \u001b[31m   \u001b[0m INFO: C compiler: clang -Wno-unused-result -Wsign-compare -Wunreachable-code -DNDEBUG -fwrapv -O2 -Wall -fPIC -O2 -isystem /Users/konstantinzorner/opt/anaconda3/include -arch x86_64 -I/Users/konstantinzorner/opt/anaconda3/include -fPIC -O2 -isystem /Users/konstantinzorner/opt/anaconda3/include -arch x86_64 -ftrapping-math\n",
      "  \u001b[31m   \u001b[0m \n",
      "  \u001b[31m   \u001b[0m INFO: compile options: '-I/Users/konstantinzorner/opt/anaconda3/include/python3.9 -c'\n",
      "  \u001b[31m   \u001b[0m extra options: '-msse -msse2 -msse3 -mssse3 -msse4.1 -mpopcnt -msse4.2 -mavx -mf16c -mfma -mavx2 -mavx512f -mno-mmx -mavx512cd -Werror=switch -Werror'\n",
      "  \u001b[31m   \u001b[0m INFO: CCompilerOpt.cc_test_flags[1086] : testing flags (-mavx512vl -mavx512bw -mavx512dq)\n",
      "  \u001b[31m   \u001b[0m INFO: C compiler: clang -Wno-unused-result -Wsign-compare -Wunreachable-code -DNDEBUG -fwrapv -O2 -Wall -fPIC -O2 -isystem /Users/konstantinzorner/opt/anaconda3/include -arch x86_64 -I/Users/konstantinzorner/opt/anaconda3/include -fPIC -O2 -isystem /Users/konstantinzorner/opt/anaconda3/include -arch x86_64 -ftrapping-math\n",
      "  \u001b[31m   \u001b[0m \n",
      "  \u001b[31m   \u001b[0m INFO: compile options: '-I/Users/konstantinzorner/opt/anaconda3/include/python3.9 -c'\n",
      "  \u001b[31m   \u001b[0m extra options: '-mavx512vl -mavx512bw -mavx512dq'\n",
      "  \u001b[31m   \u001b[0m INFO: CCompilerOpt.feature_test[1560] : testing feature 'AVX512_SKX' with flags (-msse -msse2 -msse3 -mssse3 -msse4.1 -mpopcnt -msse4.2 -mavx -mf16c -mfma -mavx2 -mavx512f -mno-mmx -mavx512cd -mavx512vl -mavx512bw -mavx512dq)\n",
      "  \u001b[31m   \u001b[0m INFO: C compiler: clang -Wno-unused-result -Wsign-compare -Wunreachable-code -DNDEBUG -fwrapv -O2 -Wall -fPIC -O2 -isystem /Users/konstantinzorner/opt/anaconda3/include -arch x86_64 -I/Users/konstantinzorner/opt/anaconda3/include -fPIC -O2 -isystem /Users/konstantinzorner/opt/anaconda3/include -arch x86_64 -ftrapping-math\n",
      "  \u001b[31m   \u001b[0m \n",
      "  \u001b[31m   \u001b[0m INFO: compile options: '-I/Users/konstantinzorner/opt/anaconda3/include/python3.9 -c'\n",
      "  \u001b[31m   \u001b[0m extra options: '-msse -msse2 -msse3 -mssse3 -msse4.1 -mpopcnt -msse4.2 -mavx -mf16c -mfma -mavx2 -mavx512f -mno-mmx -mavx512cd -mavx512vl -mavx512bw -mavx512dq -Werror=switch -Werror'\n",
      "  \u001b[31m   \u001b[0m INFO: CCompilerOpt.cc_test_flags[1086] : testing flags (-mavx512ifma -mavx512vbmi)\n",
      "  \u001b[31m   \u001b[0m INFO: C compiler: clang -Wno-unused-result -Wsign-compare -Wunreachable-code -DNDEBUG -fwrapv -O2 -Wall -fPIC -O2 -isystem /Users/konstantinzorner/opt/anaconda3/include -arch x86_64 -I/Users/konstantinzorner/opt/anaconda3/include -fPIC -O2 -isystem /Users/konstantinzorner/opt/anaconda3/include -arch x86_64 -ftrapping-math\n",
      "  \u001b[31m   \u001b[0m \n",
      "  \u001b[31m   \u001b[0m INFO: compile options: '-I/Users/konstantinzorner/opt/anaconda3/include/python3.9 -c'\n",
      "  \u001b[31m   \u001b[0m extra options: '-mavx512ifma -mavx512vbmi'\n",
      "  \u001b[31m   \u001b[0m INFO: CCompilerOpt.feature_test[1560] : testing feature 'AVX512_CNL' with flags (-msse -msse2 -msse3 -mssse3 -msse4.1 -mpopcnt -msse4.2 -mavx -mf16c -mfma -mavx2 -mavx512f -mno-mmx -mavx512cd -mavx512vl -mavx512bw -mavx512dq -mavx512ifma -mavx512vbmi)\n",
      "  \u001b[31m   \u001b[0m INFO: C compiler: clang -Wno-unused-result -Wsign-compare -Wunreachable-code -DNDEBUG -fwrapv -O2 -Wall -fPIC -O2 -isystem /Users/konstantinzorner/opt/anaconda3/include -arch x86_64 -I/Users/konstantinzorner/opt/anaconda3/include -fPIC -O2 -isystem /Users/konstantinzorner/opt/anaconda3/include -arch x86_64 -ftrapping-math\n",
      "  \u001b[31m   \u001b[0m \n",
      "  \u001b[31m   \u001b[0m INFO: compile options: '-I/Users/konstantinzorner/opt/anaconda3/include/python3.9 -c'\n",
      "  \u001b[31m   \u001b[0m extra options: '-msse -msse2 -msse3 -mssse3 -msse4.1 -mpopcnt -msse4.2 -mavx -mf16c -mfma -mavx2 -mavx512f -mno-mmx -mavx512cd -mavx512vl -mavx512bw -mavx512dq -mavx512ifma -mavx512vbmi -Werror=switch -Werror'\n",
      "  \u001b[31m   \u001b[0m INFO: CCompilerOpt.cc_test_flags[1086] : testing flags (-mavx512vnni)\n",
      "  \u001b[31m   \u001b[0m INFO: C compiler: clang -Wno-unused-result -Wsign-compare -Wunreachable-code -DNDEBUG -fwrapv -O2 -Wall -fPIC -O2 -isystem /Users/konstantinzorner/opt/anaconda3/include -arch x86_64 -I/Users/konstantinzorner/opt/anaconda3/include -fPIC -O2 -isystem /Users/konstantinzorner/opt/anaconda3/include -arch x86_64 -ftrapping-math\n",
      "  \u001b[31m   \u001b[0m \n",
      "  \u001b[31m   \u001b[0m INFO: compile options: '-I/Users/konstantinzorner/opt/anaconda3/include/python3.9 -c'\n",
      "  \u001b[31m   \u001b[0m extra options: '-mavx512vnni'\n",
      "  \u001b[31m   \u001b[0m INFO: CCompilerOpt.feature_test[1560] : testing feature 'AVX512_CLX' with flags (-msse -msse2 -msse3 -mssse3 -msse4.1 -mpopcnt -msse4.2 -mavx -mf16c -mfma -mavx2 -mavx512f -mno-mmx -mavx512cd -mavx512vl -mavx512bw -mavx512dq -mavx512vnni)\n",
      "  \u001b[31m   \u001b[0m INFO: C compiler: clang -Wno-unused-result -Wsign-compare -Wunreachable-code -DNDEBUG -fwrapv -O2 -Wall -fPIC -O2 -isystem /Users/konstantinzorner/opt/anaconda3/include -arch x86_64 -I/Users/konstantinzorner/opt/anaconda3/include -fPIC -O2 -isystem /Users/konstantinzorner/opt/anaconda3/include -arch x86_64 -ftrapping-math\n",
      "  \u001b[31m   \u001b[0m \n",
      "  \u001b[31m   \u001b[0m INFO: compile options: '-I/Users/konstantinzorner/opt/anaconda3/include/python3.9 -c'\n",
      "  \u001b[31m   \u001b[0m extra options: '-msse -msse2 -msse3 -mssse3 -msse4.1 -mpopcnt -msse4.2 -mavx -mf16c -mfma -mavx2 -mavx512f -mno-mmx -mavx512cd -mavx512vl -mavx512bw -mavx512dq -mavx512vnni -Werror=switch -Werror'\n",
      "  \u001b[31m   \u001b[0m INFO: CCompilerOpt.cc_test_flags[1086] : testing flags (-mavx512vbmi2 -mavx512bitalg -mavx512vpopcntdq)\n",
      "  \u001b[31m   \u001b[0m INFO: C compiler: clang -Wno-unused-result -Wsign-compare -Wunreachable-code -DNDEBUG -fwrapv -O2 -Wall -fPIC -O2 -isystem /Users/konstantinzorner/opt/anaconda3/include -arch x86_64 -I/Users/konstantinzorner/opt/anaconda3/include -fPIC -O2 -isystem /Users/konstantinzorner/opt/anaconda3/include -arch x86_64 -ftrapping-math\n",
      "  \u001b[31m   \u001b[0m \n",
      "  \u001b[31m   \u001b[0m INFO: compile options: '-I/Users/konstantinzorner/opt/anaconda3/include/python3.9 -c'\n",
      "  \u001b[31m   \u001b[0m extra options: '-mavx512vbmi2 -mavx512bitalg -mavx512vpopcntdq'\n",
      "  \u001b[31m   \u001b[0m INFO: CCompilerOpt.feature_test[1560] : testing feature 'AVX512_ICL' with flags (-msse -msse2 -msse3 -mssse3 -msse4.1 -mpopcnt -msse4.2 -mavx -mf16c -mfma -mavx2 -mavx512f -mno-mmx -mavx512cd -mavx512vl -mavx512bw -mavx512dq -mavx512vnni -mavx512ifma -mavx512vbmi -mavx512vbmi2 -mavx512bitalg -mavx512vpopcntdq)\n",
      "  \u001b[31m   \u001b[0m INFO: C compiler: clang -Wno-unused-result -Wsign-compare -Wunreachable-code -DNDEBUG -fwrapv -O2 -Wall -fPIC -O2 -isystem /Users/konstantinzorner/opt/anaconda3/include -arch x86_64 -I/Users/konstantinzorner/opt/anaconda3/include -fPIC -O2 -isystem /Users/konstantinzorner/opt/anaconda3/include -arch x86_64 -ftrapping-math\n",
      "  \u001b[31m   \u001b[0m \n",
      "  \u001b[31m   \u001b[0m INFO: compile options: '-I/Users/konstantinzorner/opt/anaconda3/include/python3.9 -c'\n",
      "  \u001b[31m   \u001b[0m extra options: '-msse -msse2 -msse3 -mssse3 -msse4.1 -mpopcnt -msse4.2 -mavx -mf16c -mfma -mavx2 -mavx512f -mno-mmx -mavx512cd -mavx512vl -mavx512bw -mavx512dq -mavx512vnni -mavx512ifma -mavx512vbmi -mavx512vbmi2 -mavx512bitalg -mavx512vpopcntdq -Werror=switch -Werror'\n",
      "  \u001b[31m   \u001b[0m INFO: CCompilerOpt.cc_test_flags[1086] : testing flags (-mavx512er -mavx512pf)\n",
      "  \u001b[31m   \u001b[0m INFO: C compiler: clang -Wno-unused-result -Wsign-compare -Wunreachable-code -DNDEBUG -fwrapv -O2 -Wall -fPIC -O2 -isystem /Users/konstantinzorner/opt/anaconda3/include -arch x86_64 -I/Users/konstantinzorner/opt/anaconda3/include -fPIC -O2 -isystem /Users/konstantinzorner/opt/anaconda3/include -arch x86_64 -ftrapping-math\n",
      "  \u001b[31m   \u001b[0m \n",
      "  \u001b[31m   \u001b[0m INFO: compile options: '-I/Users/konstantinzorner/opt/anaconda3/include/python3.9 -c'\n",
      "  \u001b[31m   \u001b[0m extra options: '-mavx512er -mavx512pf'\n",
      "  \u001b[31m   \u001b[0m INFO: CCompilerOpt.feature_test[1560] : testing feature 'AVX512_KNL' with flags (-msse -msse2 -msse3 -mssse3 -msse4.1 -mpopcnt -msse4.2 -mavx -mf16c -mfma -mavx2 -mavx512f -mno-mmx -mavx512cd -mavx512er -mavx512pf)\n",
      "  \u001b[31m   \u001b[0m INFO: C compiler: clang -Wno-unused-result -Wsign-compare -Wunreachable-code -DNDEBUG -fwrapv -O2 -Wall -fPIC -O2 -isystem /Users/konstantinzorner/opt/anaconda3/include -arch x86_64 -I/Users/konstantinzorner/opt/anaconda3/include -fPIC -O2 -isystem /Users/konstantinzorner/opt/anaconda3/include -arch x86_64 -ftrapping-math\n",
      "  \u001b[31m   \u001b[0m \n",
      "  \u001b[31m   \u001b[0m INFO: compile options: '-I/Users/konstantinzorner/opt/anaconda3/include/python3.9 -c'\n",
      "  \u001b[31m   \u001b[0m extra options: '-msse -msse2 -msse3 -mssse3 -msse4.1 -mpopcnt -msse4.2 -mavx -mf16c -mfma -mavx2 -mavx512f -mno-mmx -mavx512cd -mavx512er -mavx512pf -Werror=switch -Werror'\n",
      "  \u001b[31m   \u001b[0m INFO: CCompilerOpt.cc_test_flags[1086] : testing flags (-mavx512fp16)\n",
      "  \u001b[31m   \u001b[0m INFO: C compiler: clang -Wno-unused-result -Wsign-compare -Wunreachable-code -DNDEBUG -fwrapv -O2 -Wall -fPIC -O2 -isystem /Users/konstantinzorner/opt/anaconda3/include -arch x86_64 -I/Users/konstantinzorner/opt/anaconda3/include -fPIC -O2 -isystem /Users/konstantinzorner/opt/anaconda3/include -arch x86_64 -ftrapping-math\n",
      "  \u001b[31m   \u001b[0m \n",
      "  \u001b[31m   \u001b[0m INFO: compile options: '-I/Users/konstantinzorner/opt/anaconda3/include/python3.9 -c'\n",
      "  \u001b[31m   \u001b[0m extra options: '-mavx512fp16'\n",
      "  \u001b[31m   \u001b[0m INFO: CCompilerOpt.feature_test[1560] : testing feature 'AVX512_SPR' with flags (-msse -msse2 -msse3 -mssse3 -msse4.1 -mpopcnt -msse4.2 -mavx -mf16c -mfma -mavx2 -mavx512f -mno-mmx -mavx512cd -mavx512vl -mavx512bw -mavx512dq -mavx512vnni -mavx512ifma -mavx512vbmi -mavx512vbmi2 -mavx512bitalg -mavx512vpopcntdq -mavx512fp16)\n",
      "  \u001b[31m   \u001b[0m INFO: C compiler: clang -Wno-unused-result -Wsign-compare -Wunreachable-code -DNDEBUG -fwrapv -O2 -Wall -fPIC -O2 -isystem /Users/konstantinzorner/opt/anaconda3/include -arch x86_64 -I/Users/konstantinzorner/opt/anaconda3/include -fPIC -O2 -isystem /Users/konstantinzorner/opt/anaconda3/include -arch x86_64 -ftrapping-math\n",
      "  \u001b[31m   \u001b[0m \n",
      "  \u001b[31m   \u001b[0m INFO: compile options: '-I/Users/konstantinzorner/opt/anaconda3/include/python3.9 -c'\n",
      "  \u001b[31m   \u001b[0m extra options: '-msse -msse2 -msse3 -mssse3 -msse4.1 -mpopcnt -msse4.2 -mavx -mf16c -mfma -mavx2 -mavx512f -mno-mmx -mavx512cd -mavx512vl -mavx512bw -mavx512dq -mavx512vnni -mavx512ifma -mavx512vbmi -mavx512vbmi2 -mavx512bitalg -mavx512vpopcntdq -mavx512fp16 -Werror=switch -Werror'\n",
      "  \u001b[31m   \u001b[0m WARN: CCompilerOpt.dist_test[637] : CCompilerOpt._dist_test_spawn[771] : Command (clang -Wno-unused-result -Wsign-compare -Wunreachable-code -DNDEBUG -fwrapv -O2 -Wall -fPIC -O2 -isystem /Users/konstantinzorner/opt/anaconda3/include -arch x86_64 -I/Users/konstantinzorner/opt/anaconda3/include -fPIC -O2 -isystem /Users/konstantinzorner/opt/anaconda3/include -arch x86_64 -ftrapping-math -I/Users/konstantinzorner/opt/anaconda3/include/python3.9 -c /Users/konstantinzorner/opt/anaconda3/lib/python3.9/site-packages/numpy/distutils/checks/cpu_avx512_spr.c -o /var/folders/w6/3vt6_lb55bj3ghntmx7qk1sr0000gn/T/tmpuna6c2cd/Users/konstantinzorner/opt/anaconda3/lib/python3.9/site-packages/numpy/distutils/checks/cpu_avx512_spr.o -MMD -MF /var/folders/w6/3vt6_lb55bj3ghntmx7qk1sr0000gn/T/tmpuna6c2cd/Users/konstantinzorner/opt/anaconda3/lib/python3.9/site-packages/numpy/distutils/checks/cpu_avx512_spr.o.d -msse -msse2 -msse3 -mssse3 -msse4.1 -mpopcnt -msse4.2 -mavx -mf16c -mfma -mavx2 -mavx512f -mno-mmx -mavx512cd -mavx512vl -mavx512bw -mavx512dq -mavx512vnni -mavx512ifma -mavx512vbmi -mavx512vbmi2 -mavx512bitalg -mavx512vpopcntdq -mavx512fp16 -Werror=switch -Werror) failed with exit status 1 output ->\n",
      "  \u001b[31m   \u001b[0m /Users/konstantinzorner/opt/anaconda3/lib/python3.9/site-packages/numpy/distutils/checks/cpu_avx512_spr.c:20:2: error:\n",
      "  \u001b[31m   \u001b[0m    20 | #error\n",
      "  \u001b[31m   \u001b[0m       |  ^\n",
      "  \u001b[31m   \u001b[0m 1 error generated.\n",
      "  \u001b[31m   \u001b[0m \n",
      "  \u001b[31m   \u001b[0m WARN: CCompilerOpt.feature_test[1576] : testing failed\n",
      "  \u001b[31m   \u001b[0m INFO: CCompilerOpt.cc_test_flags[1086] : testing flags (-mavx5124fmaps -mavx5124vnniw -mavx512vpopcntdq)\n",
      "  \u001b[31m   \u001b[0m INFO: C compiler: clang -Wno-unused-result -Wsign-compare -Wunreachable-code -DNDEBUG -fwrapv -O2 -Wall -fPIC -O2 -isystem /Users/konstantinzorner/opt/anaconda3/include -arch x86_64 -I/Users/konstantinzorner/opt/anaconda3/include -fPIC -O2 -isystem /Users/konstantinzorner/opt/anaconda3/include -arch x86_64 -ftrapping-math\n",
      "  \u001b[31m   \u001b[0m \n",
      "  \u001b[31m   \u001b[0m INFO: compile options: '-I/Users/konstantinzorner/opt/anaconda3/include/python3.9 -c'\n",
      "  \u001b[31m   \u001b[0m extra options: '-mavx5124fmaps -mavx5124vnniw -mavx512vpopcntdq'\n",
      "  \u001b[31m   \u001b[0m WARN: CCompilerOpt.dist_test[637] : CCompilerOpt._dist_test_spawn[771] : Command (clang -Wno-unused-result -Wsign-compare -Wunreachable-code -DNDEBUG -fwrapv -O2 -Wall -fPIC -O2 -isystem /Users/konstantinzorner/opt/anaconda3/include -arch x86_64 -I/Users/konstantinzorner/opt/anaconda3/include -fPIC -O2 -isystem /Users/konstantinzorner/opt/anaconda3/include -arch x86_64 -ftrapping-math -I/Users/konstantinzorner/opt/anaconda3/include/python3.9 -c /Users/konstantinzorner/opt/anaconda3/lib/python3.9/site-packages/numpy/distutils/checks/test_flags.c -o /var/folders/w6/3vt6_lb55bj3ghntmx7qk1sr0000gn/T/tmpuna6c2cd/Users/konstantinzorner/opt/anaconda3/lib/python3.9/site-packages/numpy/distutils/checks/test_flags.o -MMD -MF /var/folders/w6/3vt6_lb55bj3ghntmx7qk1sr0000gn/T/tmpuna6c2cd/Users/konstantinzorner/opt/anaconda3/lib/python3.9/site-packages/numpy/distutils/checks/test_flags.o.d -mavx5124fmaps -mavx5124vnniw -mavx512vpopcntdq) failed with exit status 1 output ->\n",
      "  \u001b[31m   \u001b[0m clang: error: unknown argument: '-mavx5124fmaps'\n",
      "  \u001b[31m   \u001b[0m clang: error: unknown argument: '-mavx5124vnniw'\n",
      "  \u001b[31m   \u001b[0m \n",
      "  \u001b[31m   \u001b[0m WARN: CCompilerOpt.cc_test_flags[1090] : testing failed\n",
      "  \u001b[31m   \u001b[0m INFO: CCompilerOpt.feature_test[1560] : testing feature 'AVX512_KNM' with flags (-msse -msse2 -msse3 -mssse3 -msse4.1 -mpopcnt -msse4.2 -mavx -mf16c -mfma -mavx2 -mavx512f -mno-mmx -mavx512cd -mavx512er -mavx512pf)\n",
      "  \u001b[31m   \u001b[0m INFO: C compiler: clang -Wno-unused-result -Wsign-compare -Wunreachable-code -DNDEBUG -fwrapv -O2 -Wall -fPIC -O2 -isystem /Users/konstantinzorner/opt/anaconda3/include -arch x86_64 -I/Users/konstantinzorner/opt/anaconda3/include -fPIC -O2 -isystem /Users/konstantinzorner/opt/anaconda3/include -arch x86_64 -ftrapping-math\n",
      "  \u001b[31m   \u001b[0m \n",
      "  \u001b[31m   \u001b[0m INFO: compile options: '-I/Users/konstantinzorner/opt/anaconda3/include/python3.9 -c'\n",
      "  \u001b[31m   \u001b[0m extra options: '-msse -msse2 -msse3 -mssse3 -msse4.1 -mpopcnt -msse4.2 -mavx -mf16c -mfma -mavx2 -mavx512f -mno-mmx -mavx512cd -mavx512er -mavx512pf -Werror=switch -Werror'\n",
      "  \u001b[31m   \u001b[0m WARN: CCompilerOpt.dist_test[637] : CCompilerOpt._dist_test_spawn[771] : Command (clang -Wno-unused-result -Wsign-compare -Wunreachable-code -DNDEBUG -fwrapv -O2 -Wall -fPIC -O2 -isystem /Users/konstantinzorner/opt/anaconda3/include -arch x86_64 -I/Users/konstantinzorner/opt/anaconda3/include -fPIC -O2 -isystem /Users/konstantinzorner/opt/anaconda3/include -arch x86_64 -ftrapping-math -I/Users/konstantinzorner/opt/anaconda3/include/python3.9 -c /Users/konstantinzorner/opt/anaconda3/lib/python3.9/site-packages/numpy/distutils/checks/cpu_avx512_knm.c -o /var/folders/w6/3vt6_lb55bj3ghntmx7qk1sr0000gn/T/tmpuna6c2cd/Users/konstantinzorner/opt/anaconda3/lib/python3.9/site-packages/numpy/distutils/checks/cpu_avx512_knm.o -MMD -MF /var/folders/w6/3vt6_lb55bj3ghntmx7qk1sr0000gn/T/tmpuna6c2cd/Users/konstantinzorner/opt/anaconda3/lib/python3.9/site-packages/numpy/distutils/checks/cpu_avx512_knm.o.d -msse -msse2 -msse3 -mssse3 -msse4.1 -mpopcnt -msse4.2 -mavx -mf16c -mfma -mavx2 -mavx512f -mno-mmx -mavx512cd -mavx512er -mavx512pf -Werror=switch -Werror) failed with exit status 1 output ->\n",
      "  \u001b[31m   \u001b[0m /Users/konstantinzorner/opt/anaconda3/lib/python3.9/site-packages/numpy/distutils/checks/cpu_avx512_knm.c:22:9: error: call to undeclared function '_mm512_4fmadd_ps'; ISO C99 and later do not support implicit function declarations [-Wimplicit-function-declaration]\n",
      "  \u001b[31m   \u001b[0m    22 |     b = _mm512_4fmadd_ps(b, b, b, b, b, NULL);\n",
      "  \u001b[31m   \u001b[0m       |         ^\n",
      "  \u001b[31m   \u001b[0m /Users/konstantinzorner/opt/anaconda3/lib/python3.9/site-packages/numpy/distutils/checks/cpu_avx512_knm.c:22:9: note: did you mean '_mm512_fmadd_ps'?\n",
      "  \u001b[31m   \u001b[0m /Applications/Xcode.app/Contents/Developer/Toolchains/XcodeDefault.xctoolchain/usr/lib/clang/16/include/avx512fintrin.h:2730:1: note: '_mm512_fmadd_ps' declared here\n",
      "  \u001b[31m   \u001b[0m  2730 | _mm512_fmadd_ps(__m512 __A, __m512 __B, __m512 __C)\n",
      "  \u001b[31m   \u001b[0m       | ^\n",
      "  \u001b[31m   \u001b[0m /Users/konstantinzorner/opt/anaconda3/lib/python3.9/site-packages/numpy/distutils/checks/cpu_avx512_knm.c:22:7: error: assigning to '__m512' (vector of 16 'float' values) from incompatible type 'int'\n",
      "  \u001b[31m   \u001b[0m    22 |     b = _mm512_4fmadd_ps(b, b, b, b, b, NULL);\n",
      "  \u001b[31m   \u001b[0m       |       ^ ~~~~~~~~~~~~~~~~~~~~~~~~~~~~~~~~~~~~~\n",
      "  \u001b[31m   \u001b[0m /Users/konstantinzorner/opt/anaconda3/lib/python3.9/site-packages/numpy/distutils/checks/cpu_avx512_knm.c:24:9: error: call to undeclared function '_mm512_4dpwssd_epi32'; ISO C99 and later do not support implicit function declarations [-Wimplicit-function-declaration]\n",
      "  \u001b[31m   \u001b[0m    24 |     a = _mm512_4dpwssd_epi32(a, a, a, a, a, NULL);\n",
      "  \u001b[31m   \u001b[0m       |         ^\n",
      "  \u001b[31m   \u001b[0m /Users/konstantinzorner/opt/anaconda3/lib/python3.9/site-packages/numpy/distutils/checks/cpu_avx512_knm.c:24:9: note: did you mean '_mm512_dpwssd_epi32'?\n",
      "  \u001b[31m   \u001b[0m /Applications/Xcode.app/Contents/Developer/Toolchains/XcodeDefault.xctoolchain/usr/lib/clang/16/include/avx512vnniintrin.h:68:1: note: '_mm512_dpwssd_epi32' declared here\n",
      "  \u001b[31m   \u001b[0m    68 | _mm512_dpwssd_epi32(__m512i __S, __m512i __A, __m512i __B)\n",
      "  \u001b[31m   \u001b[0m       | ^\n",
      "  \u001b[31m   \u001b[0m /Users/konstantinzorner/opt/anaconda3/lib/python3.9/site-packages/numpy/distutils/checks/cpu_avx512_knm.c:24:7: error: assigning to '__m512i' (vector of 8 'long long' values) from incompatible type 'int'\n",
      "  \u001b[31m   \u001b[0m    24 |     a = _mm512_4dpwssd_epi32(a, a, a, a, a, NULL);\n",
      "  \u001b[31m   \u001b[0m       |       ^ ~~~~~~~~~~~~~~~~~~~~~~~~~~~~~~~~~~~~~~~~~\n",
      "  \u001b[31m   \u001b[0m 4 errors generated.\n",
      "  \u001b[31m   \u001b[0m \n",
      "  \u001b[31m   \u001b[0m WARN: CCompilerOpt.feature_test[1576] : testing failed\n",
      "  \u001b[31m   \u001b[0m INFO: CCompilerOpt.__init__[1816] : skip features (SSE SSE3 SSE2) since its part of baseline\n",
      "  \u001b[31m   \u001b[0m INFO: CCompilerOpt.__init__[1820] : initialize targets groups\n",
      "  \u001b[31m   \u001b[0m INFO: CCompilerOpt.__init__[1822] : parse target group simd_test\n",
      "  \u001b[31m   \u001b[0m INFO: CCompilerOpt._parse_target_tokens[2033] : skip targets (FMA4 VSX VSX3 VXE2 NEON VSX2 VSX4 ASIMD VX XOP VXE) not part of baseline or dispatch-able features\n",
      "  \u001b[31m   \u001b[0m INFO: CCompilerOpt._parse_policy_not_keepbase[2145] : skip baseline features (SSE2)\n",
      "  \u001b[31m   \u001b[0m INFO: CCompilerOpt.generate_dispatch_header[2366] : generate CPU dispatch header: (build/src.macosx-10.9-x86_64-3.9/numpy/distutils/include/npy_cpu_dispatch_config.h)\n",
      "  \u001b[31m   \u001b[0m WARN: CCompilerOpt.generate_dispatch_header[2375] : dispatch header dir build/src.macosx-10.9-x86_64-3.9/numpy/distutils/include does not exist, creating it\n",
      "  \u001b[31m   \u001b[0m INFO: CCompilerOpt.feature_extra_checks[1640] : Testing extra checks for feature 'AVX512F' (AVX512F_REDUCE)\n",
      "  \u001b[31m   \u001b[0m INFO: C compiler: clang -Wno-unused-result -Wsign-compare -Wunreachable-code -DNDEBUG -fwrapv -O2 -Wall -fPIC -O2 -isystem /Users/konstantinzorner/opt/anaconda3/include -arch x86_64 -I/Users/konstantinzorner/opt/anaconda3/include -fPIC -O2 -isystem /Users/konstantinzorner/opt/anaconda3/include -arch x86_64 -ftrapping-math\n",
      "  \u001b[31m   \u001b[0m \n",
      "  \u001b[31m   \u001b[0m INFO: compile options: '-I/Users/konstantinzorner/opt/anaconda3/include/python3.9 -c'\n",
      "  \u001b[31m   \u001b[0m extra options: '-msse -msse2 -msse3 -mssse3 -msse4.1 -mpopcnt -msse4.2 -mavx -mf16c -mfma -mavx2 -mavx512f -mno-mmx -Werror=switch -Werror'\n",
      "  \u001b[31m   \u001b[0m INFO: CCompilerOpt.feature_extra_checks[1640] : Testing extra checks for feature 'AVX512_SKX' (AVX512BW_MASK AVX512DQ_MASK)\n",
      "  \u001b[31m   \u001b[0m INFO: C compiler: clang -Wno-unused-result -Wsign-compare -Wunreachable-code -DNDEBUG -fwrapv -O2 -Wall -fPIC -O2 -isystem /Users/konstantinzorner/opt/anaconda3/include -arch x86_64 -I/Users/konstantinzorner/opt/anaconda3/include -fPIC -O2 -isystem /Users/konstantinzorner/opt/anaconda3/include -arch x86_64 -ftrapping-math\n",
      "  \u001b[31m   \u001b[0m \n",
      "  \u001b[31m   \u001b[0m INFO: compile options: '-I/Users/konstantinzorner/opt/anaconda3/include/python3.9 -c'\n",
      "  \u001b[31m   \u001b[0m extra options: '-msse -msse2 -msse3 -mssse3 -msse4.1 -mpopcnt -msse4.2 -mavx -mf16c -mfma -mavx2 -mavx512f -mno-mmx -mavx512cd -mavx512vl -mavx512bw -mavx512dq -Werror=switch -Werror'\n",
      "  \u001b[31m   \u001b[0m INFO: C compiler: clang -Wno-unused-result -Wsign-compare -Wunreachable-code -DNDEBUG -fwrapv -O2 -Wall -fPIC -O2 -isystem /Users/konstantinzorner/opt/anaconda3/include -arch x86_64 -I/Users/konstantinzorner/opt/anaconda3/include -fPIC -O2 -isystem /Users/konstantinzorner/opt/anaconda3/include -arch x86_64 -ftrapping-math\n",
      "  \u001b[31m   \u001b[0m \n",
      "  \u001b[31m   \u001b[0m INFO: compile options: '-I/Users/konstantinzorner/opt/anaconda3/include/python3.9 -c'\n",
      "  \u001b[31m   \u001b[0m extra options: '-msse -msse2 -msse3 -mssse3 -msse4.1 -mpopcnt -msse4.2 -mavx -mf16c -mfma -mavx2 -mavx512f -mno-mmx -mavx512cd -mavx512vl -mavx512bw -mavx512dq -Werror=switch -Werror'\n",
      "  \u001b[31m   \u001b[0m INFO: building 'fht._C_fht_int' extension\n",
      "  \u001b[31m   \u001b[0m INFO: compiling C sources\n",
      "  \u001b[31m   \u001b[0m INFO: C compiler: clang -Wno-unused-result -Wsign-compare -Wunreachable-code -DNDEBUG -fwrapv -O2 -Wall -fPIC -O2 -isystem /Users/konstantinzorner/opt/anaconda3/include -arch x86_64 -I/Users/konstantinzorner/opt/anaconda3/include -fPIC -O2 -isystem /Users/konstantinzorner/opt/anaconda3/include -arch x86_64 -ftrapping-math\n",
      "  \u001b[31m   \u001b[0m \n",
      "  \u001b[31m   \u001b[0m creating build/temp.macosx-10.9-x86_64-cpython-39/fht\n",
      "  \u001b[31m   \u001b[0m INFO: compile options: '-I/Users/konstantinzorner/opt/anaconda3/lib/python3.9/site-packages/numpy/core/include/numpy -I/Users/konstantinzorner/opt/anaconda3/lib/python3.9/site-packages/numpy/core/include -Ibuild/src.macosx-10.9-x86_64-3.9/numpy/distutils/include -I/Users/konstantinzorner/opt/anaconda3/include/python3.9 -c'\n",
      "  \u001b[31m   \u001b[0m extra options: '-fopenmp -msse -msse2 -msse3'\n",
      "  \u001b[31m   \u001b[0m INFO: clang: fht/C_fht_int.c\n",
      "  \u001b[31m   \u001b[0m clang: error: unsupported option '-fopenmp'\n",
      "  \u001b[31m   \u001b[0m error: Command \"clang -Wno-unused-result -Wsign-compare -Wunreachable-code -DNDEBUG -fwrapv -O2 -Wall -fPIC -O2 -isystem /Users/konstantinzorner/opt/anaconda3/include -arch x86_64 -I/Users/konstantinzorner/opt/anaconda3/include -fPIC -O2 -isystem /Users/konstantinzorner/opt/anaconda3/include -arch x86_64 -ftrapping-math -I/Users/konstantinzorner/opt/anaconda3/lib/python3.9/site-packages/numpy/core/include/numpy -I/Users/konstantinzorner/opt/anaconda3/lib/python3.9/site-packages/numpy/core/include -Ibuild/src.macosx-10.9-x86_64-3.9/numpy/distutils/include -I/Users/konstantinzorner/opt/anaconda3/include/python3.9 -c fht/C_fht_int.c -o build/temp.macosx-10.9-x86_64-cpython-39/fht/C_fht_int.o -MMD -MF build/temp.macosx-10.9-x86_64-cpython-39/fht/C_fht_int.o.d -fopenmp -msse -msse2 -msse3\" failed with exit status 1\n",
      "  \u001b[31m   \u001b[0m INFO:\n",
      "  \u001b[31m   \u001b[0m ########### EXT COMPILER OPTIMIZATION ###########\n",
      "  \u001b[31m   \u001b[0m INFO: Platform      :\n",
      "  \u001b[31m   \u001b[0m   Architecture: x64\n",
      "  \u001b[31m   \u001b[0m   Compiler    : clang\n",
      "  \u001b[31m   \u001b[0m \n",
      "  \u001b[31m   \u001b[0m CPU baseline  :\n",
      "  \u001b[31m   \u001b[0m   Requested   : 'min'\n",
      "  \u001b[31m   \u001b[0m   Enabled     : SSE SSE2 SSE3\n",
      "  \u001b[31m   \u001b[0m   Flags       : -msse -msse2 -msse3\n",
      "  \u001b[31m   \u001b[0m   Extra checks: none\n",
      "  \u001b[31m   \u001b[0m \n",
      "  \u001b[31m   \u001b[0m CPU dispatch  :\n",
      "  \u001b[31m   \u001b[0m   Requested   : 'max -xop -fma4'\n",
      "  \u001b[31m   \u001b[0m   Enabled     : SSSE3 SSE41 POPCNT SSE42 AVX F16C FMA3 AVX2 AVX512F AVX512CD AVX512_KNL AVX512_SKX AVX512_CLX AVX512_CNL AVX512_ICL\n",
      "  \u001b[31m   \u001b[0m   Generated   : none\n",
      "  \u001b[31m   \u001b[0m INFO: CCompilerOpt.cache_flush[864] : write cache to path -> /private/var/folders/w6/3vt6_lb55bj3ghntmx7qk1sr0000gn/T/pip-install-d7jda7ez/fht_dfd09e220d83425cbfaaabe655addcb3/build/temp.macosx-10.9-x86_64-cpython-39/ccompiler_opt_cache_ext.py\n",
      "  \u001b[31m   \u001b[0m \u001b[31m[end of output]\u001b[0m\n",
      "  \n",
      "  \u001b[1;35mnote\u001b[0m: This error originates from a subprocess, and is likely not a problem with pip.\n",
      "\u001b[31m  ERROR: Failed building wheel for fht\u001b[0m\u001b[31m\n",
      "\u001b[0m\u001b[?25h  Running setup.py clean for fht\n",
      "Failed to build fht\n",
      "\u001b[31mERROR: Could not build wheels for fht, which is required to install pyproject.toml-based projects\u001b[0m\u001b[31m\n",
      "\u001b[0mNote: you may need to restart the kernel to use updated packages.\n"
     ]
    },
    {
     "ename": "ModuleNotFoundError",
     "evalue": "No module named 'fht'",
     "output_type": "error",
     "traceback": [
      "\u001b[0;31m---------------------------------------------------------------------------\u001b[0m",
      "\u001b[0;31mModuleNotFoundError\u001b[0m                       Traceback (most recent call last)",
      "Cell \u001b[0;32mIn[2], line 8\u001b[0m\n\u001b[1;32m      5\u001b[0m \u001b[38;5;66;03m# Install the missing package\u001b[39;00m\n\u001b[1;32m      6\u001b[0m get_ipython()\u001b[38;5;241m.\u001b[39mrun_line_magic(\u001b[38;5;124m'\u001b[39m\u001b[38;5;124mpip\u001b[39m\u001b[38;5;124m'\u001b[39m, \u001b[38;5;124m'\u001b[39m\u001b[38;5;124minstall fht\u001b[39m\u001b[38;5;124m'\u001b[39m)\n\u001b[0;32m----> 8\u001b[0m \u001b[38;5;28;01mfrom\u001b[39;00m \u001b[38;5;21;01msketching_methods\u001b[39;00m\u001b[38;5;21;01m.\u001b[39;00m\u001b[38;5;21;01mjlt\u001b[39;00m\u001b[38;5;21;01m.\u001b[39;00m\u001b[38;5;21;01mlinearMapping\u001b[39;00m \u001b[38;5;28;01mimport\u001b[39;00m calculate_R\n\u001b[1;32m      9\u001b[0m JLT_matrices\u001b[38;5;241m=\u001b[39m[]\n\u001b[1;32m     10\u001b[0m \u001b[38;5;28;01mfor\u001b[39;00m i \u001b[38;5;129;01min\u001b[39;00m \u001b[38;5;28mrange\u001b[39m(\u001b[38;5;28mlen\u001b[39m(train_dataset)):\n",
      "File \u001b[0;32m~/Documents/Berkeley/Courses/Math_221/Math221-Project/sketching_methods/jlt/linearMapping.py:41\u001b[0m\n\u001b[1;32m     39\u001b[0m \u001b[38;5;28;01mimport\u001b[39;00m \u001b[38;5;21;01mnumpy\u001b[39;00m \u001b[38;5;28;01mas\u001b[39;00m \u001b[38;5;21;01mnp\u001b[39;00m\n\u001b[1;32m     40\u001b[0m \u001b[38;5;28;01mimport\u001b[39;00m \u001b[38;5;21;01mscipy\u001b[39;00m\u001b[38;5;21;01m.\u001b[39;00m\u001b[38;5;21;01msparse\u001b[39;00m \u001b[38;5;28;01mas\u001b[39;00m \u001b[38;5;21;01msp\u001b[39;00m\n\u001b[0;32m---> 41\u001b[0m \u001b[38;5;28;01mimport\u001b[39;00m \u001b[38;5;21;01mfht\u001b[39;00m      \u001b[38;5;66;03m#Fast hadamard transform from https://github.com/nbarbey/fht\u001b[39;00m\n\u001b[1;32m     44\u001b[0m \u001b[38;5;28;01mdef\u001b[39;00m \u001b[38;5;21mapproximate_k_jlt\u001b[39m(m, eps):\n\u001b[1;32m     45\u001b[0m \u001b[38;5;250m    \u001b[39m\u001b[38;5;124;03m'''\u001b[39;00m\n\u001b[1;32m     46\u001b[0m \u001b[38;5;124;03m    Approximates `k` for d-to-k JL projection with defined `eps` value. Calculation\u001b[39;00m\n\u001b[1;32m     47\u001b[0m \u001b[38;5;124;03m    is dependent on `m` (number of instances) only. NOT dependent on `d`.\u001b[39;00m\n\u001b[0;32m   (...)\u001b[0m\n\u001b[1;32m     63\u001b[0m \u001b[38;5;124;03m        with good probability, an eps value from d-dimensions.\u001b[39;00m\n\u001b[1;32m     64\u001b[0m \u001b[38;5;124;03m    '''\u001b[39;00m\n",
      "\u001b[0;31mModuleNotFoundError\u001b[0m: No module named 'fht'"
     ]
    }
   ],
   "source": [
    "\n",
    "import sys\n",
    "import os\n",
    "sys.path.append(os.path.abspath('.'))\n",
    "\n",
    "\n",
    "from sketching_methods.jlt.linearMapping import calculate_R\n",
    "JLT_matrices=[]\n",
    "for i in range(len(train_dataset)):\n",
    "    JLT_matrix=calculate_R(28,k=12,s=1,random_seed=21,swr=True)\n",
    "    JLT_matrices.append(JLT_matrix)\n",
    "\n"
   ]
  },
  {
   "cell_type": "code",
   "execution_count": null,
   "id": "dfaed508",
   "metadata": {},
   "outputs": [],
   "source": []
  },
  {
   "cell_type": "code",
   "execution_count": null,
   "id": "29cf7c6d",
   "metadata": {},
   "outputs": [],
   "source": [
    "#Turn it into arrays\n",
    "JLT_matrices=np.array(JLT_matrices)"
   ]
  },
  {
   "cell_type": "code",
   "execution_count": null,
   "id": "45b1d765",
   "metadata": {},
   "outputs": [],
   "source": [
    "# we conduct the same experiment to do random SVD\n",
    "U_JLTs=[]\n",
    "S_JLTs=[]\n",
    "V_JLTs=[]\n",
    "for i in range(len(train_dataset)):\n",
    "    U_JLT,S_JLT,V_JLT=randomized_svd(x_train[i],12,JLT_matrices[i].toarray().T,3)\n",
    "    U_JLTs.append(U_JLT)\n",
    "    S_JLTs.append(S_JLT)\n",
    "    V_JLTs.append(V_JLT)\n",
    "\n"
   ]
  },
  {
   "cell_type": "code",
   "execution_count": null,
   "id": "a9edf203",
   "metadata": {},
   "outputs": [],
   "source": [
    "U_JLTs=np.array(U_JLTs)\n",
    "S_JLTs=np.array(S_JLTs)\n",
    "V_JLTs=np.array(V_JLTs)"
   ]
  },
  {
   "cell_type": "code",
   "execution_count": null,
   "id": "02488175",
   "metadata": {},
   "outputs": [],
   "source": [
    "#Compute relevant Error\n",
    "Errors_JLT=[]\n",
    "for i in range(len(x_train)):\n",
    "    approx_JLT=U_JLTs[i]@np.diag(S_JLTs[i])@V_JLTs[i]\n",
    "    Errors_JLT.append(np.linalg.norm(approx_JLT-x_train[i],'fro')**2/np.linalg.norm(x_train[i],'fro')**2)"
   ]
  },
  {
   "cell_type": "code",
   "execution_count": null,
   "id": "461d4764",
   "metadata": {},
   "outputs": [],
   "source": [
    "#Turn it into an array\n",
    "Errors_JLT=np.array(Errors_JLT)"
   ]
  },
  {
   "cell_type": "markdown",
   "id": "5c7347d5",
   "metadata": {},
   "source": [
    "## Clarkson_Woodruff"
   ]
  },
  {
   "cell_type": "code",
   "execution_count": 78,
   "id": "0eee6a71",
   "metadata": {},
   "outputs": [],
   "source": [
    "from sketching_methods.sketching import cwt_sketch_matrix\n",
    "cwt_sketch_matrices=[]\n",
    "for _ in range(len(train_dataset)):\n",
    "    cwt_matrix=cwt_sketch_matrix(28,12,rng=None)\n",
    "    cwt_sketch_matrices.append(cwt_matrix)"
   ]
  },
  {
   "cell_type": "code",
   "execution_count": 79,
   "id": "b51b9a33",
   "metadata": {},
   "outputs": [],
   "source": [
    "# we conduct the same experiment to do random SVD\n",
    "U_cwts=[]\n",
    "S_cwts=[]\n",
    "V_cwts=[]\n",
    "for i in range(len(train_dataset)):\n",
    "    U_cwt,S_cwt,V_cwt=randomized_svd(x_train[i],12,cwt_sketch_matrices[i],3)\n",
    "    U_cwts.append(U_cwt)\n",
    "    S_cwts.append(S_cwt)\n",
    "    V_cwts.append(V_cwt)\n"
   ]
  },
  {
   "cell_type": "code",
   "execution_count": 80,
   "id": "dfb70bff",
   "metadata": {},
   "outputs": [],
   "source": [
    "U_cwts=np.array(U_cwts)\n",
    "S_cwts=np.array(S_cwts)\n",
    "V_cwts=np.array(V_cwts)"
   ]
  },
  {
   "cell_type": "code",
   "execution_count": 81,
   "id": "59792fbb",
   "metadata": {},
   "outputs": [],
   "source": [
    "#Compute Relative Error\n",
    "Errors_cwt=[]\n",
    "for i in range(len(train_dataset)):\n",
    "    approx_cwt=U_cwts[i]@np.diag(S_cwts[i])@V_cwts[i]\n",
    "    Errors_cwt.append(np.linalg.norm(approx_cwt-x_train[i],'fro')**2/np.linalg.norm(x_train[i],'fro')**2)"
   ]
  },
  {
   "cell_type": "code",
   "execution_count": null,
   "id": "d8608b53",
   "metadata": {},
   "outputs": [],
   "source": [
    "Errors_cwt=np.array(Errors_cwt)"
   ]
  },
  {
   "cell_type": "markdown",
   "id": "d47e5cd9",
   "metadata": {},
   "source": [
    "## LESS Transform"
   ]
  },
  {
   "cell_type": "code",
   "execution_count": null,
   "id": "314f8053",
   "metadata": {},
   "outputs": [],
   "source": [
    "from sketching_methods.sketching import "
   ]
  },
  {
   "cell_type": "markdown",
   "id": "d61e6396",
   "metadata": {},
   "source": [
    "# Visualization"
   ]
  },
  {
   "cell_type": "code",
   "execution_count": 82,
   "id": "79ab58aa",
   "metadata": {},
   "outputs": [
    {
     "ename": "NameError",
     "evalue": "name 'Errors_JLT' is not defined",
     "output_type": "error",
     "traceback": [
      "\u001b[0;31m---------------------------------------------------------------------------\u001b[0m",
      "\u001b[0;31mNameError\u001b[0m                                 Traceback (most recent call last)",
      "Cell \u001b[0;32mIn[82], line 2\u001b[0m\n\u001b[1;32m      1\u001b[0m \u001b[38;5;66;03m# Combine all those relative errors that we computed\u001b[39;00m\n\u001b[0;32m----> 2\u001b[0m errors\u001b[38;5;241m=\u001b[39mnp\u001b[38;5;241m.\u001b[39mvstack((Errors_uniform,Errors_gaussian,Errors_rademacher,\u001b[43mErrors_JLT\u001b[49m,Errors_cwt))\u001b[38;5;241m.\u001b[39mT\n",
      "\u001b[0;31mNameError\u001b[0m: name 'Errors_JLT' is not defined"
     ]
    }
   ],
   "source": [
    "# Combine all those relative errors that we computed\n",
    "errors=np.vstack((Errors_uniform,Errors_gaussian,Errors_rademacher,Errors_JLT,Errors_cwt)).T"
   ]
  },
  {
   "cell_type": "code",
   "execution_count": null,
   "id": "ed266d0a",
   "metadata": {},
   "outputs": [
    {
     "data": {
      "image/png": "[encoded data removed]",
      "text/plain": [
       "<Figure size 640x480 with 1 Axes>"
      ]
     },
     "metadata": {},
     "output_type": "display_data"
    }
   ],
   "source": [
    "#We try to do some boxplots\n",
    "#Considering relevant Error\n",
    "import matplotlib.pyplot as plt\n",
    "labels=['uniform','gaussian','rademacher','JLT','cwt']\n",
    "colors=['red','yellow','green','blue','purple']\n",
    "fig,ax=plt.subplots()\n",
    "ax.set_ylabel('relative_error')\n",
    "\n",
    "bplot=ax.boxplot(errors, patch_artist=True,labels=labels)\n",
    "\n",
    "for patch, color in zip(bplot['boxes'],colors):\n",
    "    patch.set_facecolor(color)\n",
    "plt.show()"
   ]
  },
  {
   "cell_type": "code",
   "execution_count": null,
   "id": "3663f831",
   "metadata": {},
   "outputs": [
    {
     "data": {
      "text/html": [
       "<div>\n",
       "<style scoped>\n",
       "    .dataframe tbody tr th:only-of-type {\n",
       "        vertical-align: middle;\n",
       "    }\n",
       "\n",
       "    .dataframe tbody tr th {\n",
       "        vertical-align: top;\n",
       "    }\n",
       "\n",
       "    .dataframe thead th {\n",
       "        text-align: right;\n",
       "    }\n",
       "</style>\n",
       "<table border=\"1\" class=\"dataframe\">\n",
       "  <thead>\n",
       "    <tr style=\"text-align: right;\">\n",
       "      <th></th>\n",
       "      <th>0</th>\n",
       "      <th>1</th>\n",
       "      <th>2</th>\n",
       "      <th>3</th>\n",
       "      <th>4</th>\n",
       "    </tr>\n",
       "  </thead>\n",
       "  <tbody>\n",
       "    <tr>\n",
       "      <th>count</th>\n",
       "      <td>546.000000</td>\n",
       "      <td>546.000000</td>\n",
       "      <td>546.000000</td>\n",
       "      <td>546.000000</td>\n",
       "      <td>546.000000</td>\n",
       "    </tr>\n",
       "    <tr>\n",
       "      <th>mean</th>\n",
       "      <td>0.001267</td>\n",
       "      <td>0.001257</td>\n",
       "      <td>0.001265</td>\n",
       "      <td>0.001274</td>\n",
       "      <td>0.002295</td>\n",
       "    </tr>\n",
       "    <tr>\n",
       "      <th>std</th>\n",
       "      <td>0.001146</td>\n",
       "      <td>0.001111</td>\n",
       "      <td>0.001123</td>\n",
       "      <td>0.001154</td>\n",
       "      <td>0.002231</td>\n",
       "    </tr>\n",
       "    <tr>\n",
       "      <th>min</th>\n",
       "      <td>0.000020</td>\n",
       "      <td>0.000019</td>\n",
       "      <td>0.000019</td>\n",
       "      <td>0.000019</td>\n",
       "      <td>0.000019</td>\n",
       "    </tr>\n",
       "    <tr>\n",
       "      <th>25%</th>\n",
       "      <td>0.000513</td>\n",
       "      <td>0.000524</td>\n",
       "      <td>0.000532</td>\n",
       "      <td>0.000513</td>\n",
       "      <td>0.000874</td>\n",
       "    </tr>\n",
       "    <tr>\n",
       "      <th>50%</th>\n",
       "      <td>0.000974</td>\n",
       "      <td>0.000972</td>\n",
       "      <td>0.000971</td>\n",
       "      <td>0.000980</td>\n",
       "      <td>0.001709</td>\n",
       "    </tr>\n",
       "    <tr>\n",
       "      <th>75%</th>\n",
       "      <td>0.001594</td>\n",
       "      <td>0.001600</td>\n",
       "      <td>0.001633</td>\n",
       "      <td>0.001619</td>\n",
       "      <td>0.002860</td>\n",
       "    </tr>\n",
       "    <tr>\n",
       "      <th>max</th>\n",
       "      <td>0.011209</td>\n",
       "      <td>0.011091</td>\n",
       "      <td>0.010804</td>\n",
       "      <td>0.010772</td>\n",
       "      <td>0.015175</td>\n",
       "    </tr>\n",
       "  </tbody>\n",
       "</table>\n",
       "</div>"
      ],
      "text/plain": [
       "                0           1           2           3           4\n",
       "count  546.000000  546.000000  546.000000  546.000000  546.000000\n",
       "mean     0.001267    0.001257    0.001265    0.001274    0.002295\n",
       "std      0.001146    0.001111    0.001123    0.001154    0.002231\n",
       "min      0.000020    0.000019    0.000019    0.000019    0.000019\n",
       "25%      0.000513    0.000524    0.000532    0.000513    0.000874\n",
       "50%      0.000974    0.000972    0.000971    0.000980    0.001709\n",
       "75%      0.001594    0.001600    0.001633    0.001619    0.002860\n",
       "max      0.011209    0.011091    0.010804    0.010772    0.015175"
      ]
     },
     "execution_count": 59,
     "metadata": {},
     "output_type": "execute_result"
    }
   ],
   "source": [
    "##Check more metric\n",
    "import pandas as pd\n",
    "df_describe=pd.DataFrame(errors)\n",
    "df_describe.describe()"
   ]
  },
  {
   "cell_type": "code",
   "execution_count": null,
   "id": "7193330a",
   "metadata": {},
   "outputs": [],
   "source": []
  }
 ],
 "metadata": {
  "kernelspec": {
   "display_name": "base",
   "language": "python",
   "name": "python3"
  },
  "language_info": {
   "codemirror_mode": {
    "name": "ipython",
    "version": 3
   },
   "file_extension": ".py",
   "mimetype": "text/x-python",
   "name": "python",
   "nbconvert_exporter": "python",
   "pygments_lexer": "ipython3",
   "version": "3.9.18"
  }
 },
 "nbformat": 4,
 "nbformat_minor": 5
}

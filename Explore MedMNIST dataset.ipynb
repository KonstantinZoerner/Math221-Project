{
 "cells": [
  {
   "cell_type": "code",
   "execution_count": 46,
   "id": "cea19797",
   "metadata": {},
   "outputs": [
    {
     "name": "stdout",
     "output_type": "stream",
     "text": [
      "Requirement already satisfied: medmnist in /Users/konstantinzorner/opt/anaconda3/lib/python3.9/site-packages (3.0.2)\n",
      "Requirement already satisfied: numpy in /Users/konstantinzorner/opt/anaconda3/lib/python3.9/site-packages (from medmnist) (1.26.4)\n",
      "Requirement already satisfied: pandas in /Users/konstantinzorner/opt/anaconda3/lib/python3.9/site-packages (from medmnist) (2.1.1)\n",
      "Requirement already satisfied: scikit-learn in /Users/konstantinzorner/opt/anaconda3/lib/python3.9/site-packages (from medmnist) (1.2.2)\n",
      "Requirement already satisfied: scikit-image in /Users/konstantinzorner/opt/anaconda3/lib/python3.9/site-packages (from medmnist) (0.24.0)\n",
      "Requirement already satisfied: tqdm in /Users/konstantinzorner/opt/anaconda3/lib/python3.9/site-packages (from medmnist) (4.65.0)\n",
      "Requirement already satisfied: Pillow in /Users/konstantinzorner/opt/anaconda3/lib/python3.9/site-packages (from medmnist) (10.2.0)\n",
      "Requirement already satisfied: fire in /Users/konstantinzorner/opt/anaconda3/lib/python3.9/site-packages (from medmnist) (0.7.0)\n",
      "Requirement already satisfied: torch in /Users/konstantinzorner/opt/anaconda3/lib/python3.9/site-packages (from medmnist) (2.2.2)\n",
      "Requirement already satisfied: torchvision in /Users/konstantinzorner/opt/anaconda3/lib/python3.9/site-packages (from medmnist) (0.17.2)\n",
      "Requirement already satisfied: termcolor in /Users/konstantinzorner/opt/anaconda3/lib/python3.9/site-packages (from fire->medmnist) (2.1.0)\n",
      "Requirement already satisfied: python-dateutil>=2.8.2 in /Users/konstantinzorner/opt/anaconda3/lib/python3.9/site-packages (from pandas->medmnist) (2.8.2)\n",
      "Requirement already satisfied: pytz>=2020.1 in /Users/konstantinzorner/opt/anaconda3/lib/python3.9/site-packages (from pandas->medmnist) (2023.3.post1)\n",
      "Requirement already satisfied: tzdata>=2022.1 in /Users/konstantinzorner/opt/anaconda3/lib/python3.9/site-packages (from pandas->medmnist) (2023.3)\n",
      "Requirement already satisfied: scipy>=1.9 in /Users/konstantinzorner/opt/anaconda3/lib/python3.9/site-packages (from scikit-image->medmnist) (1.11.3)\n",
      "Requirement already satisfied: networkx>=2.8 in /Users/konstantinzorner/opt/anaconda3/lib/python3.9/site-packages (from scikit-image->medmnist) (3.1)\n",
      "Requirement already satisfied: imageio>=2.33 in /Users/konstantinzorner/opt/anaconda3/lib/python3.9/site-packages (from scikit-image->medmnist) (2.36.1)\n",
      "Requirement already satisfied: tifffile>=2022.8.12 in /Users/konstantinzorner/opt/anaconda3/lib/python3.9/site-packages (from scikit-image->medmnist) (2024.8.30)\n",
      "Requirement already satisfied: packaging>=21 in /Users/konstantinzorner/opt/anaconda3/lib/python3.9/site-packages (from scikit-image->medmnist) (23.2)\n",
      "Requirement already satisfied: lazy-loader>=0.4 in /Users/konstantinzorner/opt/anaconda3/lib/python3.9/site-packages (from scikit-image->medmnist) (0.4)\n",
      "Requirement already satisfied: joblib>=1.1.1 in /Users/konstantinzorner/opt/anaconda3/lib/python3.9/site-packages (from scikit-learn->medmnist) (1.2.0)\n",
      "Requirement already satisfied: threadpoolctl>=2.0.0 in /Users/konstantinzorner/opt/anaconda3/lib/python3.9/site-packages (from scikit-learn->medmnist) (2.2.0)\n",
      "Requirement already satisfied: filelock in /Users/konstantinzorner/opt/anaconda3/lib/python3.9/site-packages (from torch->medmnist) (3.13.1)\n",
      "Requirement already satisfied: typing-extensions>=4.8.0 in /Users/konstantinzorner/opt/anaconda3/lib/python3.9/site-packages (from torch->medmnist) (4.9.0)\n",
      "Requirement already satisfied: sympy in /Users/konstantinzorner/opt/anaconda3/lib/python3.9/site-packages (from torch->medmnist) (1.12)\n",
      "Requirement already satisfied: jinja2 in /Users/konstantinzorner/opt/anaconda3/lib/python3.9/site-packages (from torch->medmnist) (3.1.3)\n",
      "Requirement already satisfied: fsspec in /Users/konstantinzorner/opt/anaconda3/lib/python3.9/site-packages (from torch->medmnist) (2024.10.0)\n",
      "Requirement already satisfied: six>=1.5 in /Users/konstantinzorner/opt/anaconda3/lib/python3.9/site-packages (from python-dateutil>=2.8.2->pandas->medmnist) (1.16.0)\n",
      "Requirement already satisfied: MarkupSafe>=2.0 in /Users/konstantinzorner/opt/anaconda3/lib/python3.9/site-packages (from jinja2->torch->medmnist) (2.1.3)\n",
      "Requirement already satisfied: mpmath>=0.19 in /Users/konstantinzorner/opt/anaconda3/lib/python3.9/site-packages (from sympy->torch->medmnist) (1.3.0)\n"
     ]
    }
   ],
   "source": [
    "!pip install medmnist"
   ]
  },
  {
   "cell_type": "code",
   "execution_count": 2,
   "id": "2821a399",
   "metadata": {},
   "outputs": [],
   "source": [
    "from tqdm import tqdm\n",
    "import numpy as np\n",
    "import torch\n",
    "import torch.nn as nn\n",
    "import torch.optim as optim\n",
    "import torch.utils.data as data\n",
    "import torchvision.transforms as transforms\n",
    "\n",
    "import medmnist\n",
    "from medmnist import INFO, Evaluator"
   ]
  },
  {
   "cell_type": "code",
   "execution_count": 3,
   "id": "66ea6f9b",
   "metadata": {},
   "outputs": [
    {
     "name": "stdout",
     "output_type": "stream",
     "text": [
      "MedMNIST v3.0.1 @ https://github.com/MedMNIST/MedMNIST/\n"
     ]
    }
   ],
   "source": [
    "print(f\"MedMNIST v{medmnist.__version__} @ {medmnist.HOMEPAGE}\")"
   ]
  },
  {
   "cell_type": "code",
   "execution_count": 4,
   "id": "f974a166",
   "metadata": {},
   "outputs": [],
   "source": [
    "data_flag = 'breastmnist'\n",
    "# data_flag = 'breastmnist'\n",
    "download = True\n",
    "\n",
    "NUM_EPOCHS = 3\n",
    "BATCH_SIZE = 128\n",
    "lr = 0.001\n",
    "\n",
    "info = INFO[data_flag]\n",
    "task = info['task']\n",
    "n_channels = info['n_channels']\n",
    "n_classes = len(info['label'])\n",
    "\n",
    "DataClass = getattr(medmnist, info['python_class'])"
   ]
  },
  {
   "cell_type": "code",
   "execution_count": 5,
   "id": "91b4ee80",
   "metadata": {},
   "outputs": [
    {
     "name": "stdout",
     "output_type": "stream",
     "text": [
      "Using downloaded and verified file: /Users/yuqi/.medmnist/breastmnist.npz\n",
      "Using downloaded and verified file: /Users/yuqi/.medmnist/breastmnist.npz\n",
      "Using downloaded and verified file: /Users/yuqi/.medmnist/breastmnist.npz\n"
     ]
    }
   ],
   "source": [
    "# preprocessing\n",
    "data_transform = transforms.Compose([\n",
    "    transforms.ToTensor(),\n",
    "    transforms.Normalize(mean=[.5], std=[.5])\n",
    "])\n",
    "\n",
    "# load the data\n",
    "train_dataset = DataClass(split='train', transform=data_transform, download=download)\n",
    "test_dataset = DataClass(split='test', transform=data_transform, download=download)\n",
    "\n",
    "pil_dataset = DataClass(split='train', download=download)\n",
    "\n",
    "# encapsulate data into dataloader form\n",
    "train_loader = data.DataLoader(dataset=train_dataset, batch_size=BATCH_SIZE, shuffle=True)\n",
    "train_loader_at_eval = data.DataLoader(dataset=train_dataset, batch_size=2*BATCH_SIZE, shuffle=False)\n",
    "test_loader = data.DataLoader(dataset=test_dataset, batch_size=2*BATCH_SIZE, shuffle=False)"
   ]
  },
  {
   "cell_type": "code",
   "execution_count": 6,
   "id": "494fc373",
   "metadata": {},
   "outputs": [
    {
     "name": "stdout",
     "output_type": "stream",
     "text": [
      "Dataset BreastMNIST of size 28 (breastmnist)\n",
      "    Number of datapoints: 546\n",
      "    Root location: /Users/yuqi/.medmnist\n",
      "    Split: train\n",
      "    Task: binary-class\n",
      "    Number of channels: 1\n",
      "    Meaning of labels: {'0': 'malignant', '1': 'normal, benign'}\n",
      "    Number of samples: {'train': 546, 'val': 78, 'test': 156}\n",
      "    Description: The BreastMNIST is based on a dataset of 780 breast ultrasound images. It is categorized into 3 classes: normal, benign, and malignant. As we use low-resolution images, we simplify the task into binary classification by combining normal and benign as positive and classifying them against malignant as negative. We split the source dataset with a ratio of 7:1:2 into training, validation and test set. The source images of 1×500×500 are resized into 1×28×28.\n",
      "    License: CC BY 4.0\n",
      "===================\n",
      "Dataset BreastMNIST of size 28 (breastmnist)\n",
      "    Number of datapoints: 156\n",
      "    Root location: /Users/yuqi/.medmnist\n",
      "    Split: test\n",
      "    Task: binary-class\n",
      "    Number of channels: 1\n",
      "    Meaning of labels: {'0': 'malignant', '1': 'normal, benign'}\n",
      "    Number of samples: {'train': 546, 'val': 78, 'test': 156}\n",
      "    Description: The BreastMNIST is based on a dataset of 780 breast ultrasound images. It is categorized into 3 classes: normal, benign, and malignant. As we use low-resolution images, we simplify the task into binary classification by combining normal and benign as positive and classifying them against malignant as negative. We split the source dataset with a ratio of 7:1:2 into training, validation and test set. The source images of 1×500×500 are resized into 1×28×28.\n",
      "    License: CC BY 4.0\n"
     ]
    }
   ],
   "source": [
    "print(train_dataset)\n",
    "print(\"===================\")\n",
    "print(test_dataset)"
   ]
  },
  {
   "cell_type": "markdown",
   "id": "397f9609",
   "metadata": {},
   "source": [
    "# We first compare their singular values"
   ]
  },
  {
   "cell_type": "markdown",
   "id": "c2c0f17d",
   "metadata": {},
   "source": [
    "## We first use standard SVD to check their singular values"
   ]
  },
  {
   "cell_type": "code",
   "execution_count": 7,
   "id": "7608e94d",
   "metadata": {},
   "outputs": [],
   "source": [
    "from sketching_methods.SVD import standard_svd\n",
    "svd_standards=[]\n",
    "singular_values=[]\n",
    "x_train=[]\n",
    "y_train=[]\n",
    "for data in train_dataset:\n",
    "    x,y=data\n",
    "    x_train.append(np.array(x[0]))\n",
    "    y_train.append(np.array(y))\n",
    "    svd_standard,singular_value=standard_svd(x[0])\n",
    "    svd_standards.append(svd_standard)\n",
    "    singular_values.append(singular_value)\n",
    "    "
   ]
  },
  {
   "cell_type": "code",
   "execution_count": 8,
   "id": "22b9727c",
   "metadata": {},
   "outputs": [],
   "source": [
    "x_train=np.array(x_train)\n",
    "y_train=np.array(y_train)"
   ]
  },
  {
   "cell_type": "code",
   "execution_count": 9,
   "id": "20b60ec3",
   "metadata": {},
   "outputs": [
    {
     "name": "stdout",
     "output_type": "stream",
     "text": [
      "(546, 28, 28)\n"
     ]
    }
   ],
   "source": [
    "print(x_train.shape)"
   ]
  },
  {
   "cell_type": "code",
   "execution_count": 10,
   "id": "e33b5510",
   "metadata": {},
   "outputs": [],
   "source": [
    "svd_standards=np.array(svd_standards)\n",
    "singular_values=np.array(singular_values)"
   ]
  },
  {
   "cell_type": "markdown",
   "id": "6dcdaf8f",
   "metadata": {},
   "source": [
    "## then we try our first sketching matrix"
   ]
  },
  {
   "cell_type": "code",
   "execution_count": 11,
   "id": "6cb58d80",
   "metadata": {},
   "outputs": [
    {
     "name": "stdout",
     "output_type": "stream",
     "text": [
      "Looking in indexes: https://pypi.tuna.tsinghua.edu.cn/simple, https://pypi.ngc.nvidia.com\n",
      "Requirement already satisfied: utils in /Users/yuqi/miniconda3/envs/d2l/lib/python3.10/site-packages (1.0.2)\n"
     ]
    }
   ],
   "source": [
    "!pip install utils"
   ]
  },
  {
   "cell_type": "markdown",
   "id": "6f954757",
   "metadata": {},
   "source": [
    "## Uniform Sketching Matrices"
   ]
  },
  {
   "cell_type": "code",
   "execution_count": 12,
   "id": "2eee1717",
   "metadata": {},
   "outputs": [],
   "source": [
    "uniform_matrices=[]\n",
    "from sketching_methods.sketching import uniform_sketching_matrix\n",
    "for _ in range (len(train_dataset)):\n",
    "    uniform_matrix=uniform_sketching_matrix(28, 12)\n",
    "    uniform_matrices.append(uniform_matrix)\n"
   ]
  },
  {
   "cell_type": "code",
   "execution_count": 13,
   "id": "8d7bdb79",
   "metadata": {},
   "outputs": [],
   "source": [
    "#Turn the matrix into array\n",
    "uniform_matrices=np.array(uniform_matrices)"
   ]
  },
  {
   "cell_type": "code",
   "execution_count": 14,
   "id": "835026c3",
   "metadata": {},
   "outputs": [],
   "source": [
    "#we try to do it in another way\n",
    "import numpy as np\n",
    "from scipy.linalg import svd\n",
    "from numpy.linalg import qr\n",
    "\n",
    "def randomized_svd(A, k, random_matrix,p=5, n_iter=2):\n",
    "    \"\"\"\n",
    "    Perform Randomized SVD on matrix A.\n",
    "    \n",
    "    Parameters:\n",
    "        A: ndarray, shape (m, n)\n",
    "           Input matrix to decompose.\n",
    "        k: int\n",
    "           Target rank (number of singular values/vectors to compute).\n",
    "        p: int, optional (default=5)\n",
    "           Oversampling parameter to improve approximation accuracy.\n",
    "        n_iter: int, optional (default=2)\n",
    "           Number of iterations for power iteration (improves accuracy).\n",
    "           \n",
    "    Returns:\n",
    "        U: ndarray, shape (m, k)\n",
    "           Approximated left singular vectors.\n",
    "        S: ndarray, shape (k,)\n",
    "           Approximated singular values.\n",
    "        V: ndarray, shape (k, n)\n",
    "           Approximated right singular vectors.\n",
    "    \"\"\"\n",
    "    # Step 1: Random sampling\n",
    "    A=A.astype(np.float64)\n",
    "    m, n = A.shape\n",
    "   \n",
    "    Y = A @ random_matrix\n",
    "\n",
    "    # Step 2: Power iteration (optional, improves accuracy for ill-conditioned matrices)\n",
    "    for _ in range(n_iter):\n",
    "        Y = A @ (A.T @ Y)\n",
    "\n",
    "    # Step 3: QR decomposition\n",
    "    Q, _ = qr(Y, mode='reduced')\n",
    "    \n",
    "\n",
    "    # Step 4: Project matrix to lower-dimensional space\n",
    "    B = Q.T @ A\n",
    "\n",
    "    # Step 5: Compute SVD on the smaller matrix\n",
    "    U_tilde, S, Vt = svd(B, full_matrices=False)\n",
    "\n",
    "    # Step 6: Reconstruct the left singular vectors\n",
    "    U = Q @ U_tilde\n",
    "\n",
    "    return U[:, :k], S[:k], Vt[:k, :]\n"
   ]
  },
  {
   "cell_type": "code",
   "execution_count": 15,
   "id": "99aa399c",
   "metadata": {},
   "outputs": [],
   "source": [
    "U_randoms=[]\n",
    "S_randoms=[]\n",
    "V_randoms=[]\n",
    "for i in range(len(train_dataset)):\n",
    "    U_random,S_random,V_random=randomized_svd(x_train[i],12,uniform_matrices[i],3)\n",
    "    U_randoms.append(U_random)\n",
    "    S_randoms.append(S_random)\n",
    "    V_randoms.append(V_random)\n"
   ]
  },
  {
   "cell_type": "code",
   "execution_count": 16,
   "id": "aaa599ba",
   "metadata": {},
   "outputs": [],
   "source": [
    "U_randoms=np.array(U_randoms)\n",
    "S_randoms=np.array(S_randoms)\n",
    "V_randoms=np.array(V_randoms)"
   ]
  },
  {
   "cell_type": "code",
   "execution_count": 17,
   "id": "9c92ef0f",
   "metadata": {},
   "outputs": [],
   "source": [
    "#Compute relevant Error\n",
    "Errors_uniform=[]\n",
    "for i in range(len(train_dataset)):\n",
    "    approx_uniform=U_randoms[i]@np.diag(S_randoms[i])@V_randoms[i]\n",
    "    Errors_uniform.append(np.linalg.norm(approx_uniform-x_train[i],'fro')**2/np.linalg.norm(x_train[i],'fro')**2)\n"
   ]
  },
  {
   "cell_type": "code",
   "execution_count": 18,
   "id": "45df8276",
   "metadata": {},
   "outputs": [],
   "source": [
    "#Errors into nparray\n",
    "Errors_uniform=np.array(Errors_uniform)"
   ]
  },
  {
   "cell_type": "markdown",
   "id": "09393971",
   "metadata": {},
   "source": [
    "## Gaussian Sketching matrices"
   ]
  },
  {
   "cell_type": "code",
   "execution_count": 19,
   "id": "4d8ff0f6",
   "metadata": {},
   "outputs": [],
   "source": [
    "gaussian_matrices=[]\n",
    "from sketching_methods.sketching import gaussian_sketching_matrix\n",
    "for i in range (len(train_dataset)):\n",
    "    gaussian_matrix=gaussian_sketching_matrix(28, 12)\n",
    "    gaussian_matrices.append(gaussian_matrix)"
   ]
  },
  {
   "cell_type": "code",
   "execution_count": 20,
   "id": "1cb39a61",
   "metadata": {},
   "outputs": [],
   "source": [
    "#Turn into nparray\n",
    "gaussian_matrices=np.array(gaussian_matrices)"
   ]
  },
  {
   "cell_type": "code",
   "execution_count": 21,
   "id": "1c7e0ce2",
   "metadata": {},
   "outputs": [],
   "source": [
    "# we conduct the same experiment\n",
    "U_gaussians=[]\n",
    "S_gaussians=[]\n",
    "V_gaussians=[]\n",
    "for i in range(len(train_dataset)):\n",
    "    U_gaussian,S_gaussian,V_gaussian=randomized_svd(x_train[i],12,gaussian_matrices[i],3)\n",
    "    U_gaussians.append(U_gaussian)\n",
    "    S_gaussians.append(S_gaussian)\n",
    "    V_gaussians.append(V_gaussian)"
   ]
  },
  {
   "cell_type": "code",
   "execution_count": 22,
   "id": "35fdc412",
   "metadata": {},
   "outputs": [],
   "source": [
    "#turn them into nparray\n",
    "U_gaussians=np.array(U_gaussians)\n",
    "S_gaussians=np.array(S_gaussians)\n",
    "V_gaussians=np.array(V_gaussians)"
   ]
  },
  {
   "cell_type": "code",
   "execution_count": 23,
   "id": "138bc9cb",
   "metadata": {},
   "outputs": [],
   "source": [
    "#Compute relevant Error\n",
    "Errors_gaussian=[]\n",
    "for i in range(len(train_dataset)):\n",
    "    approx_gaussian=U_gaussians[i]@np.diag(S_gaussians[i])@V_gaussians[i]\n",
    "    Errors_gaussian.append(np.linalg.norm(approx_gaussian-x_train[i],'fro')**2/np.linalg.norm(x_train[i],'fro')**2)\n"
   ]
  },
  {
   "cell_type": "code",
   "execution_count": 24,
   "id": "8048efd6",
   "metadata": {},
   "outputs": [],
   "source": [
    "Errors_gaussian=np.array(Errors_gaussian)"
   ]
  },
  {
   "cell_type": "markdown",
   "id": "54995622",
   "metadata": {},
   "source": [
    "## Radamecher Sketching Matrices"
   ]
  },
  {
   "cell_type": "markdown",
   "id": "f0d46efb",
   "metadata": {},
   "source": []
  },
  {
   "cell_type": "code",
   "execution_count": 25,
   "id": "0524d627",
   "metadata": {},
   "outputs": [],
   "source": [
    "rademacher_matrices=[]\n",
    "from sketching_methods.sketching import rademacher_sketch_matrix\n",
    "for j in range(len(train_dataset)):\n",
    "    rademacher_matrix=rademacher_sketch_matrix(28, 12)\n",
    "    rademacher_matrices.append(rademacher_matrix)\n",
    "    "
   ]
  },
  {
   "cell_type": "code",
   "execution_count": 26,
   "id": "aacc3d9a",
   "metadata": {},
   "outputs": [],
   "source": [
    "#turn it into array\n",
    "rademacher_matrices=np.array(rademacher_matrices)"
   ]
  },
  {
   "cell_type": "code",
   "execution_count": 27,
   "id": "2f67e312",
   "metadata": {},
   "outputs": [],
   "source": [
    "# we conduct the same experiment\n",
    "U_rademachers=[]\n",
    "S_rademachers=[]\n",
    "V_rademachers=[]\n",
    "for i in range(len(train_dataset)):\n",
    "    U_rademacher,S_rademacher,V_rademacher=randomized_svd(x_train[i],12,rademacher_matrices[i],3)\n",
    "    U_rademachers.append(U_rademacher)\n",
    "    S_rademachers.append(S_rademacher)\n",
    "    V_rademachers.append(V_rademacher)\n"
   ]
  },
  {
   "cell_type": "code",
   "execution_count": 28,
   "id": "304ab5a5",
   "metadata": {},
   "outputs": [],
   "source": [
    "U_rademachers=np.array(U_rademachers)\n",
    "S_rademachers=np.array(S_rademachers)\n",
    "V_rademachers=np.array(V_rademachers)"
   ]
  },
  {
   "cell_type": "code",
   "execution_count": 29,
   "id": "f86f8e66",
   "metadata": {},
   "outputs": [],
   "source": [
    "#Compute relevant Error\n",
    "Errors_rademacher=[]\n",
    "for i in range(len(train_dataset)):\n",
    "    approx_rademacher=U_rademachers[i]@np.diag(S_rademachers[i])@V_rademachers[i]\n",
    "    Errors_rademacher.append(np.linalg.norm(approx_rademacher-x_train[i],'fro')**2/np.linalg.norm(x_train[i],'fro')**2)"
   ]
  },
  {
   "cell_type": "markdown",
   "id": "abcae2a9",
   "metadata": {},
   "source": [
    "## Johnson-Linderstrauss Transform Code"
   ]
  },
  {
   "cell_type": "code",
   "execution_count": 30,
   "id": "c86cfe3a",
   "metadata": {},
   "outputs": [],
   "source": [
    "\n",
    "import sys\n",
    "import os\n",
    "sys.path.append(os.path.abspath('.'))\n",
    "\n",
    "\n",
    "from sketching_methods.jlt.linearMapping import calculate_R\n",
    "JLT_matrices=[]\n",
    "for i in range(len(train_dataset)):\n",
    "    JLT_matrix=calculate_R(28,k=12,s=1,random_seed=21,swr=True)\n",
    "    JLT_matrices.append(JLT_matrix)\n",
    "\n"
   ]
  },
  {
   "cell_type": "code",
   "execution_count": 31,
   "id": "29cf7c6d",
   "metadata": {},
   "outputs": [],
   "source": [
    "#Turn it into arrays\n",
    "JLT_matrices=np.array(JLT_matrices)"
   ]
  },
  {
   "cell_type": "code",
   "execution_count": 32,
   "id": "45b1d765",
   "metadata": {},
   "outputs": [],
   "source": [
    "# we conduct the same experiment to do random SVD\n",
    "U_JLTs=[]\n",
    "S_JLTs=[]\n",
    "V_JLTs=[]\n",
    "for i in range(len(train_dataset)):\n",
    "    U_JLT,S_JLT,V_JLT=randomized_svd(x_train[i],12,JLT_matrices[i].toarray().T,3)\n",
    "    U_JLTs.append(U_JLT)\n",
    "    S_JLTs.append(S_JLT)\n",
    "    V_JLTs.append(V_JLT)\n",
    "\n"
   ]
  },
  {
   "cell_type": "code",
   "execution_count": 33,
   "id": "a9edf203",
   "metadata": {},
   "outputs": [],
   "source": [
    "U_JLTs=np.array(U_JLTs)\n",
    "S_JLTs=np.array(S_JLTs)\n",
    "V_JLTs=np.array(V_JLTs)"
   ]
  },
  {
   "cell_type": "code",
   "execution_count": 34,
   "id": "02488175",
   "metadata": {},
   "outputs": [],
   "source": [
    "#Compute relevant Error\n",
    "Errors_JLT=[]\n",
    "for i in range(len(x_train)):\n",
    "    approx_JLT=U_JLTs[i]@np.diag(S_JLTs[i])@V_JLTs[i]\n",
    "    Errors_JLT.append(np.linalg.norm(approx_JLT-x_train[i],'fro')**2/np.linalg.norm(x_train[i],'fro')**2)"
   ]
  },
  {
   "cell_type": "code",
   "execution_count": 35,
   "id": "461d4764",
   "metadata": {},
   "outputs": [],
   "source": [
    "#Turn it into an array\n",
    "Errors_JLT=np.array(Errors_JLT)"
   ]
  },
  {
   "cell_type": "markdown",
   "id": "5c7347d5",
   "metadata": {},
   "source": [
    "## Clarkson_Woodruff"
   ]
  },
  {
   "cell_type": "code",
   "execution_count": 36,
   "id": "0eee6a71",
   "metadata": {},
   "outputs": [],
   "source": [
    "from sketching_methods.sketching import cwt_sketch_matrix\n",
    "cwt_sketch_matrices=[]\n",
    "for _ in range(len(train_dataset)):\n",
    "    cwt_matrix=cwt_sketch_matrix(28,12,rng=None)\n",
    "    cwt_sketch_matrices.append(cwt_matrix)"
   ]
  },
  {
   "cell_type": "code",
   "execution_count": 37,
   "id": "b51b9a33",
   "metadata": {},
   "outputs": [],
   "source": [
    "# we conduct the same experiment to do random SVD\n",
    "U_cwts=[]\n",
    "S_cwts=[]\n",
    "V_cwts=[]\n",
    "for i in range(len(train_dataset)):\n",
    "    U_cwt,S_cwt,V_cwt=randomized_svd(x_train[i],12,cwt_sketch_matrices[i],3)\n",
    "    U_cwts.append(U_cwt)\n",
    "    S_cwts.append(S_cwt)\n",
    "    V_cwts.append(V_cwt)\n"
   ]
  },
  {
   "cell_type": "code",
   "execution_count": 38,
   "id": "dfb70bff",
   "metadata": {},
   "outputs": [],
   "source": [
    "U_cwts=np.array(U_cwts)\n",
    "S_cwts=np.array(S_cwts)\n",
    "V_cwts=np.array(V_cwts)"
   ]
  },
  {
   "cell_type": "code",
   "execution_count": 39,
   "id": "59792fbb",
   "metadata": {},
   "outputs": [],
   "source": [
    "#Compute Relative Error\n",
    "Errors_cwt=[]\n",
    "for i in range(len(train_dataset)):\n",
    "    approx_cwt=U_cwts[i]@np.diag(S_cwts[i])@V_cwts[i]\n",
    "    Errors_cwt.append(np.linalg.norm(approx_cwt-x_train[i],'fro')**2/np.linalg.norm(x_train[i],'fro')**2)"
   ]
  },
  {
   "cell_type": "code",
   "execution_count": 40,
   "id": "d8608b53",
   "metadata": {},
   "outputs": [],
   "source": [
    "Errors_cwt=np.array(Errors_cwt)"
   ]
  },
  {
   "cell_type": "markdown",
   "id": "d47e5cd9",
   "metadata": {},
   "source": [
    "## LESS Transform"
   ]
  },
  {
   "cell_type": "code",
   "execution_count": 41,
   "id": "314f8053",
   "metadata": {},
   "outputs": [],
   "source": [
    "#Another kind of calculation\n",
    "def randomized_SVD_without_power_iteration(Y,A,k):\n",
    "    Q, _ = qr(Y, mode='reduced')\n",
    "    \n",
    "\n",
    "    # Step 4: Project matrix to lower-dimensional space\n",
    "    B = Q.T @ A\n",
    "\n",
    "    # Step 5: Compute SVD on the smaller matrix\n",
    "    U_tilde, S, Vt = svd(B, full_matrices=False)\n",
    "\n",
    "    # Step 6: Reconstruct the left singular vectors\n",
    "    U = Q @ U_tilde\n",
    "\n",
    "    return U[:, :k], S[:k], Vt[:k, :]\n"
   ]
  },
  {
   "cell_type": "markdown",
   "id": "8da27091",
   "metadata": {},
   "source": [
    "## SRFT Transform"
   ]
  },
  {
   "cell_type": "code",
   "execution_count": 42,
   "id": "de63ee54",
   "metadata": {},
   "outputs": [],
   "source": [
    "#SJLT Transform\n",
    "SRFT_matrices=[]\n",
    "from sketching_methods.sketching  import SRFT_real_sketch_matrix\n",
    "\n",
    "for _ in range(len(train_dataset)):\n",
    "    SRFT_matrix=cwt_sketch_matrix(12,28)\n",
    "    SRFT_matrices.append(SRFT_matrix)\n",
    "SRFT_matrices=np.array(SRFT_matrices)\n",
    "\n"
   ]
  },
  {
   "cell_type": "code",
   "execution_count": 43,
   "id": "16091b8c",
   "metadata": {},
   "outputs": [],
   "source": [
    "U_SRFTs=[]\n",
    "S_SRFTs=[]\n",
    "V_SRFTs=[]\n",
    "for i in range(len(train_dataset)):\n",
    "    U_SRFT,S_SRFT,V_SRFT=randomized_svd(x_train[i],12,SRFT_matrices[i].toarray().T,3)\n",
    "    U_SRFTs.append(U_SRFT)\n",
    "    S_SRFTs.append(S_SRFT)\n",
    "    V_SRFTs.append(V_SRFT)\n",
    "U_SRFTs=np.array(U_SRFTs)\n",
    "S_SRFTs=np.array(S_SRFTs)\n",
    "V_SRFTs=np.array(V_SRFTs)\n"
   ]
  },
  {
   "cell_type": "code",
   "execution_count": 44,
   "id": "87f2fa63",
   "metadata": {},
   "outputs": [],
   "source": [
    "#Compute Relative Error\n",
    "#Compute Relative Error\n",
    "Errors_SRFTs=[]\n",
    "for i in range(len(train_dataset)):\n",
    "    approx_SRFT=U_SRFTs[i]@np.diag(S_SRFTs[i])@V_SRFTs[i]\n",
    "    Errors_SRFTs.append(np.linalg.norm(approx_SRFT-x_train[i],'fro')**2/np.linalg.norm(x_train[i],'fro')**2)"
   ]
  },
  {
   "cell_type": "markdown",
   "id": "7570458f",
   "metadata": {},
   "source": [
    "## Hadarmard Transform\n"
   ]
  },
  {
   "cell_type": "code",
   "execution_count": 46,
   "id": "cdc25a1b",
   "metadata": {},
   "outputs": [
    {
     "ename": "ValueError",
     "evalue": "Cannot take a larger sample than population when 'replace=False'",
     "output_type": "error",
     "traceback": [
      "\u001b[0;31m---------------------------------------------------------------------------\u001b[0m",
      "\u001b[0;31mValueError\u001b[0m                                Traceback (most recent call last)",
      "Cell \u001b[0;32mIn[46], line 6\u001b[0m\n\u001b[1;32m      3\u001b[0m \u001b[38;5;28;01mfrom\u001b[39;00m \u001b[38;5;21;01msketching_methods\u001b[39;00m\u001b[38;5;21;01m.\u001b[39;00m\u001b[38;5;21;01msketching\u001b[39;00m  \u001b[38;5;28;01mimport\u001b[39;00m hadamard_sketch_matrix\n\u001b[1;32m      5\u001b[0m \u001b[38;5;28;01mfor\u001b[39;00m _ \u001b[38;5;129;01min\u001b[39;00m \u001b[38;5;28mrange\u001b[39m(\u001b[38;5;28mlen\u001b[39m(train_dataset)):\n\u001b[0;32m----> 6\u001b[0m     hadamard_matrix\u001b[38;5;241m=\u001b[39m\u001b[43mhadamard_sketch_matrix\u001b[49m\u001b[43m(\u001b[49m\u001b[38;5;241;43m28\u001b[39;49m\u001b[43m,\u001b[49m\u001b[38;5;241;43m16\u001b[39;49m\u001b[43m)\u001b[49m\n\u001b[1;32m      7\u001b[0m     Hadamard_matrices\u001b[38;5;241m.\u001b[39mappend(hadamard_matrix)\n\u001b[1;32m      8\u001b[0m Hadamard_matrices\u001b[38;5;241m=\u001b[39mnp\u001b[38;5;241m.\u001b[39marray(Hadamard_matrices)\n",
      "File \u001b[0;32m~/Downloads/Math221-Project/sketching_methods/sketching.py:109\u001b[0m, in \u001b[0;36mhadamard_sketch_matrix\u001b[0;34m(k, m)\u001b[0m\n\u001b[1;32m    107\u001b[0m H \u001b[38;5;241m=\u001b[39m scipy\u001b[38;5;241m.\u001b[39mlinalg\u001b[38;5;241m.\u001b[39mhadamard(m)\n\u001b[1;32m    108\u001b[0m R \u001b[38;5;241m=\u001b[39m np\u001b[38;5;241m.\u001b[39mzeros((k, m))\n\u001b[0;32m--> 109\u001b[0m selected_rows \u001b[38;5;241m=\u001b[39m \u001b[43mnp\u001b[49m\u001b[38;5;241;43m.\u001b[39;49m\u001b[43mrandom\u001b[49m\u001b[38;5;241;43m.\u001b[39;49m\u001b[43mchoice\u001b[49m\u001b[43m(\u001b[49m\u001b[43mm\u001b[49m\u001b[43m,\u001b[49m\u001b[43m \u001b[49m\u001b[43mk\u001b[49m\u001b[43m,\u001b[49m\u001b[43m \u001b[49m\u001b[43mreplace\u001b[49m\u001b[38;5;241;43m=\u001b[39;49m\u001b[38;5;28;43;01mFalse\u001b[39;49;00m\u001b[43m)\u001b[49m\n\u001b[1;32m    110\u001b[0m \u001b[38;5;28;01mfor\u001b[39;00m i, row \u001b[38;5;129;01min\u001b[39;00m \u001b[38;5;28menumerate\u001b[39m(selected_rows):\n\u001b[1;32m    111\u001b[0m     R[i, row] \u001b[38;5;241m=\u001b[39m \u001b[38;5;241m1\u001b[39m\n",
      "File \u001b[0;32mmtrand.pyx:965\u001b[0m, in \u001b[0;36mnumpy.random.mtrand.RandomState.choice\u001b[0;34m()\u001b[0m\n",
      "\u001b[0;31mValueError\u001b[0m: Cannot take a larger sample than population when 'replace=False'"
     ]
    }
   ],
   "source": [
    "#SJLT Transform\n",
    "Hadamard_matrices=[]\n",
    "from sketching_methods.sketching  import hadamard_sketch_matrix\n",
    "\n",
    "for _ in range(len(train_dataset)):\n",
    "    hadamard_matrix=hadamard_sketch_matrix(12,)\n",
    "    Hadamard_matrices.append(hadamard_matrix)\n",
    "Hadamard_matrices=np.array(Hadamard_matrices)\n"
   ]
  },
  {
   "cell_type": "code",
   "execution_count": null,
   "id": "c4ffe413",
   "metadata": {},
   "outputs": [],
   "source": [
    "U_hadamards=[]\n",
    "S_hadamards=[]\n",
    "V_hadamards=[]\n",
    "for i in range(len(train_dataset)):\n",
    "    U_hadamard,S_hadamard,V_hadamard=randomized_svd(x_train[i],12,Hadamard_matrices[i].toarray().T,3)\n",
    "    U_hadamards.append(U_hadamard)\n",
    "    S_hadamards.append(S_hadamard)\n",
    "    V_hadamards.append(V_hadamard)\n",
    "U_hadamards=np.array(U_hadamards)\n",
    "S_hadamards=np.array(S_hadamards)\n",
    "V_hadamards=np.array(V_hadamards)"
   ]
  },
  {
   "cell_type": "code",
   "execution_count": null,
   "id": "4c191de5",
   "metadata": {},
   "outputs": [],
   "source": [
    "#compute relative errors\n",
    "#Compute Relative Error\n",
    "#Compute Relative Error\n",
    "Errors_hadamards=[]\n",
    "for i in range(len(train_dataset)):\n",
    "    approx_hadamard=U_hadamards[i]@np.diag(S_hadamards[i])@V_hadamards[i]\n",
    "    Errors_hadamards.append(np.linalg.norm(approx_hadamard-x_train[i],'fro')**2/np.linalg.norm(x_train[i],'fro')**2)"
   ]
  },
  {
   "cell_type": "markdown",
   "id": "d61e6396",
   "metadata": {},
   "source": [
    "# Visualization"
   ]
  },
  {
   "cell_type": "code",
   "execution_count": 46,
   "id": "79ab58aa",
   "metadata": {},
   "outputs": [],
   "source": [
    "# Combine all those relative errors that we computed\n",
    "errors=np.vstack((Errors_uniform,Errors_gaussian,Errors_rademacher,Errors_JLT,Errors_cwt,Errors_SRFTs)).T"
   ]
  },
  {
   "cell_type": "code",
   "execution_count": 5,
   "id": "ed266d0a",
   "metadata": {},
   "outputs": [
    {
     "ename": "NameError",
     "evalue": "name 'errors' is not defined",
     "output_type": "error",
     "traceback": [
      "\u001b[0;31m---------------------------------------------------------------------------\u001b[0m",
      "\u001b[0;31mNameError\u001b[0m                                 Traceback (most recent call last)",
      "Cell \u001b[0;32mIn[5], line 9\u001b[0m\n\u001b[1;32m      7\u001b[0m ax\u001b[38;5;241m.\u001b[39mset_ylabel(\u001b[38;5;124m'\u001b[39m\u001b[38;5;124mrelative_error\u001b[39m\u001b[38;5;124m'\u001b[39m)\n\u001b[1;32m      8\u001b[0m ax\u001b[38;5;241m.\u001b[39mset_title(\u001b[38;5;124m'\u001b[39m\u001b[38;5;124mPerformance of different sketching matrices on BreastMNIST\u001b[39m\u001b[38;5;124m'\u001b[39m)\n\u001b[0;32m----> 9\u001b[0m bplot\u001b[38;5;241m=\u001b[39max\u001b[38;5;241m.\u001b[39mboxplot(\u001b[43merrors\u001b[49m, patch_artist\u001b[38;5;241m=\u001b[39m\u001b[38;5;28;01mTrue\u001b[39;00m,labels\u001b[38;5;241m=\u001b[39mlabels)\n\u001b[1;32m     11\u001b[0m \u001b[38;5;28;01mfor\u001b[39;00m patch, color \u001b[38;5;129;01min\u001b[39;00m \u001b[38;5;28mzip\u001b[39m(bplot[\u001b[38;5;124m'\u001b[39m\u001b[38;5;124mboxes\u001b[39m\u001b[38;5;124m'\u001b[39m],colors):\n\u001b[1;32m     12\u001b[0m     patch\u001b[38;5;241m.\u001b[39mset_facecolor(color)\n",
      "\u001b[0;31mNameError\u001b[0m: name 'errors' is not defined"
     ]
    },
    {
     "data": {
      "image/png": "[encoded data removed]",
      "text/plain": [
       "<Figure size 640x480 with 1 Axes>"
      ]
     },
     "metadata": {},
     "output_type": "display_data"
    }
   ],
   "source": [
    "#We try to do some boxplots\n",
    "#Considering relevant Error\n",
    "import matplotlib.pyplot as plt\n",
    "labels=['uniform','gaussian','rademacher','JLT','cwt','SRFT']\n",
    "colors=['red','yellow','green','blue','purple','black']\n",
    "fig,ax=plt.subplots()\n",
    "ax.set_ylabel('relative_error')\n",
    "ax.set_title('Performance of different sketching matrices on BreastMNIST')\n",
    "bplot=ax.boxplot(errors, patch_artist=True,labels=labels)\n",
    "\n",
    "for patch, color in zip(bplot['boxes'],colors):\n",
    "    patch.set_facecolor(color)\n",
    "plt.show()"
   ]
  },
  {
   "cell_type": "code",
   "execution_count": 48,
   "id": "3663f831",
   "metadata": {},
   "outputs": [
    {
     "data": {
      "text/html": [
       "<div>\n",
       "<style scoped>\n",
       "    .dataframe tbody tr th:only-of-type {\n",
       "        vertical-align: middle;\n",
       "    }\n",
       "\n",
       "    .dataframe tbody tr th {\n",
       "        vertical-align: top;\n",
       "    }\n",
       "\n",
       "    .dataframe thead th {\n",
       "        text-align: right;\n",
       "    }\n",
       "</style>\n",
       "<table border=\"1\" class=\"dataframe\">\n",
       "  <thead>\n",
       "    <tr style=\"text-align: right;\">\n",
       "      <th></th>\n",
       "      <th>0</th>\n",
       "      <th>1</th>\n",
       "      <th>2</th>\n",
       "      <th>3</th>\n",
       "      <th>4</th>\n",
       "      <th>5</th>\n",
       "    </tr>\n",
       "  </thead>\n",
       "  <tbody>\n",
       "    <tr>\n",
       "      <th>count</th>\n",
       "      <td>546.000000</td>\n",
       "      <td>546.000000</td>\n",
       "      <td>546.000000</td>\n",
       "      <td>546.000000</td>\n",
       "      <td>546.000000</td>\n",
       "      <td>546.000000</td>\n",
       "    </tr>\n",
       "    <tr>\n",
       "      <th>mean</th>\n",
       "      <td>0.001268</td>\n",
       "      <td>0.001269</td>\n",
       "      <td>0.001267</td>\n",
       "      <td>0.001274</td>\n",
       "      <td>0.002316</td>\n",
       "      <td>0.001682</td>\n",
       "    </tr>\n",
       "    <tr>\n",
       "      <th>std</th>\n",
       "      <td>0.001127</td>\n",
       "      <td>0.001141</td>\n",
       "      <td>0.001141</td>\n",
       "      <td>0.001154</td>\n",
       "      <td>0.002296</td>\n",
       "      <td>0.001590</td>\n",
       "    </tr>\n",
       "    <tr>\n",
       "      <th>min</th>\n",
       "      <td>0.000019</td>\n",
       "      <td>0.000019</td>\n",
       "      <td>0.000020</td>\n",
       "      <td>0.000019</td>\n",
       "      <td>0.000020</td>\n",
       "      <td>0.000025</td>\n",
       "    </tr>\n",
       "    <tr>\n",
       "      <th>25%</th>\n",
       "      <td>0.000516</td>\n",
       "      <td>0.000522</td>\n",
       "      <td>0.000525</td>\n",
       "      <td>0.000513</td>\n",
       "      <td>0.000869</td>\n",
       "      <td>0.000661</td>\n",
       "    </tr>\n",
       "    <tr>\n",
       "      <th>50%</th>\n",
       "      <td>0.000967</td>\n",
       "      <td>0.000992</td>\n",
       "      <td>0.000965</td>\n",
       "      <td>0.000980</td>\n",
       "      <td>0.001595</td>\n",
       "      <td>0.001222</td>\n",
       "    </tr>\n",
       "    <tr>\n",
       "      <th>75%</th>\n",
       "      <td>0.001602</td>\n",
       "      <td>0.001546</td>\n",
       "      <td>0.001607</td>\n",
       "      <td>0.001619</td>\n",
       "      <td>0.002825</td>\n",
       "      <td>0.002071</td>\n",
       "    </tr>\n",
       "    <tr>\n",
       "      <th>max</th>\n",
       "      <td>0.010432</td>\n",
       "      <td>0.011064</td>\n",
       "      <td>0.010788</td>\n",
       "      <td>0.010772</td>\n",
       "      <td>0.018462</td>\n",
       "      <td>0.018024</td>\n",
       "    </tr>\n",
       "  </tbody>\n",
       "</table>\n",
       "</div>"
      ],
      "text/plain": [
       "                0           1           2           3           4           5\n",
       "count  546.000000  546.000000  546.000000  546.000000  546.000000  546.000000\n",
       "mean     0.001268    0.001269    0.001267    0.001274    0.002316    0.001682\n",
       "std      0.001127    0.001141    0.001141    0.001154    0.002296    0.001590\n",
       "min      0.000019    0.000019    0.000020    0.000019    0.000020    0.000025\n",
       "25%      0.000516    0.000522    0.000525    0.000513    0.000869    0.000661\n",
       "50%      0.000967    0.000992    0.000965    0.000980    0.001595    0.001222\n",
       "75%      0.001602    0.001546    0.001607    0.001619    0.002825    0.002071\n",
       "max      0.010432    0.011064    0.010788    0.010772    0.018462    0.018024"
      ]
     },
     "execution_count": 48,
     "metadata": {},
     "output_type": "execute_result"
    }
   ],
   "source": [
    "##Check more metric\n",
    "import pandas as pd\n",
    "df_describe=pd.DataFrame(errors)\n",
    "df_describe.describe()"
   ]
  },
  {
   "cell_type": "markdown",
   "id": "086b3e67",
   "metadata": {},
   "source": [
    "## Standard SVD"
   ]
  },
  {
   "cell_type": "code",
   "execution_count": 47,
   "id": "7193330a",
   "metadata": {},
   "outputs": [],
   "source": [
    "# Let's check their condition number\n",
    "Condition_number=[]\n",
    "result_svd=[]\n",
    "for i in range(len(x_train)):\n",
    "    S,V,D=svd(x_train[i],full_matrices=False)\n",
    "    approx_svd=S[:,:12]@np.diag(V[:12])@D[:12,:]\n",
    "    result_svd.append(approx_svd)\n",
    "    condition=V[0]/V[-1]\n",
    "    Condition_number.append(condition)"
   ]
  },
  {
   "cell_type": "code",
   "execution_count": 18,
   "id": "c409bbcb",
   "metadata": {},
   "outputs": [
    {
     "data": {
      "image/png": "[encoded data removed]",
      "text/plain": [
       "<Figure size 640x480 with 1 Axes>"
      ]
     },
     "metadata": {},
     "output_type": "display_data"
    }
   ],
   "source": [
    "plt.hist(Condition_number, bins=30, color='skyblue', edgecolor='black', alpha=0.7)\n",
    "\n",
    "# 添加标题和标签\n",
    "plt.title('Distribution of Condition Numbers in BreastMNIST')\n",
    "plt.xlabel('condition number')\n",
    "plt.ylabel('times')\n",
    "\n",
    "# 显示图形\n",
    "plt.show()\n"
   ]
  },
  {
   "cell_type": "code",
   "execution_count": 50,
   "id": "51e9f00e",
   "metadata": {},
   "outputs": [
    {
     "name": "stdout",
     "output_type": "stream",
     "text": [
      "mean 214174.42\n",
      "median 7550.501\n",
      "std 2092977.5\n",
      "var 4380555000000.0\n",
      "min 647.31476\n",
      "max 37453104.0\n",
      "percentile [ 3532.62408447  7550.50073242 19286.70947266]\n"
     ]
    }
   ],
   "source": [
    "print('mean',np.mean(Condition_number))\n",
    "print('median',np.median(Condition_number))         # 中位数\n",
    "print('std',np.std(Condition_number))           # 标准差\n",
    "print('var',np.var(Condition_number))          # 方差\n",
    "print('min',np.min(Condition_number))           # 最小值\n",
    "print('max',np.max(Condition_number))           # 最大值\n",
    "print('percentile',np.percentile(Condition_number, [25, 50, 75]))  # 四分位数"
   ]
  },
  {
   "cell_type": "code",
   "execution_count": 20,
   "id": "691bb230",
   "metadata": {},
   "outputs": [
    {
     "data": {
      "text/plain": [
       "647.31476"
      ]
     },
     "execution_count": 20,
     "metadata": {},
     "output_type": "execute_result"
    }
   ],
   "source": [
    "np.min(Condition_number)"
   ]
  },
  {
   "cell_type": "code",
   "execution_count": 21,
   "id": "bb55ab5a",
   "metadata": {},
   "outputs": [
    {
     "data": {
      "text/plain": [
       "37453104.0"
      ]
     },
     "execution_count": 21,
     "metadata": {},
     "output_type": "execute_result"
    }
   ],
   "source": [
    "np.max(Condition_number)"
   ]
  },
  {
   "cell_type": "code",
   "execution_count": null,
   "id": "26de50ef",
   "metadata": {},
   "outputs": [],
   "source": []
  }
 ],
 "metadata": {
  "kernelspec": {
   "display_name": "d2l",
   "language": "python",
   "name": "python3"
  },
  "language_info": {
   "codemirror_mode": {
    "name": "ipython",
    "version": 3
   },
   "file_extension": ".py",
   "mimetype": "text/x-python",
   "name": "python",
   "nbconvert_exporter": "python",
   "pygments_lexer": "ipython3",
   "version": "3.10.8"
  }
 },
 "nbformat": 4,
 "nbformat_minor": 5
}

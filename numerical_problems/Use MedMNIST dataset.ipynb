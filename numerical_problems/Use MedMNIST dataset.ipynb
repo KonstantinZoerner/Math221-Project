{
 "cells": [
  {
   "cell_type": "code",
   "execution_count": 1,
   "id": "cea19797",
   "metadata": {},
   "outputs": [
    {
     "name": "stdout",
     "output_type": "stream",
     "text": [
      "Looking in indexes: https://pypi.tuna.tsinghua.edu.cn/simple, https://pypi.ngc.nvidia.com\n",
      "Requirement already satisfied: medmnist in /Users/yuqi/miniconda3/envs/d2l/lib/python3.10/site-packages (3.0.1)\n",
      "Requirement already satisfied: numpy in /Users/yuqi/miniconda3/envs/d2l/lib/python3.10/site-packages (from medmnist) (1.23.5)\n",
      "Requirement already satisfied: pandas in /Users/yuqi/miniconda3/envs/d2l/lib/python3.10/site-packages (from medmnist) (2.0.3)\n",
      "Requirement already satisfied: scikit-learn in /Users/yuqi/miniconda3/envs/d2l/lib/python3.10/site-packages (from medmnist) (1.3.1)\n",
      "Requirement already satisfied: scikit-image in /Users/yuqi/miniconda3/envs/d2l/lib/python3.10/site-packages (from medmnist) (0.22.0)\n",
      "Requirement already satisfied: tqdm in /Users/yuqi/miniconda3/envs/d2l/lib/python3.10/site-packages (from medmnist) (4.66.4)\n",
      "Requirement already satisfied: Pillow in /Users/yuqi/miniconda3/envs/d2l/lib/python3.10/site-packages (from medmnist) (10.0.0)\n",
      "Requirement already satisfied: fire in /Users/yuqi/miniconda3/envs/d2l/lib/python3.10/site-packages (from medmnist) (0.5.0)\n",
      "Requirement already satisfied: torch in /Users/yuqi/miniconda3/envs/d2l/lib/python3.10/site-packages (from medmnist) (2.3.1)\n",
      "Requirement already satisfied: torchvision in /Users/yuqi/miniconda3/envs/d2l/lib/python3.10/site-packages (from medmnist) (0.18.1)\n",
      "Requirement already satisfied: six in /Users/yuqi/miniconda3/envs/d2l/lib/python3.10/site-packages (from fire->medmnist) (1.16.0)\n",
      "Requirement already satisfied: termcolor in /Users/yuqi/miniconda3/envs/d2l/lib/python3.10/site-packages (from fire->medmnist) (2.1.0)\n",
      "Requirement already satisfied: python-dateutil>=2.8.2 in /Users/yuqi/miniconda3/envs/d2l/lib/python3.10/site-packages (from pandas->medmnist) (2.8.2)\n",
      "Requirement already satisfied: pytz>=2020.1 in /Users/yuqi/miniconda3/envs/d2l/lib/python3.10/site-packages (from pandas->medmnist) (2023.3)\n",
      "Requirement already satisfied: tzdata>=2022.1 in /Users/yuqi/miniconda3/envs/d2l/lib/python3.10/site-packages (from pandas->medmnist) (2023.3)\n",
      "Requirement already satisfied: scipy>=1.8 in /Users/yuqi/miniconda3/envs/d2l/lib/python3.10/site-packages (from scikit-image->medmnist) (1.10.1)\n",
      "Requirement already satisfied: networkx>=2.8 in /Users/yuqi/miniconda3/envs/d2l/lib/python3.10/site-packages (from scikit-image->medmnist) (3.2.1)\n",
      "Requirement already satisfied: imageio>=2.27 in /Users/yuqi/miniconda3/envs/d2l/lib/python3.10/site-packages (from scikit-image->medmnist) (2.33.0)\n",
      "Requirement already satisfied: tifffile>=2022.8.12 in /Users/yuqi/miniconda3/envs/d2l/lib/python3.10/site-packages (from scikit-image->medmnist) (2024.2.12)\n",
      "Requirement already satisfied: packaging>=21 in /Users/yuqi/miniconda3/envs/d2l/lib/python3.10/site-packages (from scikit-image->medmnist) (23.0)\n",
      "Requirement already satisfied: lazy_loader>=0.3 in /Users/yuqi/miniconda3/envs/d2l/lib/python3.10/site-packages (from scikit-image->medmnist) (0.3)\n",
      "Requirement already satisfied: joblib>=1.1.1 in /Users/yuqi/miniconda3/envs/d2l/lib/python3.10/site-packages (from scikit-learn->medmnist) (1.3.2)\n",
      "Requirement already satisfied: threadpoolctl>=2.0.0 in /Users/yuqi/miniconda3/envs/d2l/lib/python3.10/site-packages (from scikit-learn->medmnist) (3.2.0)\n",
      "Requirement already satisfied: filelock in /Users/yuqi/miniconda3/envs/d2l/lib/python3.10/site-packages (from torch->medmnist) (3.12.2)\n",
      "Requirement already satisfied: typing-extensions>=4.8.0 in /Users/yuqi/miniconda3/envs/d2l/lib/python3.10/site-packages (from torch->medmnist) (4.11.0)\n",
      "Requirement already satisfied: sympy in /Users/yuqi/miniconda3/envs/d2l/lib/python3.10/site-packages (from torch->medmnist) (1.12)\n",
      "Requirement already satisfied: jinja2 in /Users/yuqi/miniconda3/envs/d2l/lib/python3.10/site-packages (from torch->medmnist) (3.1.2)\n",
      "Requirement already satisfied: fsspec in /Users/yuqi/miniconda3/envs/d2l/lib/python3.10/site-packages (from torch->medmnist) (2023.6.0)\n",
      "Requirement already satisfied: MarkupSafe>=2.0 in /Users/yuqi/miniconda3/envs/d2l/lib/python3.10/site-packages (from jinja2->torch->medmnist) (2.1.3)\n",
      "Requirement already satisfied: mpmath>=0.19 in /Users/yuqi/miniconda3/envs/d2l/lib/python3.10/site-packages (from sympy->torch->medmnist) (1.3.0)\n"
     ]
    }
   ],
   "source": [
    "!pip install medmnist"
   ]
  },
  {
   "cell_type": "code",
   "execution_count": 2,
   "id": "2821a399",
   "metadata": {},
   "outputs": [],
   "source": [
    "from tqdm import tqdm\n",
    "import numpy as np\n",
    "import torch\n",
    "import torch.nn as nn\n",
    "import torch.optim as optim\n",
    "import torch.utils.data as data\n",
    "import torchvision.transforms as transforms\n",
    "\n",
    "import medmnist\n",
    "from medmnist import INFO, Evaluator"
   ]
  },
  {
   "cell_type": "code",
   "execution_count": 3,
   "id": "66ea6f9b",
   "metadata": {},
   "outputs": [
    {
     "name": "stdout",
     "output_type": "stream",
     "text": [
      "MedMNIST v3.0.1 @ https://github.com/MedMNIST/MedMNIST/\n"
     ]
    }
   ],
   "source": [
    "print(f\"MedMNIST v{medmnist.__version__} @ {medmnist.HOMEPAGE}\")"
   ]
  },
  {
   "cell_type": "code",
   "execution_count": 7,
   "id": "f974a166",
   "metadata": {},
   "outputs": [],
   "source": [
    "data_flag = 'breastmnist'\n",
    "# data_flag = 'breastmnist'\n",
    "download = True\n",
    "\n",
    "NUM_EPOCHS = 3\n",
    "BATCH_SIZE = 128\n",
    "lr = 0.001\n",
    "\n",
    "info = INFO[data_flag]\n",
    "task = info['task']\n",
    "n_channels = info['n_channels']\n",
    "n_classes = len(info['label'])\n",
    "\n",
    "DataClass = getattr(medmnist, info['python_class'])"
   ]
  },
  {
   "cell_type": "code",
   "execution_count": 8,
   "id": "91b4ee80",
   "metadata": {},
   "outputs": [
    {
     "name": "stdout",
     "output_type": "stream",
     "text": [
      "Using downloaded and verified file: /Users/yuqi/.medmnist/breastmnist.npz\n",
      "Using downloaded and verified file: /Users/yuqi/.medmnist/breastmnist.npz\n",
      "Using downloaded and verified file: /Users/yuqi/.medmnist/breastmnist.npz\n"
     ]
    }
   ],
   "source": [
    "# preprocessing\n",
    "data_transform = transforms.Compose([\n",
    "    transforms.ToTensor(),\n",
    "    transforms.Normalize(mean=[.5], std=[.5])\n",
    "])\n",
    "\n",
    "# load the data\n",
    "train_dataset = DataClass(split='train', transform=data_transform, download=download)\n",
    "test_dataset = DataClass(split='test', transform=data_transform, download=download)\n",
    "\n",
    "pil_dataset = DataClass(split='train', download=download)\n",
    "\n",
    "# encapsulate data into dataloader form\n",
    "train_loader = data.DataLoader(dataset=train_dataset, batch_size=BATCH_SIZE, shuffle=True)\n",
    "train_loader_at_eval = data.DataLoader(dataset=train_dataset, batch_size=2*BATCH_SIZE, shuffle=False)\n",
    "test_loader = data.DataLoader(dataset=test_dataset, batch_size=2*BATCH_SIZE, shuffle=False)"
   ]
  },
  {
   "cell_type": "code",
   "execution_count": 9,
   "id": "494fc373",
   "metadata": {},
   "outputs": [
    {
     "name": "stdout",
     "output_type": "stream",
     "text": [
      "Dataset BreastMNIST of size 28 (breastmnist)\n",
      "    Number of datapoints: 546\n",
      "    Root location: /Users/yuqi/.medmnist\n",
      "    Split: train\n",
      "    Task: binary-class\n",
      "    Number of channels: 1\n",
      "    Meaning of labels: {'0': 'malignant', '1': 'normal, benign'}\n",
      "    Number of samples: {'train': 546, 'val': 78, 'test': 156}\n",
      "    Description: The BreastMNIST is based on a dataset of 780 breast ultrasound images. It is categorized into 3 classes: normal, benign, and malignant. As we use low-resolution images, we simplify the task into binary classification by combining normal and benign as positive and classifying them against malignant as negative. We split the source dataset with a ratio of 7:1:2 into training, validation and test set. The source images of 1×500×500 are resized into 1×28×28.\n",
      "    License: CC BY 4.0\n",
      "===================\n",
      "Dataset BreastMNIST of size 28 (breastmnist)\n",
      "    Number of datapoints: 156\n",
      "    Root location: /Users/yuqi/.medmnist\n",
      "    Split: test\n",
      "    Task: binary-class\n",
      "    Number of channels: 1\n",
      "    Meaning of labels: {'0': 'malignant', '1': 'normal, benign'}\n",
      "    Number of samples: {'train': 546, 'val': 78, 'test': 156}\n",
      "    Description: The BreastMNIST is based on a dataset of 780 breast ultrasound images. It is categorized into 3 classes: normal, benign, and malignant. As we use low-resolution images, we simplify the task into binary classification by combining normal and benign as positive and classifying them against malignant as negative. We split the source dataset with a ratio of 7:1:2 into training, validation and test set. The source images of 1×500×500 are resized into 1×28×28.\n",
      "    License: CC BY 4.0\n"
     ]
    }
   ],
   "source": [
    "print(train_dataset)\n",
    "print(\"===================\")\n",
    "print(test_dataset)"
   ]
  },
  {
   "cell_type": "markdown",
   "id": "397f9609",
   "metadata": {},
   "source": [
    "# We first compare their singular values"
   ]
  },
  {
   "cell_type": "markdown",
   "id": "c2c0f17d",
   "metadata": {},
   "source": [
    "## We first use standard SVD to check their singular values"
   ]
  },
  {
   "cell_type": "code",
   "execution_count": 10,
   "id": "80d03582",
   "metadata": {},
   "outputs": [],
   "source": [
    "from SVD import standard_svd"
   ]
  },
  {
   "cell_type": "code",
   "execution_count": 11,
   "id": "ce3857ef",
   "metadata": {},
   "outputs": [],
   "source": [
    "x, y = train_dataset[0]"
   ]
  },
  {
   "cell_type": "code",
   "execution_count": 13,
   "id": "1c431963",
   "metadata": {},
   "outputs": [
    {
     "data": {
      "text/plain": [
       "(torch.Size([1, 28, 28]), (1,))"
      ]
     },
     "execution_count": 13,
     "metadata": {},
     "output_type": "execute_result"
    }
   ],
   "source": [
    "x.shape,y.shape"
   ]
  },
  {
   "cell_type": "code",
   "execution_count": 14,
   "id": "e737effc",
   "metadata": {},
   "outputs": [
    {
     "data": {
      "text/plain": [
       "torch.Tensor"
      ]
     },
     "execution_count": 14,
     "metadata": {},
     "output_type": "execute_result"
    }
   ],
   "source": [
    "type(x)"
   ]
  },
  {
   "cell_type": "code",
   "execution_count": 18,
   "id": "1b9c646e",
   "metadata": {},
   "outputs": [],
   "source": [
    "SVD_standard=np.zeros(10)"
   ]
  },
  {
   "cell_type": "code",
   "execution_count": null,
   "id": "95565ed0",
   "metadata": {},
   "outputs": [],
   "source": [
    "SVD"
   ]
  },
  {
   "cell_type": "code",
   "execution_count": 15,
   "id": "7608e94d",
   "metadata": {},
   "outputs": [],
   "source": [
    "for i in range(10):\n",
    "    x,y=train_dataset[i]\n",
    "    SVD_standard, singular_values=standard_svd(x[0])"
   ]
  },
  {
   "cell_type": "code",
   "execution_count": 16,
   "id": "a0ada91d",
   "metadata": {},
   "outputs": [
    {
     "name": "stdout",
     "output_type": "stream",
     "text": [
      "[1.1403920e+01 2.5492389e+00 1.7303849e+00 1.3565499e+00 1.2179061e+00\n",
      " 8.9032990e-01 6.8286926e-01 6.1622620e-01 6.0441703e-01 4.5058477e-01\n",
      " 3.5106349e-01 3.3365169e-01 2.6797858e-01 2.2811188e-01 2.1270064e-01\n",
      " 1.7465991e-01 1.4750369e-01 1.3005732e-01 1.1633617e-01 9.2636526e-02\n",
      " 7.1680062e-02 6.6214167e-02 4.7915462e-02 3.7108663e-02 3.1721704e-02\n",
      " 2.2649294e-02 1.1360338e-02 4.9718725e-03]\n"
     ]
    }
   ],
   "source": [
    "print(singular_values)"
   ]
  },
  {
   "cell_type": "code",
   "execution_count": null,
   "id": "339f91e6",
   "metadata": {},
   "outputs": [],
   "source": []
  }
 ],
 "metadata": {
  "kernelspec": {
   "display_name": "Python 3 (ipykernel)",
   "language": "python",
   "name": "python3"
  },
  "language_info": {
   "codemirror_mode": {
    "name": "ipython",
    "version": 3
   },
   "file_extension": ".py",
   "mimetype": "text/x-python",
   "name": "python",
   "nbconvert_exporter": "python",
   "pygments_lexer": "ipython3",
   "version": "3.10.8"
  }
 },
 "nbformat": 4,
 "nbformat_minor": 5
}

{
 "cells": [
  {
   "cell_type": "code",
   "execution_count": 1,
   "id": "cea19797",
   "metadata": {},
   "outputs": [
    {
     "name": "stdout",
     "output_type": "stream",
     "text": [
      "Looking in indexes: https://pypi.tuna.tsinghua.edu.cn/simple, https://pypi.ngc.nvidia.com\n",
      "Requirement already satisfied: medmnist in /Users/yuqi/miniconda3/envs/d2l/lib/python3.10/site-packages (3.0.1)\n",
      "Requirement already satisfied: numpy in /Users/yuqi/miniconda3/envs/d2l/lib/python3.10/site-packages (from medmnist) (1.23.5)\n",
      "Requirement already satisfied: pandas in /Users/yuqi/miniconda3/envs/d2l/lib/python3.10/site-packages (from medmnist) (2.0.3)\n",
      "Requirement already satisfied: scikit-learn in /Users/yuqi/miniconda3/envs/d2l/lib/python3.10/site-packages (from medmnist) (1.3.1)\n",
      "Requirement already satisfied: scikit-image in /Users/yuqi/miniconda3/envs/d2l/lib/python3.10/site-packages (from medmnist) (0.22.0)\n",
      "Requirement already satisfied: tqdm in /Users/yuqi/miniconda3/envs/d2l/lib/python3.10/site-packages (from medmnist) (4.66.4)\n",
      "Requirement already satisfied: Pillow in /Users/yuqi/miniconda3/envs/d2l/lib/python3.10/site-packages (from medmnist) (10.0.0)\n",
      "Requirement already satisfied: fire in /Users/yuqi/miniconda3/envs/d2l/lib/python3.10/site-packages (from medmnist) (0.5.0)\n",
      "Requirement already satisfied: torch in /Users/yuqi/miniconda3/envs/d2l/lib/python3.10/site-packages (from medmnist) (2.3.1)\n",
      "Requirement already satisfied: torchvision in /Users/yuqi/miniconda3/envs/d2l/lib/python3.10/site-packages (from medmnist) (0.18.1)\n",
      "Requirement already satisfied: six in /Users/yuqi/miniconda3/envs/d2l/lib/python3.10/site-packages (from fire->medmnist) (1.16.0)\n",
      "Requirement already satisfied: termcolor in /Users/yuqi/miniconda3/envs/d2l/lib/python3.10/site-packages (from fire->medmnist) (2.1.0)\n",
      "Requirement already satisfied: python-dateutil>=2.8.2 in /Users/yuqi/miniconda3/envs/d2l/lib/python3.10/site-packages (from pandas->medmnist) (2.8.2)\n",
      "Requirement already satisfied: pytz>=2020.1 in /Users/yuqi/miniconda3/envs/d2l/lib/python3.10/site-packages (from pandas->medmnist) (2023.3)\n",
      "Requirement already satisfied: tzdata>=2022.1 in /Users/yuqi/miniconda3/envs/d2l/lib/python3.10/site-packages (from pandas->medmnist) (2023.3)\n",
      "Requirement already satisfied: scipy>=1.8 in /Users/yuqi/miniconda3/envs/d2l/lib/python3.10/site-packages (from scikit-image->medmnist) (1.10.1)\n",
      "Requirement already satisfied: networkx>=2.8 in /Users/yuqi/miniconda3/envs/d2l/lib/python3.10/site-packages (from scikit-image->medmnist) (3.2.1)\n",
      "Requirement already satisfied: imageio>=2.27 in /Users/yuqi/miniconda3/envs/d2l/lib/python3.10/site-packages (from scikit-image->medmnist) (2.33.0)\n",
      "Requirement already satisfied: tifffile>=2022.8.12 in /Users/yuqi/miniconda3/envs/d2l/lib/python3.10/site-packages (from scikit-image->medmnist) (2024.2.12)\n",
      "Requirement already satisfied: packaging>=21 in /Users/yuqi/miniconda3/envs/d2l/lib/python3.10/site-packages (from scikit-image->medmnist) (23.0)\n",
      "Requirement already satisfied: lazy_loader>=0.3 in /Users/yuqi/miniconda3/envs/d2l/lib/python3.10/site-packages (from scikit-image->medmnist) (0.3)\n",
      "Requirement already satisfied: joblib>=1.1.1 in /Users/yuqi/miniconda3/envs/d2l/lib/python3.10/site-packages (from scikit-learn->medmnist) (1.3.2)\n",
      "Requirement already satisfied: threadpoolctl>=2.0.0 in /Users/yuqi/miniconda3/envs/d2l/lib/python3.10/site-packages (from scikit-learn->medmnist) (3.2.0)\n",
      "Requirement already satisfied: filelock in /Users/yuqi/miniconda3/envs/d2l/lib/python3.10/site-packages (from torch->medmnist) (3.12.2)\n",
      "Requirement already satisfied: typing-extensions>=4.8.0 in /Users/yuqi/miniconda3/envs/d2l/lib/python3.10/site-packages (from torch->medmnist) (4.11.0)\n",
      "Requirement already satisfied: sympy in /Users/yuqi/miniconda3/envs/d2l/lib/python3.10/site-packages (from torch->medmnist) (1.12)\n",
      "Requirement already satisfied: jinja2 in /Users/yuqi/miniconda3/envs/d2l/lib/python3.10/site-packages (from torch->medmnist) (3.1.2)\n",
      "Requirement already satisfied: fsspec in /Users/yuqi/miniconda3/envs/d2l/lib/python3.10/site-packages (from torch->medmnist) (2023.6.0)\n",
      "Requirement already satisfied: MarkupSafe>=2.0 in /Users/yuqi/miniconda3/envs/d2l/lib/python3.10/site-packages (from jinja2->torch->medmnist) (2.1.3)\n",
      "Requirement already satisfied: mpmath>=0.19 in /Users/yuqi/miniconda3/envs/d2l/lib/python3.10/site-packages (from sympy->torch->medmnist) (1.3.0)\n"
     ]
    }
   ],
   "source": [
    "!pip install medmnist"
   ]
  },
  {
   "cell_type": "code",
   "execution_count": 2,
   "id": "2821a399",
   "metadata": {},
   "outputs": [],
   "source": [
    "from tqdm import tqdm\n",
    "import numpy as np\n",
    "import torch\n",
    "import torch.nn as nn\n",
    "import torch.optim as optim\n",
    "import torch.utils.data as data\n",
    "import torchvision.transforms as transforms\n",
    "\n",
    "import medmnist\n",
    "from medmnist import INFO, Evaluator"
   ]
  },
  {
   "cell_type": "code",
   "execution_count": 3,
   "id": "66ea6f9b",
   "metadata": {},
   "outputs": [
    {
     "name": "stdout",
     "output_type": "stream",
     "text": [
      "MedMNIST v3.0.1 @ https://github.com/MedMNIST/MedMNIST/\n"
     ]
    }
   ],
   "source": [
    "print(f\"MedMNIST v{medmnist.__version__} @ {medmnist.HOMEPAGE}\")"
   ]
  },
  {
   "cell_type": "code",
   "execution_count": 4,
   "id": "f974a166",
   "metadata": {},
   "outputs": [],
   "source": [
    "data_flag = 'breastmnist'\n",
    "# data_flag = 'breastmnist'\n",
    "download = True\n",
    "\n",
    "NUM_EPOCHS = 3\n",
    "BATCH_SIZE = 128\n",
    "lr = 0.001\n",
    "\n",
    "info = INFO[data_flag]\n",
    "task = info['task']\n",
    "n_channels = info['n_channels']\n",
    "n_classes = len(info['label'])\n",
    "\n",
    "DataClass = getattr(medmnist, info['python_class'])"
   ]
  },
  {
   "cell_type": "code",
   "execution_count": 5,
   "id": "91b4ee80",
   "metadata": {},
   "outputs": [
    {
     "name": "stdout",
     "output_type": "stream",
     "text": [
      "Using downloaded and verified file: /Users/yuqi/.medmnist/breastmnist.npz\n",
      "Using downloaded and verified file: /Users/yuqi/.medmnist/breastmnist.npz\n",
      "Using downloaded and verified file: /Users/yuqi/.medmnist/breastmnist.npz\n"
     ]
    }
   ],
   "source": [
    "# preprocessing\n",
    "data_transform = transforms.Compose([\n",
    "    transforms.ToTensor(),\n",
    "    transforms.Normalize(mean=[.5], std=[.5])\n",
    "])\n",
    "\n",
    "# load the data\n",
    "train_dataset = DataClass(split='train', transform=data_transform, download=download)\n",
    "test_dataset = DataClass(split='test', transform=data_transform, download=download)\n",
    "\n",
    "pil_dataset = DataClass(split='train', download=download)\n",
    "\n",
    "# encapsulate data into dataloader form\n",
    "train_loader = data.DataLoader(dataset=train_dataset, batch_size=BATCH_SIZE, shuffle=True)\n",
    "train_loader_at_eval = data.DataLoader(dataset=train_dataset, batch_size=2*BATCH_SIZE, shuffle=False)\n",
    "test_loader = data.DataLoader(dataset=test_dataset, batch_size=2*BATCH_SIZE, shuffle=False)"
   ]
  },
  {
   "cell_type": "code",
   "execution_count": 6,
   "id": "494fc373",
   "metadata": {},
   "outputs": [
    {
     "name": "stdout",
     "output_type": "stream",
     "text": [
      "Dataset BreastMNIST of size 28 (breastmnist)\n",
      "    Number of datapoints: 546\n",
      "    Root location: /Users/yuqi/.medmnist\n",
      "    Split: train\n",
      "    Task: binary-class\n",
      "    Number of channels: 1\n",
      "    Meaning of labels: {'0': 'malignant', '1': 'normal, benign'}\n",
      "    Number of samples: {'train': 546, 'val': 78, 'test': 156}\n",
      "    Description: The BreastMNIST is based on a dataset of 780 breast ultrasound images. It is categorized into 3 classes: normal, benign, and malignant. As we use low-resolution images, we simplify the task into binary classification by combining normal and benign as positive and classifying them against malignant as negative. We split the source dataset with a ratio of 7:1:2 into training, validation and test set. The source images of 1×500×500 are resized into 1×28×28.\n",
      "    License: CC BY 4.0\n",
      "===================\n",
      "Dataset BreastMNIST of size 28 (breastmnist)\n",
      "    Number of datapoints: 156\n",
      "    Root location: /Users/yuqi/.medmnist\n",
      "    Split: test\n",
      "    Task: binary-class\n",
      "    Number of channels: 1\n",
      "    Meaning of labels: {'0': 'malignant', '1': 'normal, benign'}\n",
      "    Number of samples: {'train': 546, 'val': 78, 'test': 156}\n",
      "    Description: The BreastMNIST is based on a dataset of 780 breast ultrasound images. It is categorized into 3 classes: normal, benign, and malignant. As we use low-resolution images, we simplify the task into binary classification by combining normal and benign as positive and classifying them against malignant as negative. We split the source dataset with a ratio of 7:1:2 into training, validation and test set. The source images of 1×500×500 are resized into 1×28×28.\n",
      "    License: CC BY 4.0\n"
     ]
    }
   ],
   "source": [
    "print(train_dataset)\n",
    "print(\"===================\")\n",
    "print(test_dataset)"
   ]
  },
  {
   "cell_type": "markdown",
   "id": "0ff84fcf",
   "metadata": {},
   "source": [
    "## Data Preprocessing"
   ]
  },
  {
   "cell_type": "markdown",
   "id": "397f9609",
   "metadata": {},
   "source": [
    "# We first compare their singular values"
   ]
  },
  {
   "cell_type": "markdown",
   "id": "c2c0f17d",
   "metadata": {},
   "source": [
    "## We first use standard SVD to check their singular values"
   ]
  },
  {
   "cell_type": "code",
   "execution_count": 7,
   "id": "80d03582",
   "metadata": {},
   "outputs": [],
   "source": [
    "from SVD import standard_svd"
   ]
  },
  {
   "cell_type": "code",
   "execution_count": 9,
   "id": "e737effc",
   "metadata": {},
   "outputs": [
    {
     "data": {
      "text/plain": [
       "torch.Tensor"
      ]
     },
     "execution_count": 9,
     "metadata": {},
     "output_type": "execute_result"
    }
   ],
   "source": [
    "type(x)"
   ]
  },
  {
   "cell_type": "code",
   "execution_count": 8,
   "id": "7608e94d",
   "metadata": {},
   "outputs": [],
   "source": [
    "from SVD import standard_svd\n",
    "svd_standard={}\n",
    "singular_values={}\n",
    "x_train={}\n",
    "y_train={}\n",
    "for i in range(10):\n",
    "    x_train[str(i)],y_train[str(i)]=train_dataset[i]\n",
    "    svd_standard[str(i)],singular_values[str(i)]=standard_svd(x_train[str(i)][0])"
   ]
  },
  {
   "cell_type": "markdown",
   "id": "6dcdaf8f",
   "metadata": {},
   "source": [
    "## then we try our first sketching matrix"
   ]
  },
  {
   "cell_type": "code",
   "execution_count": 11,
   "id": "6cb58d80",
   "metadata": {},
   "outputs": [
    {
     "name": "stdout",
     "output_type": "stream",
     "text": [
      "Looking in indexes: https://pypi.tuna.tsinghua.edu.cn/simple, https://pypi.ngc.nvidia.com\n",
      "Requirement already satisfied: utils in /Users/yuqi/miniconda3/envs/d2l/lib/python3.10/site-packages (1.0.2)\n"
     ]
    }
   ],
   "source": [
    "!pip install utils"
   ]
  },
  {
   "cell_type": "markdown",
   "id": "6f954757",
   "metadata": {},
   "source": [
    "## Uniform Sketching Matrices"
   ]
  },
  {
   "cell_type": "code",
   "execution_count": null,
   "id": "2eee1717",
   "metadata": {},
   "outputs": [
    {
     "name": "stdout",
     "output_type": "stream",
     "text": [
      "88.42498808427192\n",
      "fail to converge\n",
      "246.6902514377964\n",
      "fail to converge\n",
      "86.56522173900105\n",
      "fail to converge\n",
      "108.26216001705322\n",
      "fail to converge\n"
     ]
    },
    {
     "ename": "IndexError",
     "evalue": "index 3 is out of bounds for dimension 0 with size 3",
     "output_type": "error",
     "traceback": [
      "\u001b[0;31m---------------------------------------------------------------------------\u001b[0m",
      "\u001b[0;31mIndexError\u001b[0m                                Traceback (most recent call last)",
      "Cell \u001b[0;32mIn[24], line 13\u001b[0m\n\u001b[1;32m     11\u001b[0m error_uniform\u001b[38;5;241m=\u001b[39m{}\n\u001b[1;32m     12\u001b[0m \u001b[38;5;28;01mfor\u001b[39;00m i \u001b[38;5;129;01min\u001b[39;00m \u001b[38;5;28mrange\u001b[39m(\u001b[38;5;241m10\u001b[39m):\n\u001b[0;32m---> 13\u001b[0m     Q,B,error,iteration\u001b[38;5;241m=\u001b[39m\u001b[43mrandQB_FP_auto\u001b[49m\u001b[43m(\u001b[49m\u001b[43mx_train\u001b[49m\u001b[43m[\u001b[49m\u001b[38;5;28;43mstr\u001b[39;49m\u001b[43m(\u001b[49m\u001b[43mi\u001b[49m\u001b[43m)\u001b[49m\u001b[43m]\u001b[49m\u001b[43m[\u001b[49m\u001b[38;5;241;43m0\u001b[39;49m\u001b[43m]\u001b[49m\u001b[43m,\u001b[49m\u001b[38;5;241;43m0.9\u001b[39;49m\u001b[43m,\u001b[49m\u001b[38;5;241;43m4\u001b[39;49m\u001b[43m,\u001b[49m\u001b[38;5;241;43m4\u001b[39;49m\u001b[43m,\u001b[49m\u001b[43muniform_matrices\u001b[49m\u001b[43m[\u001b[49m\u001b[38;5;28;43mstr\u001b[39;49m\u001b[43m(\u001b[49m\u001b[43mi\u001b[49m\u001b[43m)\u001b[49m\u001b[43m]\u001b[49m\u001b[43m)\u001b[49m\n\u001b[1;32m     14\u001b[0m     \u001b[38;5;66;03m#rank_approximated[str(i)]=k\u001b[39;00m\n\u001b[1;32m     15\u001b[0m     Q_uniform[\u001b[38;5;28mstr\u001b[39m(i)]\u001b[38;5;241m=\u001b[39mQ\n",
      "File \u001b[0;32m~/Downloads/Math221-Project/sketching_methods/QB_decomposition_fixed_precision.py:43\u001b[0m, in \u001b[0;36mrandQB_FP_auto\u001b[0;34m(A, relerr, b, p, Omg)\u001b[0m\n\u001b[1;32m     41\u001b[0m \u001b[38;5;28;01mif\u001b[39;00m temp\u001b[38;5;241m<\u001b[39mthreshold:\n\u001b[1;32m     42\u001b[0m     \u001b[38;5;28;01mfor\u001b[39;00m j \u001b[38;5;129;01min\u001b[39;00m \u001b[38;5;28mrange\u001b[39m(\u001b[38;5;241m1\u001b[39m,b):\n\u001b[0;32m---> 43\u001b[0m         E\u001b[38;5;241m=\u001b[39mE\u001b[38;5;241m-\u001b[39mnp\u001b[38;5;241m.\u001b[39mlinalg\u001b[38;5;241m.\u001b[39mnorm(\u001b[43mBi\u001b[49m\u001b[43m[\u001b[49m\u001b[43mj\u001b[49m\u001b[43m,\u001b[49m\u001b[43m:\u001b[49m\u001b[43m]\u001b[49m)\u001b[38;5;241m*\u001b[39m\u001b[38;5;241m*\u001b[39m\u001b[38;5;241m2\u001b[39m\n\u001b[1;32m     44\u001b[0m         \u001b[38;5;28;01mif\u001b[39;00m E\u001b[38;5;241m<\u001b[39m threshold:\n\u001b[1;32m     45\u001b[0m             flag\u001b[38;5;241m=\u001b[39m\u001b[38;5;28;01mTrue\u001b[39;00m\n",
      "\u001b[0;31mIndexError\u001b[0m: index 3 is out of bounds for dimension 0 with size 3"
     ]
    }
   ],
   "source": [
    "uniform_matrices={}\n",
    "from sketching import uniform_sketching_matrix\n",
    "from QB_decomposition_fixed_precision import randQB_FP_auto\n",
    "for i in range (10):\n",
    "    uniform_matrices[str(i)]=uniform_sketching_matrix(28, len(singular_values[str(i)])+5)\n",
    "#get their QB decomposition\n",
    "#rank_approximated={}\n",
    "Q_uniform={}\n",
    "B_uniform={}\n",
    "iteration_uniform={}\n",
    "error_uniform={}\n",
    "for i in range(10):\n",
    "    Q,B,error,iteration=randQB_FP_auto(x_train[str(i)][0],0.01,4,4,uniform_matrices[str(i)])\n",
    "    Q_uniform[str(i)]=Q\n",
    "    B_uniform[str(i)]=B\n",
    "    error_uniform[str(i)]=error\n",
    "    iteration_uniform[str(i)]=iteration"
   ]
  },
  {
   "cell_type": "code",
   "execution_count": 12,
   "id": "326583f8",
   "metadata": {},
   "outputs": [],
   "source": [
    "#then we do SVM based on the new matrix\n",
    "rand_singular_values={}\n",
    "for i in range(10):\n",
    "    _, rand_singular_values[str(i)]=standard_svd(B)"
   ]
  },
  {
   "cell_type": "code",
   "execution_count": 13,
   "id": "835026c3",
   "metadata": {},
   "outputs": [],
   "source": [
    "#compare singular values\n",
    "import numpy as np\n",
    "from scipy.linalg import svd\n",
    "from numpy.linalg import qr\n",
    "\n",
    "def randomized_svd(A, k, p=5, n_iter=2):\n",
    "    \"\"\"\n",
    "    Perform Randomized SVD on matrix A.\n",
    "    \n",
    "    Parameters:\n",
    "        A: ndarray, shape (m, n)\n",
    "           Input matrix to decompose.\n",
    "        k: int\n",
    "           Target rank (number of singular values/vectors to compute).\n",
    "        p: int, optional (default=5)\n",
    "           Oversampling parameter to improve approximation accuracy.\n",
    "        n_iter: int, optional (default=2)\n",
    "           Number of iterations for power iteration (improves accuracy).\n",
    "           \n",
    "    Returns:\n",
    "        U: ndarray, shape (m, k)\n",
    "           Approximated left singular vectors.\n",
    "        S: ndarray, shape (k,)\n",
    "           Approximated singular values.\n",
    "        V: ndarray, shape (k, n)\n",
    "           Approximated right singular vectors.\n",
    "    \"\"\"\n",
    "    # Step 1: Random sampling\n",
    "    m, n = A.shape\n",
    "    random_matrix = np.random.randn(n, k + p)\n",
    "    Y = A @ random_matrix\n",
    "\n",
    "    # Step 2: Power iteration (optional, improves accuracy for ill-conditioned matrices)\n",
    "    for _ in range(n_iter):\n",
    "        Y = A @ (A.T @ Y)\n",
    "\n",
    "    # Step 3: QR decomposition\n",
    "    Q, _ = qr(Y, mode='reduced')\n",
    "\n",
    "    # Step 4: Project matrix to lower-dimensional space\n",
    "    B = Q.T @ A\n",
    "\n",
    "    # Step 5: Compute SVD on the smaller matrix\n",
    "    U_tilde, S, Vt = svd(B, full_matrices=False)\n",
    "\n",
    "    # Step 6: Reconstruct the left singular vectors\n",
    "    U = Q @ U_tilde\n",
    "\n",
    "    return U[:, :k], S[:k], Vt[:k, :]\n"
   ]
  },
  {
   "cell_type": "code",
   "execution_count": 15,
   "id": "93c918ed",
   "metadata": {},
   "outputs": [
    {
     "name": "stdout",
     "output_type": "stream",
     "text": [
      "[9.28383064e+00 2.60005903e+00 2.41792083e+00 1.46680355e+00\n",
      " 1.12029254e+00 1.05091131e+00 8.14428389e-01 6.26211822e-01\n",
      " 5.34207582e-01 4.22860980e-01 3.79819393e-01 3.05890709e-01\n",
      " 2.81926990e-01 2.17790991e-01 1.92904517e-01 1.50928587e-01\n",
      " 1.34227872e-01 1.23457581e-01 1.04857974e-01 9.30917487e-02\n",
      " 7.62561411e-02 6.59982264e-02 5.83461151e-02 5.18235788e-02\n",
      " 2.83046421e-02 1.98337790e-02 8.84390064e-03 1.74836244e-03]\n"
     ]
    }
   ],
   "source": [
    "print(singular_values[str(0)])"
   ]
  },
  {
   "cell_type": "code",
   "execution_count": null,
   "id": "926bbde7",
   "metadata": {},
   "outputs": [
    {
     "data": {
      "text/plain": [
       "(array([[-0.13484274, -0.0015452 , -0.12138627,  0.00567624, -0.06577583,\n",
       "          0.18606355, -0.05785038,  0.00839666,  0.00222614,  0.13494908,\n",
       "         -0.18826216,  0.11074406,  0.11898215, -0.17174566,  0.00941675,\n",
       "         -0.18637832, -0.34427258, -0.32151842,  0.23231473,  0.24658771],\n",
       "        [ 0.04528188,  0.1376931 , -0.18435122, -0.26042993, -0.07560154,\n",
       "          0.25522462, -0.06984181,  0.22471956, -0.09997705, -0.19194721,\n",
       "         -0.03127987,  0.20423388, -0.45357173,  0.02641731, -0.07095654,\n",
       "          0.24463966, -0.19004559,  0.11124424, -0.25393799, -0.05798011],\n",
       "        [ 0.08961659,  0.27314251, -0.02964677, -0.1177919 , -0.09609545,\n",
       "         -0.00255461, -0.34605058, -0.03858863, -0.1454312 ,  0.31093664,\n",
       "          0.06348096,  0.19982519, -0.06532405,  0.3762924 ,  0.11205452,\n",
       "         -0.38223869, -0.2216049 ,  0.08696676, -0.10630653,  0.11270327],\n",
       "        [ 0.10686712,  0.31119042, -0.04016767,  0.08066759,  0.30323564,\n",
       "          0.01899802, -0.12247435,  0.16583755, -0.17616384,  0.50835306,\n",
       "         -0.38890311, -0.15141287,  0.1422308 , -0.26346386, -0.16203652,\n",
       "          0.16935517,  0.04177617, -0.07988369, -0.00265452,  0.03161093],\n",
       "        [ 0.12356253,  0.2965796 , -0.14909381, -0.00087474,  0.12911356,\n",
       "         -0.03032155, -0.18544766,  0.25696211,  0.23947224, -0.04540499,\n",
       "         -0.14787258, -0.06688506, -0.26015413, -0.11967731, -0.00622751,\n",
       "         -0.16464403,  0.25823752,  0.11530819,  0.06942084, -0.34578189],\n",
       "        [ 0.12739885,  0.3052985 , -0.21184313, -0.17684129, -0.21326833,\n",
       "         -0.06690945,  0.02500104,  0.11531045,  0.29728545, -0.01199763,\n",
       "          0.16257257,  0.300475  ,  0.58969157,  0.05433914, -0.04133203,\n",
       "          0.14153434,  0.01604325,  0.1076852 , -0.00516243, -0.10068617],\n",
       "        [ 0.0698054 ,  0.08943728, -0.37640321, -0.27755479, -0.22749897,\n",
       "         -0.04521179,  0.31827458, -0.03279623,  0.02429948,  0.13229163,\n",
       "         -0.04046847, -0.55230798,  0.07823524,  0.10575837,  0.31959898,\n",
       "         -0.1674898 ,  0.03565898,  0.09335938, -0.00459468, -0.0123265 ],\n",
       "        [ 0.06472548,  0.20291021, -0.1923156 ,  0.16527532,  0.32565643,\n",
       "          0.31006984,  0.36266602, -0.38991253, -0.17806234,  0.17805644,\n",
       "          0.16041392,  0.10365489, -0.08690249,  0.31431617,  0.00066024,\n",
       "          0.15032881, -0.13437971,  0.04490901,  0.09391882, -0.12188994],\n",
       "        [ 0.05347304,  0.12969168,  0.03958388,  0.01671658,  0.33374353,\n",
       "         -0.00332653, -0.08756292, -0.33557154,  0.07741057, -0.30148262,\n",
       "         -0.20668384,  0.17422594,  0.24568911, -0.19891971,  0.26876406,\n",
       "         -0.06826589, -0.13891058,  0.28700604, -0.1588242 , -0.13842973],\n",
       "        [-0.03480256,  0.00993162, -0.25547728, -0.1443624 ,  0.257155  ,\n",
       "          0.25542767, -0.25869071, -0.21227857,  0.17255765, -0.19456221,\n",
       "          0.23006127, -0.09501391, -0.04892227, -0.19664556,  0.01524291,\n",
       "         -0.37528428,  0.05383861, -0.36379055, -0.00365825,  0.04311136],\n",
       "        [-0.09152149,  0.01991431, -0.04929477, -0.15449958,  0.03879476,\n",
       "         -0.1048988 , -0.24887664, -0.29775392, -0.01165788,  0.2434656 ,\n",
       "          0.38628463, -0.2078539 , -0.01736791, -0.15841288, -0.1493298 ,\n",
       "          0.23872903,  0.21749757,  0.09474352, -0.40202361,  0.24161917],\n",
       "        [-0.07407145,  0.39944933, -0.03754811, -0.13978234,  0.02777494,\n",
       "         -0.26736965, -0.04027233, -0.20058348, -0.31320127, -0.30503247,\n",
       "          0.08024914, -0.09768052, -0.02345951, -0.1257372 , -0.15747   ,\n",
       "          0.12703172,  0.08203987, -0.01214628,  0.43576256,  0.02352095],\n",
       "        [-0.07730856,  0.11504056, -0.1730398 , -0.10441767,  0.05488281,\n",
       "          0.07741053,  0.13170695,  0.30482449, -0.45613728, -0.36125725,\n",
       "         -0.03675224, -0.017051  ,  0.15059661,  0.05159294, -0.17927982,\n",
       "         -0.07504477,  0.03446927, -0.00583649, -0.19283852,  0.30024459],\n",
       "        [-0.05348128, -0.22366477, -0.27903409,  0.07627763, -0.06573963,\n",
       "         -0.12752345, -0.4980678 ,  0.08741361, -0.13225646,  0.03252981,\n",
       "          0.195716  , -0.0297208 ,  0.08181323,  0.13289731, -0.08387288,\n",
       "          0.10599155, -0.18713503,  0.14399117,  0.36243824, -0.14044066],\n",
       "        [-0.02780572, -0.22512319, -0.37575572,  0.09073931,  0.38531283,\n",
       "         -0.48378235, -0.00824158,  0.05964836,  0.05990899, -0.09651209,\n",
       "         -0.17180234, -0.03440026,  0.06985072,  0.32614635, -0.03166099,\n",
       "          0.11304145, -0.13616984, -0.26236295, -0.23324241, -0.04692779],\n",
       "        [ 0.0052942 , -0.16723749, -0.38021958,  0.15422638,  0.10084875,\n",
       "         -0.02714884,  0.14868486,  0.25772882, -0.15089419,  0.13999368,\n",
       "          0.31097301,  0.21787436, -0.10722987, -0.43656493,  0.40432833,\n",
       "          0.04217673,  0.02945384,  0.10351752,  0.03337941, -0.01418209],\n",
       "        [ 0.04267926, -0.00537238, -0.24838466,  0.5851353 , -0.15845946,\n",
       "          0.0683218 ,  0.07094965, -0.06631437,  0.00390768, -0.05951428,\n",
       "          0.02755042, -0.05998933,  0.05931047, -0.07691292, -0.4478242 ,\n",
       "         -0.33870761,  0.04870329,  0.33894531, -0.09690766,  0.06132047],\n",
       "        [ 0.13197677,  0.15213534, -0.12157619,  0.38979217, -0.28691109,\n",
       "          0.10308792, -0.22926352, -0.15658691,  0.03733644, -0.21066623,\n",
       "         -0.15660954, -0.15672667, -0.05449687,  0.01782724,  0.37991872,\n",
       "          0.3872829 , -0.03159305, -0.09169431,  0.06165735,  0.26737775],\n",
       "        [ 0.15646257,  0.29407124,  0.02529602,  0.32411233, -0.16390025,\n",
       "         -0.08089799, -0.04196147,  0.0621641 ,  0.04402046, -0.05807623,\n",
       "          0.1614511 ,  0.03966573, -0.0615631 ,  0.08922681,  0.03009693,\n",
       "         -0.00696832,  0.10837733, -0.45693176, -0.30554401, -0.13473723],\n",
       "        [ 0.19830631, -0.02169653,  0.03167102, -0.02182153, -0.29548694,\n",
       "         -0.25478034,  0.09934974, -0.16058758, -0.3987858 ,  0.04054446,\n",
       "         -0.04627088,  0.07211028,  0.00350172, -0.24403192,  0.03757889,\n",
       "         -0.18463369, -0.11987593, -0.2302212 , -0.11248284, -0.28865429],\n",
       "        [ 0.25057179, -0.18511109, -0.1416716 , -0.1217141 , -0.16039015,\n",
       "         -0.15246239, -0.06462257, -0.32287211, -0.07155113,  0.08767447,\n",
       "         -0.20110954,  0.18392445, -0.18627387, -0.12642158, -0.14080952,\n",
       "          0.07622981, -0.00898361,  0.08687882, -0.05295771, -0.13052596],\n",
       "        [ 0.29767547, -0.07453874, -0.08904816, -0.02752375,  0.07329841,\n",
       "         -0.10523941,  0.01379454, -0.01585303,  0.02076256,  0.05574073,\n",
       "         -0.15228243,  0.30051934, -0.13371311,  0.18524769,  0.10293242,\n",
       "         -0.10232   ,  0.50088936,  0.03591915,  0.20294048,  0.43255021],\n",
       "        [ 0.3289446 , -0.04159561, -0.04772816, -0.10019167,  0.02466874,\n",
       "         -0.03349809,  0.1686259 , -0.06711076,  0.07376128, -0.02930405,\n",
       "          0.18746688,  0.17132356,  0.02328933, -0.04204433, -0.22019687,\n",
       "          0.03716674,  0.0964929 , -0.26614043,  0.19504348,  0.03109524],\n",
       "        [ 0.31858587, -0.15615719, -0.15671844, -0.17274164, -0.06894892,\n",
       "          0.06910026, -0.01599937, -0.11410447,  0.13224778, -0.12565923,\n",
       "         -0.25147453, -0.13758558, -0.02662385, -0.08859274, -0.15791478,\n",
       "         -0.01399952, -0.17606262,  0.08141539, -0.0832935 ,  0.17208005],\n",
       "        [ 0.28291625, -0.24000966, -0.06074116, -0.06008461, -0.02167076,\n",
       "          0.48819921, -0.11226931,  0.06356007, -0.09628149,  0.01051296,\n",
       "         -0.01088099, -0.12331545,  0.23359587,  0.07377408, -0.11593041,\n",
       "          0.19337074,  0.14596738, -0.14242427,  0.02105289, -0.26467599],\n",
       "        [ 0.30136291, -0.13723004,  0.20727627,  0.01816774,  0.13690378,\n",
       "          0.05591577, -0.18758637,  0.06740959, -0.34866645, -0.08464337,\n",
       "          0.08501723, -0.01329841,  0.28107702,  0.00559453,  0.23952447,\n",
       "         -0.09735658,  0.11837242,  0.0892381 , -0.14461466,  0.05943171],\n",
       "        [ 0.35314184,  0.00625361,  0.18693343,  0.05589456,  0.17235802,\n",
       "         -0.06874808, -0.03627261,  0.11068877, -0.06714982, -0.09352864,\n",
       "          0.16907076, -0.31796613, -0.13093771,  0.15373751,  0.02967946,\n",
       "         -0.11654803, -0.10891261,  0.09275175,  0.16176107, -0.12341371],\n",
       "        [ 0.39047334,  0.08907194,  0.1556415 ,  0.02247563,  0.12675601,\n",
       "         -0.13545115,  0.10976228,  0.17168613,  0.21835124,  0.02193576,\n",
       "          0.253015  , -0.08261018, -0.04834318, -0.179843  , -0.07879978,\n",
       "          0.07499801, -0.45654952,  0.04790611,  0.00632074,  0.29143325]]),\n",
       " array([9.28383039, 2.60005899, 2.4179208 , 1.46680357, 1.12029253,\n",
       "        1.05091129, 0.8144284 , 0.62621182, 0.53420758, 0.42286098,\n",
       "        0.37981941, 0.30589072, 0.28192699, 0.217791  , 0.19290452,\n",
       "        0.15092859, 0.13422787, 0.12345758, 0.10485789, 0.09309163]),\n",
       " array([[-2.04524585e-01, -1.86356864e-01, -1.62452463e-01,\n",
       "         -1.58305926e-01, -1.64077111e-01, -1.65144849e-01,\n",
       "         -1.57546972e-01, -1.63762063e-01, -1.84762654e-01,\n",
       "         -1.96547217e-01, -1.99952409e-01, -1.84444318e-01,\n",
       "         -1.69069791e-01, -1.65033582e-01, -1.74200773e-01,\n",
       "         -1.85415713e-01, -2.01470285e-01, -2.04196217e-01,\n",
       "         -2.13797355e-01, -2.25608069e-01, -2.25888715e-01,\n",
       "         -2.17177003e-01, -1.99567097e-01, -1.95816495e-01,\n",
       "         -1.90561448e-01, -1.84439574e-01, -1.87840528e-01,\n",
       "         -1.94855629e-01],\n",
       "        [-1.28502501e-01, -9.76068188e-02, -4.01425284e-02,\n",
       "         -6.50391561e-02, -1.67147168e-01, -2.16226852e-01,\n",
       "         -1.71475684e-01, -1.10246057e-01, -5.48849850e-02,\n",
       "         -6.24571993e-02, -9.44339737e-02, -1.04356763e-01,\n",
       "         -1.31417463e-01, -1.66968743e-01, -2.21458552e-01,\n",
       "         -2.32357788e-01, -2.38653131e-01, -1.83824015e-01,\n",
       "         -8.84294033e-04,  1.11549949e-01,  2.01398752e-01,\n",
       "          2.44555608e-01,  2.62417202e-01,  2.80983074e-01,\n",
       "          2.97879935e-01,  2.80150185e-01,  2.82475030e-01,\n",
       "          2.80323018e-01],\n",
       "        [ 2.82788266e-01,  2.34750766e-01,  1.90370109e-01,\n",
       "          2.32993743e-01,  2.61688413e-01,  2.08875840e-01,\n",
       "          1.45136911e-01,  1.81150726e-01,  1.23990602e-01,\n",
       "         -5.41453168e-02, -3.16830440e-01, -3.48287222e-01,\n",
       "         -3.16110042e-01, -2.54864087e-01, -1.77379402e-01,\n",
       "         -1.67199970e-01, -8.21817612e-02, -2.18754817e-02,\n",
       "         -3.36071808e-02,  2.91636021e-02,  8.84780157e-02,\n",
       "          1.71160794e-01,  1.07055901e-01,  4.89052654e-02,\n",
       "         -1.82941874e-02, -7.93038307e-02, -1.75491851e-01,\n",
       "         -2.15647275e-01],\n",
       "        [-9.11951057e-02, -6.98075105e-02,  4.27833146e-02,\n",
       "          1.91892561e-01,  2.85445638e-01,  3.27549303e-01,\n",
       "          2.46354280e-01,  5.58411285e-02, -1.33495891e-01,\n",
       "         -1.20520151e-01,  2.56844403e-02, -1.10298097e-03,\n",
       "         -7.61448912e-02, -1.02931408e-01, -3.52552194e-02,\n",
       "         -9.24889997e-05,  5.06546036e-03, -4.81392161e-02,\n",
       "         -2.14413448e-01, -3.07519635e-01, -3.28191909e-01,\n",
       "         -2.25582114e-01, -1.40723650e-01, -2.82017847e-02,\n",
       "          1.29441795e-01,  3.08284967e-01,  3.37915329e-01,\n",
       "          3.11249066e-01],\n",
       "        [ 1.03237168e-01,  1.01438808e-01,  2.31760630e-01,\n",
       "          2.57609693e-01,  1.27273683e-01, -1.77373368e-01,\n",
       "         -1.46531414e-01,  4.54695404e-02,  1.95916970e-01,\n",
       "          2.85463707e-01,  3.53340112e-01,  3.48672265e-01,\n",
       "          1.05495389e-01, -1.25083520e-01, -2.67182362e-01,\n",
       "         -3.29116228e-01, -2.81344577e-01, -1.98371635e-01,\n",
       "         -1.02733593e-01,  4.12189366e-02,  3.54366330e-03,\n",
       "         -1.00804447e-01, -1.29229253e-01, -1.56452910e-01,\n",
       "         -1.53243540e-01, -6.41383398e-02,  1.79245362e-02,\n",
       "          7.05291583e-02],\n",
       "        [-1.94433983e-01, -2.20532238e-01, -1.77086298e-01,\n",
       "         -2.35074927e-01, -1.84082458e-01,  3.23285222e-02,\n",
       "          2.72434184e-01,  4.68208777e-01,  5.10497638e-01,\n",
       "          3.01572202e-01,  2.58988187e-02, -2.52861348e-03,\n",
       "         -3.17891703e-03, -3.29994957e-02, -5.69407206e-02,\n",
       "         -1.54106585e-02, -6.16099508e-02, -8.19157360e-02,\n",
       "         -1.20151993e-01, -1.63546435e-01, -1.01903484e-01,\n",
       "         -1.26712086e-04,  6.50019466e-02,  9.59603964e-02,\n",
       "          1.48371793e-01,  8.78512022e-02, -8.05648203e-02,\n",
       "         -1.73290681e-01],\n",
       "        [ 3.00745906e-01,  2.81485964e-01,  2.18627786e-01,\n",
       "         -1.15992685e-01, -3.55966578e-01, -3.30751697e-01,\n",
       "         -1.16169226e-01,  1.73899577e-02,  1.66621241e-01,\n",
       "          7.10885846e-02,  7.29213105e-02, -1.25565802e-01,\n",
       "         -3.43253983e-01, -2.31778839e-01,  8.61572399e-02,\n",
       "          2.63923964e-01,  2.53391206e-01,  3.68392618e-02,\n",
       "         -1.00471395e-01, -8.71357396e-02, -1.28536124e-01,\n",
       "         -1.49226383e-01, -1.00309734e-01, -1.20276715e-01,\n",
       "          4.76637060e-03,  1.73657317e-01,  1.88762037e-01,\n",
       "          6.52207142e-02],\n",
       "        [ 6.28726178e-02, -1.27485929e-01, -3.23791814e-01,\n",
       "         -1.14511066e-01,  2.70919931e-01,  1.85655768e-01,\n",
       "         -1.74673396e-01, -3.46058167e-01, -7.49297473e-02,\n",
       "          3.86298394e-01,  3.71340290e-01, -2.08456054e-02,\n",
       "         -2.86672676e-01, -2.49269591e-01, -7.85444381e-02,\n",
       "          9.81882202e-02,  1.39796401e-01,  8.20899701e-02,\n",
       "         -1.88074975e-02, -1.71332970e-01,  3.20548298e-02,\n",
       "          2.40635965e-01,  4.95788699e-02, -4.02227119e-02,\n",
       "          8.51079084e-02,  3.48650754e-03, -4.41558022e-02,\n",
       "         -1.49020428e-01],\n",
       "        [ 4.56869065e-01,  1.31319985e-01, -3.52209930e-02,\n",
       "         -1.47856101e-01, -2.82533395e-02,  6.28928473e-02,\n",
       "         -9.39128304e-02, -9.92397504e-02, -3.29251623e-02,\n",
       "         -8.03692193e-03, -7.47167478e-02,  8.97980007e-02,\n",
       "          1.69609796e-01,  3.47036952e-01,  2.37769240e-01,\n",
       "         -7.70262408e-02, -1.63659100e-01, -2.36661321e-01,\n",
       "         -4.71147815e-01, -3.19915058e-01, -4.68232352e-02,\n",
       "          2.08913508e-01,  1.80394412e-01,  1.92703000e-02,\n",
       "          9.07528829e-02,  4.90668472e-02, -2.86909667e-02,\n",
       "         -6.08374044e-02],\n",
       "        [ 4.14214736e-01, -2.46110713e-01, -4.66351434e-01,\n",
       "          2.22910989e-02,  1.11438503e-01, -1.18344807e-01,\n",
       "          6.85108576e-02,  4.83863666e-02,  1.95383891e-01,\n",
       "          1.15654256e-02, -2.21193942e-01, -1.15766702e-01,\n",
       "          5.74147907e-02,  4.21271166e-02, -1.81212559e-02,\n",
       "          3.71216232e-02, -1.05310462e-01, -6.92136370e-02,\n",
       "          2.23737153e-01,  1.28713845e-01,  8.66505539e-03,\n",
       "          1.23829808e-01, -2.00359421e-01, -3.58455605e-01,\n",
       "         -1.91379546e-01,  7.33923458e-02,  2.00235595e-01,\n",
       "          2.45651732e-01],\n",
       "        [ 3.42062783e-01,  2.80638386e-01, -2.51652683e-01,\n",
       "         -3.97847127e-01, -1.41968679e-01,  2.84659324e-01,\n",
       "          9.89651670e-02,  7.00380305e-03, -1.11796718e-01,\n",
       "         -1.09923484e-01,  1.55139389e-01,  8.34801251e-02,\n",
       "          8.75916856e-02, -1.05875682e-01, -2.77220211e-01,\n",
       "         -2.00661304e-01, -6.41102664e-02,  5.52412213e-02,\n",
       "          1.92936000e-01,  1.84181842e-01, -1.47148430e-01,\n",
       "         -3.71316827e-01,  8.28883822e-02,  1.74929498e-01,\n",
       "          6.14225037e-02, -2.68631522e-02, -8.65101666e-03,\n",
       "          9.99580115e-03],\n",
       "        [ 4.97002929e-02, -1.61795820e-01,  1.93834934e-01,\n",
       "          9.26785909e-04,  2.12312554e-02, -9.14129929e-03,\n",
       "         -2.38143431e-01, -1.23010468e-01,  1.84226598e-01,\n",
       "          1.78949526e-01, -1.62052349e-01, -1.56212948e-01,\n",
       "          1.41036824e-01,  1.04476321e-01, -1.29233488e-01,\n",
       "         -1.68835791e-01,  1.33364963e-01,  2.49933325e-01,\n",
       "          2.21645017e-01, -2.38361010e-01, -4.63829878e-01,\n",
       "          1.77660268e-02,  3.41543177e-01,  1.78800982e-01,\n",
       "         -2.45856750e-01, -1.50967070e-01,  9.92151322e-02,\n",
       "          1.59407345e-01],\n",
       "        [-4.94070061e-02, -3.77053830e-02,  1.57361221e-02,\n",
       "         -4.91898679e-02, -9.99381404e-02,  9.12684788e-02,\n",
       "          2.85432386e-01,  1.79655334e-02, -6.83685701e-02,\n",
       "          3.76142489e-02,  2.50268107e-01, -6.59759033e-02,\n",
       "         -3.22658698e-01, -2.85202196e-02,  3.13304505e-01,\n",
       "          8.10388081e-02, -1.87959370e-01, -2.69628334e-01,\n",
       "         -4.86208650e-02,  1.70264309e-01, -9.71288701e-02,\n",
       "          7.14152375e-02,  2.62245172e-01,  7.27951050e-02,\n",
       "         -3.27975897e-01, -4.07553965e-01,  6.45865767e-02,\n",
       "          3.23736287e-01],\n",
       "        [-5.42360805e-02,  7.89236427e-02, -9.19613140e-02,\n",
       "         -3.95826887e-02,  3.60202905e-01,  1.00270231e-02,\n",
       "         -4.10692410e-01, -2.91575609e-02,  3.08976826e-01,\n",
       "          3.86828972e-03, -1.36651589e-01, -3.14496451e-02,\n",
       "         -9.03471280e-02,  5.64718763e-03,  3.33488091e-01,\n",
       "          1.20831277e-01, -1.54604558e-01, -2.11985979e-01,\n",
       "          9.07008495e-02,  1.21925006e-01, -6.65529856e-02,\n",
       "         -3.40520395e-01, -1.34122803e-01,  2.66024555e-01,\n",
       "          2.68804594e-01, -2.11240147e-01,  1.14104596e-01,\n",
       "         -3.62600134e-02],\n",
       "        [ 2.15712824e-01, -3.80480576e-01, -4.83559358e-02,\n",
       "          2.75265430e-01,  6.26300160e-02, -1.57050570e-01,\n",
       "         -1.01523002e-01,  1.06500130e-01, -3.64997335e-02,\n",
       "         -1.97290122e-01,  3.45732981e-01, -1.99653693e-01,\n",
       "         -9.55549560e-02,  1.35204460e-01,  7.91874360e-02,\n",
       "          2.02020526e-02, -3.88909425e-02,  1.23335454e-02,\n",
       "         -4.24680232e-02,  1.64714436e-01, -5.98201637e-02,\n",
       "         -3.14918500e-01,  3.15998385e-01,  8.05423990e-02,\n",
       "         -5.12704653e-02,  3.43762052e-01, -2.33070798e-01,\n",
       "         -1.78331426e-01],\n",
       "        [ 8.57206280e-02,  6.52540190e-02, -2.63833986e-01,\n",
       "          8.16218233e-02,  1.71610148e-01, -4.14008473e-01,\n",
       "          4.28025505e-02,  2.42861815e-01, -8.29185072e-02,\n",
       "         -1.56575938e-01,  8.01324104e-02,  5.44611143e-02,\n",
       "          5.21700117e-02, -1.78661731e-01,  2.58741109e-02,\n",
       "         -7.88103439e-02,  1.40899348e-01,  2.69175184e-01,\n",
       "         -1.77699755e-01, -1.48367148e-01, -7.43850494e-02,\n",
       "          9.34578281e-02, -5.83840435e-02,  2.09422835e-01,\n",
       "          2.07465158e-01, -2.87362183e-01, -3.12697313e-01,\n",
       "          3.70573831e-01],\n",
       "        [ 1.37124336e-01, -2.62809040e-01, -1.41136847e-03,\n",
       "          5.78811916e-02, -8.10816151e-02, -6.27865662e-03,\n",
       "          1.30123658e-01, -7.63707087e-02, -5.48518070e-02,\n",
       "          2.35375191e-01, -1.18104820e-01, -1.40948258e-02,\n",
       "         -2.37266251e-01,  2.76853130e-01, -3.59646503e-02,\n",
       "         -3.33358207e-01,  2.43302233e-01,  2.18923584e-01,\n",
       "         -3.13032108e-01,  1.47324883e-01,  2.72430065e-01,\n",
       "         -2.61574412e-01, -1.64387471e-01,  1.46763903e-01,\n",
       "          6.21583289e-02, -2.46339470e-01,  2.77638232e-01,\n",
       "         -4.27421819e-02],\n",
       "        [ 2.34791809e-01, -2.84686986e-01,  8.60499051e-02,\n",
       "          1.93816472e-01, -9.97308596e-02, -3.23596989e-02,\n",
       "          1.60982975e-01, -1.39153687e-01, -1.05591019e-01,\n",
       "          1.03672931e-01, -1.61683335e-01,  1.02868592e-01,\n",
       "          2.99870912e-01, -2.91262053e-01, -2.17066766e-01,\n",
       "          3.89667611e-01,  1.93360712e-01, -4.08824311e-01,\n",
       "         -8.24891551e-03, -1.05800942e-02,  1.49503337e-02,\n",
       "         -1.09817820e-01,  6.67603553e-02,  2.10971340e-01,\n",
       "          1.25727452e-01, -2.10605097e-01, -2.01517039e-02,\n",
       "         -6.10337492e-02],\n",
       "        [-1.13371640e-01,  2.00524021e-01, -6.06118989e-02,\n",
       "         -4.09843668e-02,  1.29510906e-01, -1.42157312e-01,\n",
       "         -1.55162925e-02,  1.94568635e-01, -3.84078601e-01,\n",
       "          4.65923160e-01, -8.41564658e-02, -2.95095697e-01,\n",
       "          1.64274984e-01,  5.62513495e-02,  1.01068494e-01,\n",
       "         -1.81706990e-01,  2.56066880e-01, -2.91288043e-01,\n",
       "         -2.46629770e-02,  2.87249675e-01, -2.43367048e-01,\n",
       "         -1.25922921e-02,  3.32820539e-02, -1.21354529e-01,\n",
       "          7.19524048e-02,  1.31269190e-01, -5.64026375e-02,\n",
       "          2.52285282e-03],\n",
       "        [-1.96899574e-01,  2.43495211e-01, -2.56859262e-01,\n",
       "         -4.98144638e-03,  1.49123537e-01,  2.88457522e-02,\n",
       "         -1.17199496e-01, -1.04002701e-02,  2.62108525e-01,\n",
       "         -2.06368154e-01,  3.89054807e-02, -4.57028447e-02,\n",
       "          5.11627912e-02,  1.22144112e-01, -3.02931234e-01,\n",
       "          9.36289834e-02,  4.20298985e-01, -2.32872620e-01,\n",
       "         -2.98184664e-01,  4.53798256e-02,  1.85423667e-01,\n",
       "         -4.30374137e-02,  1.36871211e-01,  1.12138120e-01,\n",
       "         -4.02716590e-01,  5.60472906e-02,  6.67735296e-02,\n",
       "          8.29814591e-02]]))"
      ]
     },
     "execution_count": 18,
     "metadata": {},
     "output_type": "execute_result"
    }
   ],
   "source": [
    "result=randomized_svd(np.array(x_train['0'][0].type(torch.DoubleTensor)),20)\n",
    "#These are some trials"
   ]
  },
  {
   "cell_type": "markdown",
   "id": "09393971",
   "metadata": {},
   "source": [
    "## Gaussian Sketching matrices"
   ]
  },
  {
   "cell_type": "code",
   "execution_count": 1,
   "id": "4d8ff0f6",
   "metadata": {},
   "outputs": [
    {
     "ename": "NameError",
     "evalue": "name 'singular_values' is not defined",
     "output_type": "error",
     "traceback": [
      "\u001b[0;31m---------------------------------------------------------------------------\u001b[0m",
      "\u001b[0;31mNameError\u001b[0m                                 Traceback (most recent call last)",
      "Cell \u001b[0;32mIn[1], line 5\u001b[0m\n\u001b[1;32m      3\u001b[0m \u001b[38;5;28;01mfrom\u001b[39;00m \u001b[38;5;21;01mQB_decomposition_fixed_precision\u001b[39;00m \u001b[38;5;28;01mimport\u001b[39;00m randQB_FP_auto\n\u001b[1;32m      4\u001b[0m \u001b[38;5;28;01mfor\u001b[39;00m i \u001b[38;5;129;01min\u001b[39;00m \u001b[38;5;28mrange\u001b[39m (\u001b[38;5;241m10\u001b[39m):\n\u001b[0;32m----> 5\u001b[0m     gaussian_matrices[\u001b[38;5;28mstr\u001b[39m(i)]\u001b[38;5;241m=\u001b[39mgaussian_sketching_matrix(\u001b[38;5;241m28\u001b[39m, \u001b[38;5;28mlen\u001b[39m(\u001b[43msingular_values\u001b[49m[\u001b[38;5;28mstr\u001b[39m(i)])\u001b[38;5;241m+\u001b[39m\u001b[38;5;241m5\u001b[39m)\n\u001b[1;32m      6\u001b[0m \u001b[38;5;66;03m#get their QB decomposition\u001b[39;00m\n\u001b[1;32m      7\u001b[0m \u001b[38;5;66;03m#rank_approximated={}\u001b[39;00m\n\u001b[1;32m      8\u001b[0m Q_gaussian\u001b[38;5;241m=\u001b[39m{}\n",
      "\u001b[0;31mNameError\u001b[0m: name 'singular_values' is not defined"
     ]
    }
   ],
   "source": [
    "gaussian_matrices={}\n",
    "from sketching import gaussian_sketching_matrix\n",
    "from QB_decomposition_fixed_precision import randQB_FP_auto\n",
    "for i in range (10):\n",
    "    gaussian_matrices[str(i)]=gaussian_sketching_matrix(28, len(singular_values[str(i)])+5)\n",
    "#get their QB decomposition\n",
    "#rank_approximated={}\n",
    "Q_gaussian={}\n",
    "B_gaussian={}\n",
    "error_gaussion={}\n",
    "iteration_gaussian={}\n",
    "#print(gaussian_matrices[str(0)])\n",
    "for i in range(10):\n",
    "    Q,B,error,iteration=randQB_FP_auto(train_dataset[i][0][0],0.01,4,4,gaussian_matrices[str(i)])\n",
    "    #rank_approximated[str(i)]=k\n",
    "    Q_gaussian[str(i)]=Q\n",
    "    B_gaussian[str(i)]=B\n",
    "    error_gaussion[(str(i))]=error\n",
    "    iteration_gaussian[str(i)]=iteration\n",
    "\n",
    "    "
   ]
  },
  {
   "cell_type": "markdown",
   "id": "54995622",
   "metadata": {},
   "source": [
    "## Radamecher Sketching Matrices"
   ]
  },
  {
   "cell_type": "markdown",
   "id": "f0d46efb",
   "metadata": {},
   "source": []
  },
  {
   "cell_type": "markdown",
   "id": "0524d627",
   "metadata": {},
   "source": []
  },
  {
   "cell_type": "code",
   "execution_count": null,
   "id": "823fad98",
   "metadata": {},
   "outputs": [],
   "source": []
  },
  {
   "cell_type": "markdown",
   "id": "abcae2a9",
   "metadata": {},
   "source": [
    "## Johnson-Linderstrauss Transform Code"
   ]
  },
  {
   "cell_type": "code",
   "execution_count": null,
   "id": "c86cfe3a",
   "metadata": {},
   "outputs": [],
   "source": [
    "from jlt.linearMapping import calculate_R\n",
    "from QB_decomposition_fixed_precision import randQB_FP_auto\n",
    "for i in range(10):\n",
    "    JLT_matrix=calculate_R(28,k=None,1,random_seed=21,swr=True)\n",
    "    "
   ]
  },
  {
   "cell_type": "markdown",
   "id": "5c7347d5",
   "metadata": {},
   "source": [
    "## Clarkson_Woodff"
   ]
  },
  {
   "cell_type": "code",
   "execution_count": null,
   "id": "0eee6a71",
   "metadata": {},
   "outputs": [],
   "source": [
    "from sketching import cwt_sketch_matrix\n"
   ]
  }
 ],
 "metadata": {
  "kernelspec": {
   "display_name": "d2l",
   "language": "python",
   "name": "python3"
  },
  "language_info": {
   "codemirror_mode": {
    "name": "ipython",
    "version": 3
   },
   "file_extension": ".py",
   "mimetype": "text/x-python",
   "name": "python",
   "nbconvert_exporter": "python",
   "pygments_lexer": "ipython3",
   "version": "3.10.8"
  }
 },
 "nbformat": 4,
 "nbformat_minor": 5
}

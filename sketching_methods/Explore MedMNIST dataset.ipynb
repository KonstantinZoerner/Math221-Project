{
 "cells": [
  {
   "cell_type": "code",
   "execution_count": 1,
   "id": "cea19797",
   "metadata": {},
   "outputs": [
    {
     "name": "stdout",
     "output_type": "stream",
     "text": [
      "Looking in indexes: https://pypi.tuna.tsinghua.edu.cn/simple, https://pypi.ngc.nvidia.com\n",
      "Requirement already satisfied: medmnist in /Users/yuqi/miniconda3/envs/d2l/lib/python3.10/site-packages (3.0.1)\n",
      "Requirement already satisfied: numpy in /Users/yuqi/miniconda3/envs/d2l/lib/python3.10/site-packages (from medmnist) (1.23.5)\n",
      "Requirement already satisfied: pandas in /Users/yuqi/miniconda3/envs/d2l/lib/python3.10/site-packages (from medmnist) (2.0.3)\n",
      "Requirement already satisfied: scikit-learn in /Users/yuqi/miniconda3/envs/d2l/lib/python3.10/site-packages (from medmnist) (1.3.1)\n",
      "Requirement already satisfied: scikit-image in /Users/yuqi/miniconda3/envs/d2l/lib/python3.10/site-packages (from medmnist) (0.22.0)\n",
      "Requirement already satisfied: tqdm in /Users/yuqi/miniconda3/envs/d2l/lib/python3.10/site-packages (from medmnist) (4.66.4)\n",
      "Requirement already satisfied: Pillow in /Users/yuqi/miniconda3/envs/d2l/lib/python3.10/site-packages (from medmnist) (10.0.0)\n",
      "Requirement already satisfied: fire in /Users/yuqi/miniconda3/envs/d2l/lib/python3.10/site-packages (from medmnist) (0.5.0)\n",
      "Requirement already satisfied: torch in /Users/yuqi/miniconda3/envs/d2l/lib/python3.10/site-packages (from medmnist) (2.3.1)\n",
      "Requirement already satisfied: torchvision in /Users/yuqi/miniconda3/envs/d2l/lib/python3.10/site-packages (from medmnist) (0.18.1)\n",
      "Requirement already satisfied: six in /Users/yuqi/miniconda3/envs/d2l/lib/python3.10/site-packages (from fire->medmnist) (1.16.0)\n",
      "Requirement already satisfied: termcolor in /Users/yuqi/miniconda3/envs/d2l/lib/python3.10/site-packages (from fire->medmnist) (2.1.0)\n",
      "Requirement already satisfied: python-dateutil>=2.8.2 in /Users/yuqi/miniconda3/envs/d2l/lib/python3.10/site-packages (from pandas->medmnist) (2.8.2)\n",
      "Requirement already satisfied: pytz>=2020.1 in /Users/yuqi/miniconda3/envs/d2l/lib/python3.10/site-packages (from pandas->medmnist) (2023.3)\n",
      "Requirement already satisfied: tzdata>=2022.1 in /Users/yuqi/miniconda3/envs/d2l/lib/python3.10/site-packages (from pandas->medmnist) (2023.3)\n",
      "Requirement already satisfied: scipy>=1.8 in /Users/yuqi/miniconda3/envs/d2l/lib/python3.10/site-packages (from scikit-image->medmnist) (1.10.1)\n",
      "Requirement already satisfied: networkx>=2.8 in /Users/yuqi/miniconda3/envs/d2l/lib/python3.10/site-packages (from scikit-image->medmnist) (3.2.1)\n",
      "Requirement already satisfied: imageio>=2.27 in /Users/yuqi/miniconda3/envs/d2l/lib/python3.10/site-packages (from scikit-image->medmnist) (2.33.0)\n",
      "Requirement already satisfied: tifffile>=2022.8.12 in /Users/yuqi/miniconda3/envs/d2l/lib/python3.10/site-packages (from scikit-image->medmnist) (2024.2.12)\n",
      "Requirement already satisfied: packaging>=21 in /Users/yuqi/miniconda3/envs/d2l/lib/python3.10/site-packages (from scikit-image->medmnist) (23.0)\n",
      "Requirement already satisfied: lazy_loader>=0.3 in /Users/yuqi/miniconda3/envs/d2l/lib/python3.10/site-packages (from scikit-image->medmnist) (0.3)\n",
      "Requirement already satisfied: joblib>=1.1.1 in /Users/yuqi/miniconda3/envs/d2l/lib/python3.10/site-packages (from scikit-learn->medmnist) (1.3.2)\n",
      "Requirement already satisfied: threadpoolctl>=2.0.0 in /Users/yuqi/miniconda3/envs/d2l/lib/python3.10/site-packages (from scikit-learn->medmnist) (3.2.0)\n",
      "Requirement already satisfied: filelock in /Users/yuqi/miniconda3/envs/d2l/lib/python3.10/site-packages (from torch->medmnist) (3.12.2)\n",
      "Requirement already satisfied: typing-extensions>=4.8.0 in /Users/yuqi/miniconda3/envs/d2l/lib/python3.10/site-packages (from torch->medmnist) (4.11.0)\n",
      "Requirement already satisfied: sympy in /Users/yuqi/miniconda3/envs/d2l/lib/python3.10/site-packages (from torch->medmnist) (1.12)\n",
      "Requirement already satisfied: jinja2 in /Users/yuqi/miniconda3/envs/d2l/lib/python3.10/site-packages (from torch->medmnist) (3.1.2)\n",
      "Requirement already satisfied: fsspec in /Users/yuqi/miniconda3/envs/d2l/lib/python3.10/site-packages (from torch->medmnist) (2023.6.0)\n",
      "Requirement already satisfied: MarkupSafe>=2.0 in /Users/yuqi/miniconda3/envs/d2l/lib/python3.10/site-packages (from jinja2->torch->medmnist) (2.1.3)\n",
      "Requirement already satisfied: mpmath>=0.19 in /Users/yuqi/miniconda3/envs/d2l/lib/python3.10/site-packages (from sympy->torch->medmnist) (1.3.0)\n"
     ]
    }
   ],
   "source": [
    "!pip install medmnist"
   ]
  },
  {
   "cell_type": "code",
   "execution_count": 3,
   "id": "2821a399",
   "metadata": {},
   "outputs": [],
   "source": [
    "from tqdm import tqdm\n",
    "import numpy as np\n",
    "import torch\n",
    "import torch.nn as nn\n",
    "import torch.optim as optim\n",
    "import torch.utils.data as data\n",
    "import torchvision.transforms as transforms\n",
    "\n",
    "import medmnist\n",
    "from medmnist import INFO, Evaluator"
   ]
  },
  {
   "cell_type": "code",
   "execution_count": 4,
   "id": "66ea6f9b",
   "metadata": {},
   "outputs": [
    {
     "name": "stdout",
     "output_type": "stream",
     "text": [
      "MedMNIST v3.0.1 @ https://github.com/MedMNIST/MedMNIST/\n"
     ]
    }
   ],
   "source": [
    "print(f\"MedMNIST v{medmnist.__version__} @ {medmnist.HOMEPAGE}\")"
   ]
  },
  {
   "cell_type": "code",
   "execution_count": 5,
   "id": "f974a166",
   "metadata": {},
   "outputs": [],
   "source": [
    "data_flag = 'breastmnist'\n",
    "# data_flag = 'breastmnist'\n",
    "download = True\n",
    "\n",
    "NUM_EPOCHS = 3\n",
    "BATCH_SIZE = 128\n",
    "lr = 0.001\n",
    "\n",
    "info = INFO[data_flag]\n",
    "task = info['task']\n",
    "n_channels = info['n_channels']\n",
    "n_classes = len(info['label'])\n",
    "\n",
    "DataClass = getattr(medmnist, info['python_class'])"
   ]
  },
  {
   "cell_type": "code",
   "execution_count": 6,
   "id": "91b4ee80",
   "metadata": {},
   "outputs": [
    {
     "name": "stdout",
     "output_type": "stream",
     "text": [
      "Using downloaded and verified file: /Users/yuqi/.medmnist/breastmnist.npz\n",
      "Using downloaded and verified file: /Users/yuqi/.medmnist/breastmnist.npz\n",
      "Using downloaded and verified file: /Users/yuqi/.medmnist/breastmnist.npz\n"
     ]
    }
   ],
   "source": [
    "# preprocessing\n",
    "data_transform = transforms.Compose([\n",
    "    transforms.ToTensor(),\n",
    "    transforms.Normalize(mean=[.5], std=[.5])\n",
    "])\n",
    "\n",
    "# load the data\n",
    "train_dataset = DataClass(split='train', transform=data_transform, download=download)\n",
    "test_dataset = DataClass(split='test', transform=data_transform, download=download)\n",
    "\n",
    "pil_dataset = DataClass(split='train', download=download)\n",
    "\n",
    "# encapsulate data into dataloader form\n",
    "train_loader = data.DataLoader(dataset=train_dataset, batch_size=BATCH_SIZE, shuffle=True)\n",
    "train_loader_at_eval = data.DataLoader(dataset=train_dataset, batch_size=2*BATCH_SIZE, shuffle=False)\n",
    "test_loader = data.DataLoader(dataset=test_dataset, batch_size=2*BATCH_SIZE, shuffle=False)"
   ]
  },
  {
   "cell_type": "code",
   "execution_count": 7,
   "id": "494fc373",
   "metadata": {},
   "outputs": [
    {
     "name": "stdout",
     "output_type": "stream",
     "text": [
      "Dataset BreastMNIST of size 28 (breastmnist)\n",
      "    Number of datapoints: 546\n",
      "    Root location: /Users/yuqi/.medmnist\n",
      "    Split: train\n",
      "    Task: binary-class\n",
      "    Number of channels: 1\n",
      "    Meaning of labels: {'0': 'malignant', '1': 'normal, benign'}\n",
      "    Number of samples: {'train': 546, 'val': 78, 'test': 156}\n",
      "    Description: The BreastMNIST is based on a dataset of 780 breast ultrasound images. It is categorized into 3 classes: normal, benign, and malignant. As we use low-resolution images, we simplify the task into binary classification by combining normal and benign as positive and classifying them against malignant as negative. We split the source dataset with a ratio of 7:1:2 into training, validation and test set. The source images of 1×500×500 are resized into 1×28×28.\n",
      "    License: CC BY 4.0\n",
      "===================\n",
      "Dataset BreastMNIST of size 28 (breastmnist)\n",
      "    Number of datapoints: 156\n",
      "    Root location: /Users/yuqi/.medmnist\n",
      "    Split: test\n",
      "    Task: binary-class\n",
      "    Number of channels: 1\n",
      "    Meaning of labels: {'0': 'malignant', '1': 'normal, benign'}\n",
      "    Number of samples: {'train': 546, 'val': 78, 'test': 156}\n",
      "    Description: The BreastMNIST is based on a dataset of 780 breast ultrasound images. It is categorized into 3 classes: normal, benign, and malignant. As we use low-resolution images, we simplify the task into binary classification by combining normal and benign as positive and classifying them against malignant as negative. We split the source dataset with a ratio of 7:1:2 into training, validation and test set. The source images of 1×500×500 are resized into 1×28×28.\n",
      "    License: CC BY 4.0\n"
     ]
    }
   ],
   "source": [
    "print(train_dataset)\n",
    "print(\"===================\")\n",
    "print(test_dataset)"
   ]
  },
  {
   "cell_type": "markdown",
   "id": "397f9609",
   "metadata": {},
   "source": [
    "# We first compare their singular values"
   ]
  },
  {
   "cell_type": "markdown",
   "id": "c2c0f17d",
   "metadata": {},
   "source": [
    "## We first use standard SVD to check their singular values"
   ]
  },
  {
   "cell_type": "code",
   "execution_count": null,
   "id": "7608e94d",
   "metadata": {},
   "outputs": [],
   "source": [
    "from SVD import standard_svd\n",
    "svd_standard=[]\n",
    "singular_values=[]\n",
    "x_train=[]\n",
    "y_train=[]\n",
    "for data in train_dataset:\n",
    "    x,y=data\n",
    "    x_train.append(x[0])\n",
    "    y_train.append(y)\n",
    "    svd_standard,singular_values=standard_svd(x[0])\n",
    "    svd_standard.append(svd_standard)\n",
    "    singular_values.append(singular_values)\n",
    "    "
   ]
  },
  {
   "cell_type": "markdown",
   "id": "6dcdaf8f",
   "metadata": {},
   "source": [
    "## then we try our first sketching matrix"
   ]
  },
  {
   "cell_type": "code",
   "execution_count": 11,
   "id": "6cb58d80",
   "metadata": {},
   "outputs": [
    {
     "name": "stdout",
     "output_type": "stream",
     "text": [
      "Looking in indexes: https://pypi.tuna.tsinghua.edu.cn/simple, https://pypi.ngc.nvidia.com\n",
      "Requirement already satisfied: utils in /Users/yuqi/miniconda3/envs/d2l/lib/python3.10/site-packages (1.0.2)\n"
     ]
    }
   ],
   "source": [
    "!pip install utils"
   ]
  },
  {
   "cell_type": "markdown",
   "id": "6f954757",
   "metadata": {},
   "source": [
    "## Uniform Sketching Matrices"
   ]
  },
  {
   "cell_type": "code",
   "execution_count": 8,
   "id": "2eee1717",
   "metadata": {},
   "outputs": [],
   "source": [
    "uniform_matrices={}\n",
    "from sketching import uniform_sketching_matrix\n",
    "for i in range (10):\n",
    "    uniform_matrices[str(i)]=uniform_sketching_matrix(28, 12)\n",
    "#get their QB decomposition\n",
    "#rank_approximated={}"
   ]
  },
  {
   "cell_type": "code",
   "execution_count": 9,
   "id": "835026c3",
   "metadata": {},
   "outputs": [],
   "source": [
    "#we try to do it in another way\n",
    "import numpy as np\n",
    "from scipy.linalg import svd\n",
    "from numpy.linalg import qr\n",
    "\n",
    "def randomized_svd(A, k, random_matrix,p=5, n_iter=2):\n",
    "    \"\"\"\n",
    "    Perform Randomized SVD on matrix A.\n",
    "    \n",
    "    Parameters:\n",
    "        A: ndarray, shape (m, n)\n",
    "           Input matrix to decompose.\n",
    "        k: int\n",
    "           Target rank (number of singular values/vectors to compute).\n",
    "        p: int, optional (default=5)\n",
    "           Oversampling parameter to improve approximation accuracy.\n",
    "        n_iter: int, optional (default=2)\n",
    "           Number of iterations for power iteration (improves accuracy).\n",
    "           \n",
    "    Returns:\n",
    "        U: ndarray, shape (m, k)\n",
    "           Approximated left singular vectors.\n",
    "        S: ndarray, shape (k,)\n",
    "           Approximated singular values.\n",
    "        V: ndarray, shape (k, n)\n",
    "           Approximated right singular vectors.\n",
    "    \"\"\"\n",
    "    # Step 1: Random sampling\n",
    "    A=A.double()\n",
    "    m, n = A.shape\n",
    "   \n",
    "    Y = A @ random_matrix\n",
    "\n",
    "    # Step 2: Power iteration (optional, improves accuracy for ill-conditioned matrices)\n",
    "    for _ in range(n_iter):\n",
    "        Y = A @ (A.T @ Y)\n",
    "\n",
    "    # Step 3: QR decomposition\n",
    "    Q, _ = qr(Y, mode='reduced')\n",
    "    Q=torch.tensor(Q).to(torch.float64)\n",
    "\n",
    "    # Step 4: Project matrix to lower-dimensional space\n",
    "    B = Q.T @ A\n",
    "\n",
    "    # Step 5: Compute SVD on the smaller matrix\n",
    "    U_tilde, S, Vt = svd(B, full_matrices=False)\n",
    "\n",
    "    # Step 6: Reconstruct the left singular vectors\n",
    "    U = Q @ U_tilde\n",
    "\n",
    "    return U[:, :k], S[:k], Vt[:k, :]\n"
   ]
  },
  {
   "cell_type": "code",
   "execution_count": 12,
   "id": "99aa399c",
   "metadata": {},
   "outputs": [],
   "source": [
    "U_random={}\n",
    "S_random={}\n",
    "V_random={}\n",
    "for i in range(10):\n",
    "    U_random[str(i)],S_random[str(i)],V_random[str(i)]=randomized_svd(x_train[str(i)][0],12,uniform_matrices[str(i)],3)\n"
   ]
  },
  {
   "cell_type": "code",
   "execution_count": 13,
   "id": "9c92ef0f",
   "metadata": {},
   "outputs": [],
   "source": [
    "#Compute relevant Error\n",
    "Errors_uniform=[]\n",
    "for i in range(10):\n",
    "    approx_uniform=U_random[str(i)]@np.diag(S_random[str(i)])@V_random[str(i)]\n",
    "    Errors_uniform.append(np.linalg.norm(approx_uniform-x_train[str(i)][0],'fro')**2/np.linalg.norm(x_train[str(i)][0],'fro')**2)\n"
   ]
  },
  {
   "cell_type": "markdown",
   "id": "09393971",
   "metadata": {},
   "source": [
    "## Gaussian Sketching matrices"
   ]
  },
  {
   "cell_type": "code",
   "execution_count": 14,
   "id": "4d8ff0f6",
   "metadata": {},
   "outputs": [],
   "source": [
    "gaussian_matrices={}\n",
    "from sketching import gaussian_sketching_matrix\n",
    "for i in range (10):\n",
    "    gaussian_matrices[str(i)]=gaussian_sketching_matrix(28, 12)\n",
    "    "
   ]
  },
  {
   "cell_type": "code",
   "execution_count": 15,
   "id": "1c7e0ce2",
   "metadata": {},
   "outputs": [],
   "source": [
    "# we conduct the same experiment\n",
    "U_gaussian={}\n",
    "S_gaussian={}\n",
    "V_gaussian={}\n",
    "for i in range(10):\n",
    "    U_gaussian[str(i)],S_gaussian[str(i)],V_gaussian[str(i)]=randomized_svd(x_train[str(i)][0],12,gaussian_matrices[str(i)],3)\n"
   ]
  },
  {
   "cell_type": "code",
   "execution_count": 16,
   "id": "138bc9cb",
   "metadata": {},
   "outputs": [],
   "source": [
    "#Compute relevant Error\n",
    "Errors_gaussian=[]\n",
    "for i in range(10):\n",
    "    approx_gaussian=U_gaussian[str(i)]@np.diag(S_gaussian[str(i)])@V_gaussian[str(i)]\n",
    "    Errors_gaussian.append(np.linalg.norm(approx_gaussian-x_train[str(i)][0],'fro')**2/np.linalg.norm(x_train[str(i)][0],'fro')**2)\n"
   ]
  },
  {
   "cell_type": "markdown",
   "id": "54995622",
   "metadata": {},
   "source": [
    "## Radamecher Sketching Matrices"
   ]
  },
  {
   "cell_type": "markdown",
   "id": "f0d46efb",
   "metadata": {},
   "source": []
  },
  {
   "cell_type": "code",
   "execution_count": 17,
   "id": "0524d627",
   "metadata": {},
   "outputs": [],
   "source": [
    "rademacher_matrices={}\n",
    "from sketching import rademacher_sketch_matrix\n",
    "for i in range (10):\n",
    "    rademacher_matrices[str(i)]=rademacher_sketch_matrix(28, 12)\n",
    "    "
   ]
  },
  {
   "cell_type": "code",
   "execution_count": 18,
   "id": "2f67e312",
   "metadata": {},
   "outputs": [],
   "source": [
    "# we conduct the same experiment\n",
    "U_rademacher={}\n",
    "S_rademacher={}\n",
    "V_rademacher={}\n",
    "for i in range(10):\n",
    "    U_rademacher[str(i)],S_rademacher[str(i)],V_rademacher[str(i)]=randomized_svd(x_train[str(i)][0],12,rademacher_matrices[str(i)],3)\n"
   ]
  },
  {
   "cell_type": "code",
   "execution_count": 19,
   "id": "f86f8e66",
   "metadata": {},
   "outputs": [],
   "source": [
    "#Compute relevant Error\n",
    "Errors_rademacher=[]\n",
    "for i in range(10):\n",
    "    approx_rademacher=U_rademacher[str(i)]@np.diag(S_rademacher[str(i)])@V_rademacher[str(i)]\n",
    "    Errors_rademacher.append(np.linalg.norm(approx_rademacher-x_train[str(i)][0],'fro')**2/np.linalg.norm(x_train[str(i)][0],'fro')**2)"
   ]
  },
  {
   "cell_type": "markdown",
   "id": "abcae2a9",
   "metadata": {},
   "source": [
    "## Johnson-Linderstrauss Transform Code"
   ]
  },
  {
   "cell_type": "code",
   "execution_count": 20,
   "id": "c86cfe3a",
   "metadata": {},
   "outputs": [],
   "source": [
    "from jlt.linearMapping import calculate_R\n",
    "JLT_matrices={}\n",
    "for i in range(10):\n",
    "    JLT_matrices[str(i)]=calculate_R(28,k=12,s=1,random_seed=21,swr=True)\n"
   ]
  },
  {
   "cell_type": "code",
   "execution_count": 21,
   "id": "45b1d765",
   "metadata": {},
   "outputs": [],
   "source": [
    "# we conduct the same experiment to do random SVD\n",
    "U_JLT={}\n",
    "S_JLT={}\n",
    "V_JLT={}\n",
    "for i in range(10):\n",
    "    U_JLT[str(i)],S_JLT[str(i)],V_JLT[str(i)]=randomized_svd(x_train[str(i)][0],12,JLT_matrices[str(i)].toarray().T,3)\n"
   ]
  },
  {
   "cell_type": "code",
   "execution_count": 22,
   "id": "02488175",
   "metadata": {},
   "outputs": [],
   "source": [
    "#Compute relevant Error\n",
    "Errors_JLT=[]\n",
    "for i in range(10):\n",
    "    approx_JLT=U_JLT[str(i)]@np.diag(S_JLT[str(i)])@V_JLT[str(i)]\n",
    "    Errors_JLT.append(np.linalg.norm(approx_JLT-x_train[str(i)][0],'fro')**2/np.linalg.norm(x_train[str(i)][0],'fro')**2)"
   ]
  },
  {
   "cell_type": "markdown",
   "id": "5c7347d5",
   "metadata": {},
   "source": [
    "## Clarkson_Woodruff"
   ]
  },
  {
   "cell_type": "code",
   "execution_count": 23,
   "id": "0eee6a71",
   "metadata": {},
   "outputs": [],
   "source": [
    "from sketching import cwt_sketch_matrix\n",
    "cwt_sketch_matrices={}\n",
    "for i in range(10):\n",
    "    cwt_sketch_matrices[str(i)]=cwt_sketch_matrix(28,12,rng=None)"
   ]
  },
  {
   "cell_type": "code",
   "execution_count": 26,
   "id": "b51b9a33",
   "metadata": {},
   "outputs": [],
   "source": [
    "# we conduct the same experiment to do random SVD\n",
    "U_cwt={}\n",
    "S_cwt={}\n",
    "V_cwt={}\n",
    "for i in range(10):\n",
    "    U_cwt[str(i)],S_cwt[str(i)],V_cwt[str(i)]=randomized_svd(x_train[str(i)][0],12,cwt_sketch_matrices[str(i)].toarray(),3)\n"
   ]
  },
  {
   "cell_type": "code",
   "execution_count": 28,
   "id": "59792fbb",
   "metadata": {},
   "outputs": [],
   "source": [
    "#Compute Relative Error\n",
    "#Compute relevant Error\n",
    "Errors_cwt=[]\n",
    "for i in range(10):\n",
    "    approx_cwt=U_cwt[str(i)]@np.diag(S_cwt[str(i)])@V_cwt[str(i)]\n",
    "    Errors_cwt.append(np.linalg.norm(approx_cwt-x_train[str(i)][0],'fro')**2/np.linalg.norm(x_train[str(i)][0],'fro')**2)"
   ]
  },
  {
   "cell_type": "markdown",
   "id": "d61e6396",
   "metadata": {},
   "source": [
    "# Visualization"
   ]
  },
  {
   "cell_type": "code",
   "execution_count": 29,
   "id": "79ab58aa",
   "metadata": {},
   "outputs": [],
   "source": [
    "# Combine all those relative errors that we computed\n",
    "errors=np.vstack((Errors_uniform,Errors_gaussian,Errors_cwt,Errors_rademacher,Errors_JLT)).T"
   ]
  },
  {
   "cell_type": "code",
   "execution_count": 30,
   "id": "ed266d0a",
   "metadata": {},
   "outputs": [
    {
     "data": {
      "image/png": "[encoded data removed]",
      "text/plain": [
       "<Figure size 640x480 with 1 Axes>"
      ]
     },
     "metadata": {},
     "output_type": "display_data"
    }
   ],
   "source": [
    "#We try to do some boxplots\n",
    "#Considering relevant Error\n",
    "import matplotlib.pyplot as plt\n",
    "labels=['uniform','gaussian','cwt','rademacher','JLT']\n",
    "colors=['red','yellow','green','blue','purple']\n",
    "fig,ax=plt.subplots()\n",
    "ax.set_ylabel('relative_error')\n",
    "\n",
    "bplot=ax.boxplot(errors, patch_artist=True,labels=labels)\n",
    "\n",
    "for patch, color in zip(bplot['boxes'],colors):\n",
    "    patch.set_facecolor(color)\n",
    "plt.show()"
   ]
  },
  {
   "cell_type": "code",
   "execution_count": null,
   "id": "3663f831",
   "metadata": {},
   "outputs": [],
   "source": []
  }
 ],
 "metadata": {
  "kernelspec": {
   "display_name": "d2l",
   "language": "python",
   "name": "python3"
  },
  "language_info": {
   "codemirror_mode": {
    "name": "ipython",
    "version": 3
   },
   "file_extension": ".py",
   "mimetype": "text/x-python",
   "name": "python",
   "nbconvert_exporter": "python",
   "pygments_lexer": "ipython3",
   "version": "3.10.8"
  }
 },
 "nbformat": 4,
 "nbformat_minor": 5
}
